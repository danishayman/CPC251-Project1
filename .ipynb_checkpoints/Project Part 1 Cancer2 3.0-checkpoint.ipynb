{
 "cells": [
  {
   "cell_type": "markdown",
   "metadata": {},
   "source": [
    "#### Instruction (Read this)\n",
    "- Use this template to develop your project. Do not change the steps. \n",
    "- For each step, you may add additional cells if needed.\n",
    "- But remove <b>unnecessary</b> cells to ensure the notebook is readable.\n",
    "- Marks will be <b>deducted</b> if the notebook is cluttered or difficult to follow due to excess or irrelevant content.\n",
    "- <b>Briefly</b> describe the steps in the \"Description:\" field.\n",
    "- <b>Do not</b> submit the dataset. \n",
    "- The submitted jupyter notebook will be executed using the uploaded dataset in eLearn."
   ]
  },
  {
   "cell_type": "markdown",
   "metadata": {},
   "source": [
    "## Introduction\n",
    "\n",
    "Our model is specifically designed to assist in determining whether an individual is at risk of having cervical cancer. We employ both Decision Tree and Support Vector Machine (SVM) algorithms to assess the likelihood of the illness being present or absent. We then choose which model is the best suited to tackle this binary classification problem, where the outcome is either the presence or absence of cervical cancer."
   ]
  },
  {
   "cell_type": "markdown",
   "metadata": {},
   "source": [
    "#### Group Information\n",
    "\n",
    "Group No: Cancer2\n",
    "\n",
    "- Member 1:MUHAMMAD DANISH AIMAN BIN MUHAMMAD NAZIR\n",
    "- Member 2:MUHAMMAD AMMAR BIN ADNAN 160932\n",
    "- Member 3:ARDY QAWI BIN HASHIM\n",
    "- Member 4:MAHDIL ASHRONIE BIN MUHAMAD MURTADZA\n"
   ]
  },
  {
   "cell_type": "markdown",
   "metadata": {},
   "source": [
    "#### Import libraries"
   ]
  },
  {
   "cell_type": "code",
   "execution_count": 1,
   "metadata": {},
   "outputs": [],
   "source": [
    "%config Completer.use_jedi=False # comment if not needed\n",
    "import pandas as pd\n",
    "import numpy as np\n",
    "import warnings\n",
    "from sklearn.model_selection import train_test_split\n",
    "from sklearn.preprocessing import MinMaxScaler, StandardScaler\n",
    "warnings.filterwarnings('ignore')"
   ]
  },
  {
   "cell_type": "markdown",
   "metadata": {},
   "source": [
    "#### Load the dataset"
   ]
  },
  {
   "cell_type": "code",
   "execution_count": 2,
   "metadata": {},
   "outputs": [],
   "source": [
    "df = pd.read_csv('risk_factors.csv', na_values='?')"
   ]
  },
  {
   "cell_type": "code",
   "execution_count": 3,
   "metadata": {},
   "outputs": [
    {
     "data": {
      "text/html": [
       "<div>\n",
       "<style scoped>\n",
       "    .dataframe tbody tr th:only-of-type {\n",
       "        vertical-align: middle;\n",
       "    }\n",
       "\n",
       "    .dataframe tbody tr th {\n",
       "        vertical-align: top;\n",
       "    }\n",
       "\n",
       "    .dataframe thead th {\n",
       "        text-align: right;\n",
       "    }\n",
       "</style>\n",
       "<table border=\"1\" class=\"dataframe\">\n",
       "  <thead>\n",
       "    <tr style=\"text-align: right;\">\n",
       "      <th></th>\n",
       "      <th>Age</th>\n",
       "      <th>Number of sexual partners</th>\n",
       "      <th>First sexual intercourse</th>\n",
       "      <th>Num of pregnancies</th>\n",
       "      <th>Smokes</th>\n",
       "      <th>Smokes (years)</th>\n",
       "      <th>Smokes (packs/year)</th>\n",
       "      <th>Hormonal Contraceptives</th>\n",
       "      <th>Hormonal Contraceptives (years)</th>\n",
       "      <th>IUD</th>\n",
       "      <th>...</th>\n",
       "      <th>STDs: Time since first diagnosis</th>\n",
       "      <th>STDs: Time since last diagnosis</th>\n",
       "      <th>Dx:Cancer</th>\n",
       "      <th>Dx:CIN</th>\n",
       "      <th>Dx:HPV</th>\n",
       "      <th>Dx</th>\n",
       "      <th>Hinselmann</th>\n",
       "      <th>Schiller</th>\n",
       "      <th>Citology</th>\n",
       "      <th>Biopsy</th>\n",
       "    </tr>\n",
       "  </thead>\n",
       "  <tbody>\n",
       "    <tr>\n",
       "      <th>426</th>\n",
       "      <td>18</td>\n",
       "      <td>7.0</td>\n",
       "      <td>16.0</td>\n",
       "      <td>1.0</td>\n",
       "      <td>1.0</td>\n",
       "      <td>5.0</td>\n",
       "      <td>5.0</td>\n",
       "      <td>1.0</td>\n",
       "      <td>2.00</td>\n",
       "      <td>0.0</td>\n",
       "      <td>...</td>\n",
       "      <td>3.0</td>\n",
       "      <td>3.0</td>\n",
       "      <td>0</td>\n",
       "      <td>0</td>\n",
       "      <td>0</td>\n",
       "      <td>0</td>\n",
       "      <td>0</td>\n",
       "      <td>0</td>\n",
       "      <td>0</td>\n",
       "      <td>0</td>\n",
       "    </tr>\n",
       "    <tr>\n",
       "      <th>8</th>\n",
       "      <td>45</td>\n",
       "      <td>1.0</td>\n",
       "      <td>20.0</td>\n",
       "      <td>5.0</td>\n",
       "      <td>0.0</td>\n",
       "      <td>0.0</td>\n",
       "      <td>0.0</td>\n",
       "      <td>0.0</td>\n",
       "      <td>0.00</td>\n",
       "      <td>0.0</td>\n",
       "      <td>...</td>\n",
       "      <td>NaN</td>\n",
       "      <td>NaN</td>\n",
       "      <td>1</td>\n",
       "      <td>0</td>\n",
       "      <td>1</td>\n",
       "      <td>1</td>\n",
       "      <td>0</td>\n",
       "      <td>0</td>\n",
       "      <td>0</td>\n",
       "      <td>0</td>\n",
       "    </tr>\n",
       "    <tr>\n",
       "      <th>127</th>\n",
       "      <td>29</td>\n",
       "      <td>2.0</td>\n",
       "      <td>14.0</td>\n",
       "      <td>4.0</td>\n",
       "      <td>0.0</td>\n",
       "      <td>0.0</td>\n",
       "      <td>0.0</td>\n",
       "      <td>0.0</td>\n",
       "      <td>0.00</td>\n",
       "      <td>1.0</td>\n",
       "      <td>...</td>\n",
       "      <td>NaN</td>\n",
       "      <td>NaN</td>\n",
       "      <td>0</td>\n",
       "      <td>0</td>\n",
       "      <td>0</td>\n",
       "      <td>0</td>\n",
       "      <td>0</td>\n",
       "      <td>0</td>\n",
       "      <td>0</td>\n",
       "      <td>0</td>\n",
       "    </tr>\n",
       "    <tr>\n",
       "      <th>310</th>\n",
       "      <td>23</td>\n",
       "      <td>2.0</td>\n",
       "      <td>18.0</td>\n",
       "      <td>1.0</td>\n",
       "      <td>0.0</td>\n",
       "      <td>0.0</td>\n",
       "      <td>0.0</td>\n",
       "      <td>1.0</td>\n",
       "      <td>0.58</td>\n",
       "      <td>0.0</td>\n",
       "      <td>...</td>\n",
       "      <td>NaN</td>\n",
       "      <td>NaN</td>\n",
       "      <td>0</td>\n",
       "      <td>0</td>\n",
       "      <td>0</td>\n",
       "      <td>0</td>\n",
       "      <td>0</td>\n",
       "      <td>0</td>\n",
       "      <td>0</td>\n",
       "      <td>0</td>\n",
       "    </tr>\n",
       "    <tr>\n",
       "      <th>829</th>\n",
       "      <td>34</td>\n",
       "      <td>3.0</td>\n",
       "      <td>14.0</td>\n",
       "      <td>4.0</td>\n",
       "      <td>0.0</td>\n",
       "      <td>0.0</td>\n",
       "      <td>0.0</td>\n",
       "      <td>0.0</td>\n",
       "      <td>0.00</td>\n",
       "      <td>0.0</td>\n",
       "      <td>...</td>\n",
       "      <td>NaN</td>\n",
       "      <td>NaN</td>\n",
       "      <td>0</td>\n",
       "      <td>0</td>\n",
       "      <td>0</td>\n",
       "      <td>0</td>\n",
       "      <td>0</td>\n",
       "      <td>0</td>\n",
       "      <td>0</td>\n",
       "      <td>0</td>\n",
       "    </tr>\n",
       "    <tr>\n",
       "      <th>838</th>\n",
       "      <td>35</td>\n",
       "      <td>3.0</td>\n",
       "      <td>18.0</td>\n",
       "      <td>3.0</td>\n",
       "      <td>0.0</td>\n",
       "      <td>0.0</td>\n",
       "      <td>0.0</td>\n",
       "      <td>1.0</td>\n",
       "      <td>5.00</td>\n",
       "      <td>0.0</td>\n",
       "      <td>...</td>\n",
       "      <td>NaN</td>\n",
       "      <td>NaN</td>\n",
       "      <td>0</td>\n",
       "      <td>0</td>\n",
       "      <td>0</td>\n",
       "      <td>0</td>\n",
       "      <td>0</td>\n",
       "      <td>0</td>\n",
       "      <td>0</td>\n",
       "      <td>0</td>\n",
       "    </tr>\n",
       "    <tr>\n",
       "      <th>721</th>\n",
       "      <td>34</td>\n",
       "      <td>1.0</td>\n",
       "      <td>15.0</td>\n",
       "      <td>4.0</td>\n",
       "      <td>0.0</td>\n",
       "      <td>0.0</td>\n",
       "      <td>0.0</td>\n",
       "      <td>0.0</td>\n",
       "      <td>0.00</td>\n",
       "      <td>0.0</td>\n",
       "      <td>...</td>\n",
       "      <td>NaN</td>\n",
       "      <td>NaN</td>\n",
       "      <td>0</td>\n",
       "      <td>0</td>\n",
       "      <td>0</td>\n",
       "      <td>0</td>\n",
       "      <td>0</td>\n",
       "      <td>0</td>\n",
       "      <td>0</td>\n",
       "      <td>0</td>\n",
       "    </tr>\n",
       "    <tr>\n",
       "      <th>5</th>\n",
       "      <td>42</td>\n",
       "      <td>3.0</td>\n",
       "      <td>23.0</td>\n",
       "      <td>2.0</td>\n",
       "      <td>0.0</td>\n",
       "      <td>0.0</td>\n",
       "      <td>0.0</td>\n",
       "      <td>0.0</td>\n",
       "      <td>0.00</td>\n",
       "      <td>0.0</td>\n",
       "      <td>...</td>\n",
       "      <td>NaN</td>\n",
       "      <td>NaN</td>\n",
       "      <td>0</td>\n",
       "      <td>0</td>\n",
       "      <td>0</td>\n",
       "      <td>0</td>\n",
       "      <td>0</td>\n",
       "      <td>0</td>\n",
       "      <td>0</td>\n",
       "      <td>0</td>\n",
       "    </tr>\n",
       "    <tr>\n",
       "      <th>669</th>\n",
       "      <td>38</td>\n",
       "      <td>3.0</td>\n",
       "      <td>22.0</td>\n",
       "      <td>2.0</td>\n",
       "      <td>NaN</td>\n",
       "      <td>NaN</td>\n",
       "      <td>NaN</td>\n",
       "      <td>1.0</td>\n",
       "      <td>3.00</td>\n",
       "      <td>1.0</td>\n",
       "      <td>...</td>\n",
       "      <td>NaN</td>\n",
       "      <td>NaN</td>\n",
       "      <td>1</td>\n",
       "      <td>0</td>\n",
       "      <td>1</td>\n",
       "      <td>1</td>\n",
       "      <td>0</td>\n",
       "      <td>1</td>\n",
       "      <td>0</td>\n",
       "      <td>0</td>\n",
       "    </tr>\n",
       "    <tr>\n",
       "      <th>652</th>\n",
       "      <td>59</td>\n",
       "      <td>2.0</td>\n",
       "      <td>13.0</td>\n",
       "      <td>NaN</td>\n",
       "      <td>0.0</td>\n",
       "      <td>0.0</td>\n",
       "      <td>0.0</td>\n",
       "      <td>0.0</td>\n",
       "      <td>0.00</td>\n",
       "      <td>1.0</td>\n",
       "      <td>...</td>\n",
       "      <td>NaN</td>\n",
       "      <td>NaN</td>\n",
       "      <td>0</td>\n",
       "      <td>1</td>\n",
       "      <td>0</td>\n",
       "      <td>1</td>\n",
       "      <td>0</td>\n",
       "      <td>0</td>\n",
       "      <td>0</td>\n",
       "      <td>0</td>\n",
       "    </tr>\n",
       "  </tbody>\n",
       "</table>\n",
       "<p>10 rows × 36 columns</p>\n",
       "</div>"
      ],
      "text/plain": [
       "     Age  Number of sexual partners  First sexual intercourse  \\\n",
       "426   18                        7.0                      16.0   \n",
       "8     45                        1.0                      20.0   \n",
       "127   29                        2.0                      14.0   \n",
       "310   23                        2.0                      18.0   \n",
       "829   34                        3.0                      14.0   \n",
       "838   35                        3.0                      18.0   \n",
       "721   34                        1.0                      15.0   \n",
       "5     42                        3.0                      23.0   \n",
       "669   38                        3.0                      22.0   \n",
       "652   59                        2.0                      13.0   \n",
       "\n",
       "     Num of pregnancies  Smokes  Smokes (years)  Smokes (packs/year)  \\\n",
       "426                 1.0     1.0             5.0                  5.0   \n",
       "8                   5.0     0.0             0.0                  0.0   \n",
       "127                 4.0     0.0             0.0                  0.0   \n",
       "310                 1.0     0.0             0.0                  0.0   \n",
       "829                 4.0     0.0             0.0                  0.0   \n",
       "838                 3.0     0.0             0.0                  0.0   \n",
       "721                 4.0     0.0             0.0                  0.0   \n",
       "5                   2.0     0.0             0.0                  0.0   \n",
       "669                 2.0     NaN             NaN                  NaN   \n",
       "652                 NaN     0.0             0.0                  0.0   \n",
       "\n",
       "     Hormonal Contraceptives  Hormonal Contraceptives (years)  IUD  ...  \\\n",
       "426                      1.0                             2.00  0.0  ...   \n",
       "8                        0.0                             0.00  0.0  ...   \n",
       "127                      0.0                             0.00  1.0  ...   \n",
       "310                      1.0                             0.58  0.0  ...   \n",
       "829                      0.0                             0.00  0.0  ...   \n",
       "838                      1.0                             5.00  0.0  ...   \n",
       "721                      0.0                             0.00  0.0  ...   \n",
       "5                        0.0                             0.00  0.0  ...   \n",
       "669                      1.0                             3.00  1.0  ...   \n",
       "652                      0.0                             0.00  1.0  ...   \n",
       "\n",
       "     STDs: Time since first diagnosis  STDs: Time since last diagnosis  \\\n",
       "426                               3.0                              3.0   \n",
       "8                                 NaN                              NaN   \n",
       "127                               NaN                              NaN   \n",
       "310                               NaN                              NaN   \n",
       "829                               NaN                              NaN   \n",
       "838                               NaN                              NaN   \n",
       "721                               NaN                              NaN   \n",
       "5                                 NaN                              NaN   \n",
       "669                               NaN                              NaN   \n",
       "652                               NaN                              NaN   \n",
       "\n",
       "     Dx:Cancer  Dx:CIN  Dx:HPV  Dx  Hinselmann  Schiller  Citology  Biopsy  \n",
       "426          0       0       0   0           0         0         0       0  \n",
       "8            1       0       1   1           0         0         0       0  \n",
       "127          0       0       0   0           0         0         0       0  \n",
       "310          0       0       0   0           0         0         0       0  \n",
       "829          0       0       0   0           0         0         0       0  \n",
       "838          0       0       0   0           0         0         0       0  \n",
       "721          0       0       0   0           0         0         0       0  \n",
       "5            0       0       0   0           0         0         0       0  \n",
       "669          1       0       1   1           0         1         0       0  \n",
       "652          0       1       0   1           0         0         0       0  \n",
       "\n",
       "[10 rows x 36 columns]"
      ]
     },
     "execution_count": 3,
     "metadata": {},
     "output_type": "execute_result"
    }
   ],
   "source": [
    "df.shape\n",
    "df.sample(10)"
   ]
  },
  {
   "cell_type": "markdown",
   "metadata": {},
   "source": [
    "#### Split the dataset\n",
    "Split the dataset into training, validation and test sets."
   ]
  },
  {
   "cell_type": "code",
   "execution_count": 4,
   "metadata": {},
   "outputs": [],
   "source": [
    "y = df[['Hinselmann', 'Schiller', 'Citology', 'Biopsy']]\n",
    "X = df.drop(['Hinselmann', 'Schiller', 'Citology', 'Biopsy'], axis=1)\n",
    "scaler = StandardScaler()\n",
    "X_transform = scaler.fit_transform(X)\n"
   ]
  },
  {
   "cell_type": "code",
   "execution_count": 5,
   "metadata": {},
   "outputs": [
    {
     "name": "stdout",
     "output_type": "stream",
     "text": [
      "(480, 32)\n",
      "(120, 32)\n",
      "(258, 32)\n"
     ]
    }
   ],
   "source": [
    "seed_num = 10\n",
    "X_train, X_test, y_train, y_test = train_test_split(X_transform, y, test_size=0.3, random_state=seed_num) # random_state is set to a value for reproducible␣output.\n",
    "X_train, X_val, y_train, y_val = train_test_split(X_train, y_train, test_size=0.2, random_state=seed_num)\n",
    "print(X_train.shape)\n",
    "print(X_val.shape)\n",
    "print(X_test.shape)"
   ]
  },
  {
   "cell_type": "markdown",
   "metadata": {},
   "source": [
    "#### Data preprocessing\n",
    "Perform data preprocessing such as normalization, standardization, label encoding etc.\n",
    "______________________________________________________________________________________\n",
    "Description:"
   ]
  },
  {
   "cell_type": "markdown",
   "metadata": {},
   "source": [
    "##### Handling Boolean Values"
   ]
  },
  {
   "cell_type": "code",
   "execution_count": 6,
   "metadata": {},
   "outputs": [],
   "source": [
    "# Convert boolean-like columns to proper boolean data types\n",
    "boolean_cols = [\n",
    "    'Smokes', 'Smokes (years)', 'Smokes (packs/year)', 'Hormonal Contraceptives', 'IUD',\n",
    "    'STDs', 'STDs:condylomatosis', 'STDs:cervical condylomatosis', 'STDs:vaginal condylomatosis',\n",
    "    'STDs:vulvo-perineal condylomatosis', 'STDs:syphilis', 'STDs:pelvic inflammatory disease',\n",
    "    'STDs:genital herpes', 'STDs:molluscum contagiosum', 'STDs:AIDS', 'STDs:HIV', 'STDs:Hepatitis B',\n",
    "    'STDs:HPV', 'Dx:Cancer', 'Dx:CIN', 'Dx:HPV', 'Dx', 'Hinselmann', 'Schiller', 'Citology', 'Biopsy'\n",
    "]\n",
    "\n",
    "# Convert boolean-like columns to numeric\n",
    "df[boolean_cols] = df[boolean_cols].apply(pd.to_numeric, errors='coerce')\n",
    "\n",
    "# Replace values greater than 0 with 1, leave missing values untouched\n",
    "df[boolean_cols] = df[boolean_cols].applymap(lambda x: 1 if x > 0 else x)\n"
   ]
  },
  {
   "cell_type": "markdown",
   "metadata": {},
   "source": [
    "##### Check for the sum of missing values"
   ]
  },
  {
   "cell_type": "code",
   "execution_count": 7,
   "metadata": {},
   "outputs": [
    {
     "name": "stdout",
     "output_type": "stream",
     "text": [
      "Age                                     0\n",
      "Number of sexual partners              26\n",
      "First sexual intercourse                7\n",
      "Num of pregnancies                     56\n",
      "Smokes                                 13\n",
      "Smokes (years)                         13\n",
      "Smokes (packs/year)                    13\n",
      "Hormonal Contraceptives               108\n",
      "Hormonal Contraceptives (years)       108\n",
      "IUD                                   117\n",
      "IUD (years)                           117\n",
      "STDs                                  105\n",
      "STDs (number)                         105\n",
      "STDs:condylomatosis                   105\n",
      "STDs:cervical condylomatosis          105\n",
      "STDs:vaginal condylomatosis           105\n",
      "STDs:vulvo-perineal condylomatosis    105\n",
      "STDs:syphilis                         105\n",
      "STDs:pelvic inflammatory disease      105\n",
      "STDs:genital herpes                   105\n",
      "STDs:molluscum contagiosum            105\n",
      "STDs:AIDS                             105\n",
      "STDs:HIV                              105\n",
      "STDs:Hepatitis B                      105\n",
      "STDs:HPV                              105\n",
      "STDs: Number of diagnosis               0\n",
      "STDs: Time since first diagnosis      787\n",
      "STDs: Time since last diagnosis       787\n",
      "Dx:Cancer                               0\n",
      "Dx:CIN                                  0\n",
      "Dx:HPV                                  0\n",
      "Dx                                      0\n",
      "Hinselmann                              0\n",
      "Schiller                                0\n",
      "Citology                                0\n",
      "Biopsy                                  0\n",
      "dtype: int64\n"
     ]
    }
   ],
   "source": [
    "print(df.isnull().sum())"
   ]
  },
  {
   "cell_type": "markdown",
   "metadata": {},
   "source": [
    "##### Dropping Columns with too high missing values"
   ]
  },
  {
   "cell_type": "code",
   "execution_count": 8,
   "metadata": {},
   "outputs": [
    {
     "name": "stdout",
     "output_type": "stream",
     "text": [
      "Age                                     0\n",
      "Number of sexual partners              26\n",
      "First sexual intercourse                7\n",
      "Num of pregnancies                     56\n",
      "Smokes                                 13\n",
      "Smokes (years)                         13\n",
      "Smokes (packs/year)                    13\n",
      "Hormonal Contraceptives               108\n",
      "Hormonal Contraceptives (years)       108\n",
      "IUD                                   117\n",
      "IUD (years)                           117\n",
      "STDs                                  105\n",
      "STDs (number)                         105\n",
      "STDs:condylomatosis                   105\n",
      "STDs:cervical condylomatosis          105\n",
      "STDs:vaginal condylomatosis           105\n",
      "STDs:vulvo-perineal condylomatosis    105\n",
      "STDs:syphilis                         105\n",
      "STDs:pelvic inflammatory disease      105\n",
      "STDs:genital herpes                   105\n",
      "STDs:molluscum contagiosum            105\n",
      "STDs:AIDS                             105\n",
      "STDs:HIV                              105\n",
      "STDs:Hepatitis B                      105\n",
      "STDs:HPV                              105\n",
      "STDs: Number of diagnosis               0\n",
      "Dx:Cancer                               0\n",
      "Dx:CIN                                  0\n",
      "Dx:HPV                                  0\n",
      "Dx                                      0\n",
      "Hinselmann                              0\n",
      "Schiller                                0\n",
      "Citology                                0\n",
      "Biopsy                                  0\n",
      "dtype: int64\n"
     ]
    },
    {
     "data": {
      "text/plain": [
       "(858, 34)"
      ]
     },
     "execution_count": 8,
     "metadata": {},
     "output_type": "execute_result"
    }
   ],
   "source": [
    "# Set the threshold for dropping columns\n",
    "threshold = 0.5  #keep columns with at least 50% non-null values\n",
    "\n",
    "# Calculate the minimum number of non-null values required for each column to be retained\n",
    "min_non_null_values = len(df) * threshold\n",
    "\n",
    "# Drop columns with too many missing values\n",
    "df = df.dropna(axis=1, thresh=min_non_null_values)\n",
    "\n",
    "# Print the remaining missing values count after dropping columns\n",
    "print(df.isnull().sum())\n",
    "\n",
    "df.shape\n"
   ]
  },
  {
   "cell_type": "markdown",
   "metadata": {},
   "source": [
    "##### Dropping Rows with missing values"
   ]
  },
  {
   "cell_type": "code",
   "execution_count": 9,
   "metadata": {},
   "outputs": [
    {
     "name": "stdout",
     "output_type": "stream",
     "text": [
      "Age                                   0\n",
      "Number of sexual partners             0\n",
      "First sexual intercourse              0\n",
      "Num of pregnancies                    0\n",
      "Smokes                                0\n",
      "Smokes (years)                        0\n",
      "Smokes (packs/year)                   0\n",
      "Hormonal Contraceptives               0\n",
      "Hormonal Contraceptives (years)       0\n",
      "IUD                                   0\n",
      "IUD (years)                           0\n",
      "STDs                                  0\n",
      "STDs (number)                         0\n",
      "STDs:condylomatosis                   0\n",
      "STDs:cervical condylomatosis          0\n",
      "STDs:vaginal condylomatosis           0\n",
      "STDs:vulvo-perineal condylomatosis    0\n",
      "STDs:syphilis                         0\n",
      "STDs:pelvic inflammatory disease      0\n",
      "STDs:genital herpes                   0\n",
      "STDs:molluscum contagiosum            0\n",
      "STDs:AIDS                             0\n",
      "STDs:HIV                              0\n",
      "STDs:Hepatitis B                      0\n",
      "STDs:HPV                              0\n",
      "STDs: Number of diagnosis             0\n",
      "Dx:Cancer                             0\n",
      "Dx:CIN                                0\n",
      "Dx:HPV                                0\n",
      "Dx                                    0\n",
      "Hinselmann                            0\n",
      "Schiller                              0\n",
      "Citology                              0\n",
      "Biopsy                                0\n",
      "dtype: int64\n"
     ]
    }
   ],
   "source": [
    "# Drop rows with missing values\n",
    "df = df.dropna()\n",
    "\n",
    "# Print the remaining missing values count after dropping rows\n",
    "print(df.isnull().sum())\n",
    "\n",
    "# Print the shape of the cleaned dataset\n",
    "df.shape\n",
    "\n",
    "#export cleaned data\n",
    "df.to_csv('risk_factors_clean.csv', index=False)"
   ]
  },
  {
   "cell_type": "markdown",
   "metadata": {},
   "source": [
    "#### Feature Selection\n",
    "Perform feature selection to select the relevant features.\n",
    "______________________________________________________________________________________\n",
    "Feature Selection Using Random Forest\n",
    "\n",
    "Step 1: Loading dataset\n",
    "\n",
    "Step 2: Train Test Split\n",
    "\n",
    "Step 3: Import Random Forest Classifier module.\n",
    "\n",
    "Step 4: Training of Model"
   ]
  },
  {
   "cell_type": "code",
   "execution_count": 10,
   "metadata": {},
   "outputs": [],
   "source": [
    "df = pd.read_csv('risk_factors_clean.csv', na_values='?')"
   ]
  },
  {
   "cell_type": "code",
   "execution_count": 11,
   "metadata": {},
   "outputs": [],
   "source": [
    "y = df[['Hinselmann', 'Schiller', 'Citology', 'Biopsy']]\n",
    "X = df.drop(['Hinselmann', 'Schiller', 'Citology', 'Biopsy'], axis=1)\n",
    "scaler = StandardScaler()\n",
    "X_transform = scaler.fit_transform(X)"
   ]
  },
  {
   "cell_type": "code",
   "execution_count": 12,
   "metadata": {},
   "outputs": [],
   "source": [
    "seed_num = 10\n",
    "X_train, X_test, y_train, y_test = train_test_split(X_transform, y, test_size=0.3, random_state=seed_num) # random_state is set to a value for reproducible␣output.\n",
    "X_train, X_val, y_train, y_val = train_test_split(X_train, y_train, test_size=0.2, random_state=seed_num)"
   ]
  },
  {
   "cell_type": "code",
   "execution_count": 13,
   "metadata": {},
   "outputs": [],
   "source": [
    "from sklearn.ensemble import RandomForestClassifier"
   ]
  },
  {
   "cell_type": "code",
   "execution_count": 14,
   "metadata": {},
   "outputs": [
    {
     "name": "stdout",
     "output_type": "stream",
     "text": [
      "\n",
      "ACCURACY OF THE MODEL: 0.8557213930348259\n"
     ]
    }
   ],
   "source": [
    "# creating a RF classifier\n",
    "clf = RandomForestClassifier(n_estimators = 100)  \n",
    " \n",
    "# Training the model on the training dataset\n",
    "# fit function is used to train the model using the training sets as parameters\n",
    "clf.fit(X_train, y_train)\n",
    " \n",
    "# performing predictions on the test dataset\n",
    "y_pred = clf.predict(X_test)\n",
    " \n",
    "# metrics are used to find accuracy or error\n",
    "from sklearn import metrics  \n",
    "print()\n",
    " \n",
    "# using metrics module for accuracy calculation\n",
    "print(\"ACCURACY OF THE MODEL:\", metrics.accuracy_score(y_test, y_pred))"
   ]
  },
  {
   "cell_type": "code",
   "execution_count": 15,
   "metadata": {},
   "outputs": [
    {
     "data": {
      "text/plain": [
       "Age                                   0.207319\n",
       "Hormonal Contraceptives (years)       0.172283\n",
       "First sexual intercourse              0.153958\n",
       "Number of sexual partners             0.112003\n",
       "Num of pregnancies                    0.100335\n",
       "IUD (years)                           0.029649\n",
       "Dx:HPV                                0.026525\n",
       "Dx                                    0.025179\n",
       "Dx:Cancer                             0.024241\n",
       "Hormonal Contraceptives               0.024220\n",
       "IUD                                   0.018414\n",
       "STDs (number)                         0.015481\n",
       "STDs:HIV                              0.015013\n",
       "Smokes (years)                        0.013743\n",
       "Smokes (packs/year)                   0.011939\n",
       "Smokes                                0.011704\n",
       "STDs:condylomatosis                   0.008515\n",
       "STDs: Number of diagnosis             0.007681\n",
       "STDs                                  0.006740\n",
       "STDs:vulvo-perineal condylomatosis    0.006403\n",
       "Dx:CIN                                0.004336\n",
       "STDs:vaginal condylomatosis           0.002013\n",
       "STDs:syphilis                         0.001100\n",
       "STDs:HPV                              0.000652\n",
       "STDs:pelvic inflammatory disease      0.000354\n",
       "STDs:Hepatitis B                      0.000166\n",
       "STDs:molluscum contagiosum            0.000037\n",
       "STDs:AIDS                             0.000000\n",
       "STDs:cervical condylomatosis          0.000000\n",
       "STDs:genital herpes                   0.000000\n",
       "dtype: float64"
      ]
     },
     "execution_count": 15,
     "metadata": {},
     "output_type": "execute_result"
    }
   ],
   "source": [
    "feature_imp = pd.Series(clf.feature_importances_, index = X.columns).sort_values(ascending = False)\n",
    "feature_imp ##print the features significant in ascending order"
   ]
  },
  {
   "cell_type": "code",
   "execution_count": 16,
   "metadata": {},
   "outputs": [],
   "source": [
    "##Take 5 most important features\n",
    "X = df[['Age','First sexual intercourse', 'Hormonal Contraceptives (years)', 'Number of sexual partners', 'Num of pregnancies']]\n",
    "X_transform = scaler.fit_transform(X)\n",
    "\n",
    "seed_num = 10\n",
    "X_train, X_test, y_train, y_test = train_test_split(X_transform, y, test_size=0.3, random_state=seed_num) # random_state is set to a value for reproducible␣output\n",
    "X_train, X_val, y_train, y_val = train_test_split(X_train, y_train, test_size=0.2, random_state=seed_num)"
   ]
  },
  {
   "cell_type": "code",
   "execution_count": 17,
   "metadata": {},
   "outputs": [
    {
     "name": "stdout",
     "output_type": "stream",
     "text": [
      "ACCURACY OF THE MODEL: 0.8706467661691543\n"
     ]
    }
   ],
   "source": [
    "# creating a RF classifier\n",
    "clf = RandomForestClassifier(n_estimators = 100)  \n",
    " \n",
    "# Training the model on the training dataset\n",
    "# fit function is used to train the model using the training sets as parameters\n",
    "clf.fit(X_train, y_train)\n",
    " \n",
    "# performing predictions on the test dataset\n",
    "y_pred = clf.predict(X_test)\n",
    " \n",
    "# metrics are used to find accuracy or error\n",
    "from sklearn import metrics\n",
    " \n",
    "# using metrics module for accuracy calculation\n",
    "print(\"ACCURACY OF THE MODEL:\", metrics.accuracy_score(y_test, y_pred))"
   ]
  },
  {
   "cell_type": "markdown",
   "metadata": {},
   "source": [
    "_**As the result, the accuracy of the model when we take the 5 most significant features is exactly\n",
    "the same as the accuracy of the model using all 30 features, indicating that the selected features effectively \n",
    "capture the essential information for making predictions.**_"
   ]
  },
  {
   "cell_type": "markdown",
   "metadata": {},
   "source": [
    "#### Data modeling\n",
    "Build the machine learning models. You must build atleast two (2) predictive models. One of the predictive models must be either Decision Tree or Support Vector Machine.\n",
    "______________________________________________________________________________________\n",
    "Description:"
   ]
  },
  {
   "cell_type": "markdown",
   "metadata": {},
   "source": [
    "## Decision Tree"
   ]
  },
  {
   "cell_type": "code",
   "execution_count": 18,
   "metadata": {},
   "outputs": [
    {
     "data": {
      "text/plain": [
       "GridSearchCV(cv=3,\n",
       "             estimator=MultiOutputClassifier(estimator=DecisionTreeClassifier(random_state=10)),\n",
       "             n_jobs=3,\n",
       "             param_grid={'estimator__max_depth': [1, 10, 20, 30],\n",
       "                         'estimator__min_samples_leaf': [1, 2, 4],\n",
       "                         'estimator__min_samples_split': [2, 5, 10]},\n",
       "             refit='f1_micro',\n",
       "             scoring=['accuracy', 'precision_micro', 'recall_micro',\n",
       "                      'f1_micro'])"
      ]
     },
     "execution_count": 18,
     "metadata": {},
     "output_type": "execute_result"
    }
   ],
   "source": [
    "from sklearn.multioutput import MultiOutputClassifier\n",
    "from sklearn.model_selection import GridSearchCV\n",
    "from sklearn.tree import DecisionTreeClassifier,DecisionTreeRegressor\n",
    "import matplotlib.pyplot as plt\n",
    "\n",
    "parameters = {\n",
    "    'estimator__max_depth': [1, 10, 20, 30],\n",
    "    'estimator__min_samples_split': [2, 5, 10],\n",
    "    'estimator__min_samples_leaf': [1, 2, 4]\n",
    "}\n",
    "\n",
    "dt_multi_model = MultiOutputClassifier(DecisionTreeClassifier(random_state=seed_num))\n",
    "dt_gsc = GridSearchCV(dt_multi_model, parameters, cv=3, scoring=['accuracy', 'precision_micro', 'recall_micro', 'f1_micro'], n_jobs=3, refit='f1_micro')\n",
    "dt_gsc.fit(X_train, y_train)"
   ]
  },
  {
   "cell_type": "code",
   "execution_count": 19,
   "metadata": {
    "scrolled": true
   },
   "outputs": [
    {
     "name": "stdout",
     "output_type": "stream",
     "text": [
      "Best parameters found: {'estimator__max_depth': 20, 'estimator__min_samples_leaf': 1, 'estimator__min_samples_split': 2}\n",
      "Best F1 score: 0.10833036984352773\n",
      "Model Accuracy with validation data: 0.6702127659574468\n"
     ]
    }
   ],
   "source": [
    "print(f\"Best parameters found: {dt_gsc.best_params_}\")\n",
    "print(f\"Best F1 score: {dt_gsc.best_score_}\")\n",
    "\n",
    "# Validate the parameter\n",
    "print(f\"Model Accuracy with validation data: {dt_gsc.best_estimator_.score(X_val, y_val)}\")"
   ]
  },
  {
   "cell_type": "markdown",
   "metadata": {},
   "source": [
    "_**Build Decision Tree model with the best parameters**_"
   ]
  },
  {
   "cell_type": "code",
   "execution_count": 20,
   "metadata": {},
   "outputs": [],
   "source": [
    "from sklearn.tree import DecisionTreeClassifier\n",
    "\n",
    "# Obtain the best parameters from hyperparameter tuning\n",
    "best_params = {'max_depth': 20}\n",
    "\n",
    "# Create a decision tree classifier with the best parameters\n",
    "best_dt_model = MultiOutputClassifier(DecisionTreeClassifier(**best_params))"
   ]
  },
  {
   "cell_type": "code",
   "execution_count": 21,
   "metadata": {},
   "outputs": [],
   "source": [
    "# Fit the model to the training data\n",
    "best_dt_model.fit(X_train, y_train)\n",
    "\n",
    "# Make predictions on the test set\n",
    "dt_y_pred = best_dt_model.predict(X_test)"
   ]
  },
  {
   "cell_type": "markdown",
   "metadata": {},
   "source": [
    "## Support Vector Machine"
   ]
  },
  {
   "cell_type": "code",
   "execution_count": 22,
   "metadata": {},
   "outputs": [
    {
     "data": {
      "text/plain": [
       "{'mean_fit_time': array([0.00433326, 0.00500075, 0.00466752, 0.00533398, 0.00466633,\n",
       "        0.00500027, 0.00466665, 0.00528844, 0.00438277, 0.00498009,\n",
       "        0.00451605, 0.00566649, 0.00466593, 0.00499956, 0.00466696,\n",
       "        0.00533477, 0.00467841, 0.00534407, 0.00537682, 0.00534328,\n",
       "        0.00533168, 0.00533446, 0.00550381, 0.00568763]),\n",
       " 'std_fit_time': array([4.71370354e-04, 4.49566384e-07, 4.72045707e-04, 4.71482786e-04,\n",
       "        4.71538951e-04, 2.97360213e-07, 4.71258002e-04, 9.12911398e-04,\n",
       "        4.40580432e-04, 1.84236430e-04, 4.08661423e-04, 4.71370354e-04,\n",
       "        4.70584257e-04, 2.97360213e-07, 4.71482745e-04, 4.71764216e-04,\n",
       "        4.79608364e-04, 4.64028968e-04, 5.10659315e-04, 4.85307068e-04,\n",
       "        4.71258967e-04, 4.70641026e-04, 4.14745107e-04, 4.55213201e-04]),\n",
       " 'mean_score_time': array([0.00466609, 0.00499884, 0.00466569, 0.00466633, 0.00466696,\n",
       "        0.0049998 , 0.00466657, 0.00472689, 0.00465608, 0.00489775,\n",
       "        0.00466696, 0.00466649, 0.00466665, 0.00501204, 0.00467896,\n",
       "        0.00472053, 0.00434367, 0.00500043, 0.00466816, 0.00501569,\n",
       "        0.00472283, 0.00502006, 0.00486239, 0.0043443 ]),\n",
       " 'std_score_time': array([4.71370354e-04, 8.99132768e-07, 4.70922236e-04, 4.71370354e-04,\n",
       "        4.71651343e-04, 2.24783192e-07, 4.71538951e-04, 5.19249429e-04,\n",
       "        3.70726554e-04, 2.84669010e-04, 4.71145571e-04, 4.71314168e-04,\n",
       "        4.71595137e-04, 1.61855605e-05, 4.78324993e-04, 4.40912231e-04,\n",
       "        4.86430867e-04, 1.12391596e-07, 4.72325692e-04, 2.03512600e-05,\n",
       "        4.87512809e-04, 1.44819526e-05, 2.48666984e-04, 4.56175198e-04]),\n",
       " 'param_estimator__C': masked_array(data=[0.1, 0.1, 0.1, 0.1, 0.1, 0.1, 0.5, 0.5, 0.5, 0.5, 0.5,\n",
       "                    0.5, 1, 1, 1, 1, 1, 1, 5, 5, 5, 5, 5, 5],\n",
       "              mask=[False, False, False, False, False, False, False, False,\n",
       "                    False, False, False, False, False, False, False, False,\n",
       "                    False, False, False, False, False, False, False, False],\n",
       "        fill_value='?',\n",
       "             dtype=object),\n",
       " 'param_estimator__coef0': masked_array(data=[0, 0, 2, 2, 5, 5, 0, 0, 2, 2, 5, 5, 0, 0, 2, 2, 5, 5,\n",
       "                    0, 0, 2, 2, 5, 5],\n",
       "              mask=[False, False, False, False, False, False, False, False,\n",
       "                    False, False, False, False, False, False, False, False,\n",
       "                    False, False, False, False, False, False, False, False],\n",
       "        fill_value='?',\n",
       "             dtype=object),\n",
       " 'param_estimator__kernel': masked_array(data=['linear', 'sigmoid', 'linear', 'sigmoid', 'linear',\n",
       "                    'sigmoid', 'linear', 'sigmoid', 'linear', 'sigmoid',\n",
       "                    'linear', 'sigmoid', 'linear', 'sigmoid', 'linear',\n",
       "                    'sigmoid', 'linear', 'sigmoid', 'linear', 'sigmoid',\n",
       "                    'linear', 'sigmoid', 'linear', 'sigmoid'],\n",
       "              mask=[False, False, False, False, False, False, False, False,\n",
       "                    False, False, False, False, False, False, False, False,\n",
       "                    False, False, False, False, False, False, False, False],\n",
       "        fill_value='?',\n",
       "             dtype=object),\n",
       " 'params': [{'estimator__C': 0.1,\n",
       "   'estimator__coef0': 0,\n",
       "   'estimator__kernel': 'linear'},\n",
       "  {'estimator__C': 0.1, 'estimator__coef0': 0, 'estimator__kernel': 'sigmoid'},\n",
       "  {'estimator__C': 0.1, 'estimator__coef0': 2, 'estimator__kernel': 'linear'},\n",
       "  {'estimator__C': 0.1, 'estimator__coef0': 2, 'estimator__kernel': 'sigmoid'},\n",
       "  {'estimator__C': 0.1, 'estimator__coef0': 5, 'estimator__kernel': 'linear'},\n",
       "  {'estimator__C': 0.1, 'estimator__coef0': 5, 'estimator__kernel': 'sigmoid'},\n",
       "  {'estimator__C': 0.5, 'estimator__coef0': 0, 'estimator__kernel': 'linear'},\n",
       "  {'estimator__C': 0.5, 'estimator__coef0': 0, 'estimator__kernel': 'sigmoid'},\n",
       "  {'estimator__C': 0.5, 'estimator__coef0': 2, 'estimator__kernel': 'linear'},\n",
       "  {'estimator__C': 0.5, 'estimator__coef0': 2, 'estimator__kernel': 'sigmoid'},\n",
       "  {'estimator__C': 0.5, 'estimator__coef0': 5, 'estimator__kernel': 'linear'},\n",
       "  {'estimator__C': 0.5, 'estimator__coef0': 5, 'estimator__kernel': 'sigmoid'},\n",
       "  {'estimator__C': 1, 'estimator__coef0': 0, 'estimator__kernel': 'linear'},\n",
       "  {'estimator__C': 1, 'estimator__coef0': 0, 'estimator__kernel': 'sigmoid'},\n",
       "  {'estimator__C': 1, 'estimator__coef0': 2, 'estimator__kernel': 'linear'},\n",
       "  {'estimator__C': 1, 'estimator__coef0': 2, 'estimator__kernel': 'sigmoid'},\n",
       "  {'estimator__C': 1, 'estimator__coef0': 5, 'estimator__kernel': 'linear'},\n",
       "  {'estimator__C': 1, 'estimator__coef0': 5, 'estimator__kernel': 'sigmoid'},\n",
       "  {'estimator__C': 5, 'estimator__coef0': 0, 'estimator__kernel': 'linear'},\n",
       "  {'estimator__C': 5, 'estimator__coef0': 0, 'estimator__kernel': 'sigmoid'},\n",
       "  {'estimator__C': 5, 'estimator__coef0': 2, 'estimator__kernel': 'linear'},\n",
       "  {'estimator__C': 5, 'estimator__coef0': 2, 'estimator__kernel': 'sigmoid'},\n",
       "  {'estimator__C': 5, 'estimator__coef0': 5, 'estimator__kernel': 'linear'},\n",
       "  {'estimator__C': 5, 'estimator__coef0': 5, 'estimator__kernel': 'sigmoid'}],\n",
       " 'split0_test_accuracy': array([0.912, 0.912, 0.912, 0.912, 0.912, 0.912, 0.912, 0.88 , 0.912,\n",
       "        0.888, 0.912, 0.912, 0.912, 0.856, 0.912, 0.888, 0.912, 0.912,\n",
       "        0.912, 0.776, 0.912, 0.848, 0.912, 0.912]),\n",
       " 'split1_test_accuracy': array([0.83870968, 0.83870968, 0.83870968, 0.83870968, 0.83870968,\n",
       "        0.83870968, 0.83870968, 0.83064516, 0.83870968, 0.81451613,\n",
       "        0.83870968, 0.83870968, 0.83870968, 0.80645161, 0.83870968,\n",
       "        0.79032258, 0.83870968, 0.83870968, 0.83870968, 0.74193548,\n",
       "        0.83870968, 0.71774194, 0.83870968, 0.83870968]),\n",
       " 'split2_test_accuracy': array([0.85483871, 0.85483871, 0.85483871, 0.85483871, 0.85483871,\n",
       "        0.85483871, 0.85483871, 0.85483871, 0.85483871, 0.83064516,\n",
       "        0.85483871, 0.85483871, 0.85483871, 0.83870968, 0.85483871,\n",
       "        0.81451613, 0.85483871, 0.85483871, 0.85483871, 0.79032258,\n",
       "        0.85483871, 0.7983871 , 0.85483871, 0.85483871]),\n",
       " 'mean_test_accuracy': array([0.86851613, 0.86851613, 0.86851613, 0.86851613, 0.86851613,\n",
       "        0.86851613, 0.86851613, 0.85516129, 0.86851613, 0.8443871 ,\n",
       "        0.86851613, 0.86851613, 0.86851613, 0.83372043, 0.86851613,\n",
       "        0.83094624, 0.86851613, 0.86851613, 0.86851613, 0.76941935,\n",
       "        0.86851613, 0.78804301, 0.86851613, 0.86851613]),\n",
       " 'std_test_accuracy': array([0.03144489, 0.03144489, 0.03144489, 0.03144489, 0.03144489,\n",
       "        0.03144489, 0.03144489, 0.02015032, 0.03144489, 0.03153411,\n",
       "        0.03144489, 0.03144489, 0.03144489, 0.02053339, 0.03144489,\n",
       "        0.04153457, 0.03144489, 0.03144489, 0.03144489, 0.0202946 ,\n",
       "        0.03144489, 0.05367831, 0.03144489, 0.03144489]),\n",
       " 'rank_test_accuracy': array([ 1,  1,  1,  1,  1,  1,  1, 19,  1, 20,  1,  1,  1, 21,  1, 22,  1,\n",
       "         1,  1, 24,  1, 23,  1,  1]),\n",
       " 'split0_test_precision_micro': array([0., 0., 0., 0., 0., 0., 0., 0., 0., 0., 0., 0., 0., 0., 0., 0., 0.,\n",
       "        0., 0., 0., 0., 0., 0., 0.]),\n",
       " 'split1_test_precision_micro': array([0.        , 0.        , 0.        , 0.        , 0.        ,\n",
       "        0.        , 0.        , 0.25      , 0.        , 0.        ,\n",
       "        0.        , 0.        , 0.        , 0.3       , 0.        ,\n",
       "        0.        , 0.        , 0.        , 0.        , 0.11538462,\n",
       "        0.        , 0.10416667, 0.        , 0.        ]),\n",
       " 'split2_test_precision_micro': array([0., 0., 0., 0., 0., 0., 0., 0., 0., 0., 0., 0., 0., 0., 0., 0., 0.,\n",
       "        0., 0., 0., 0., 0., 0., 0.]),\n",
       " 'mean_test_precision_micro': array([0.        , 0.        , 0.        , 0.        , 0.        ,\n",
       "        0.        , 0.        , 0.08333333, 0.        , 0.        ,\n",
       "        0.        , 0.        , 0.        , 0.1       , 0.        ,\n",
       "        0.        , 0.        , 0.        , 0.        , 0.03846154,\n",
       "        0.        , 0.03472222, 0.        , 0.        ]),\n",
       " 'std_test_precision_micro': array([0.        , 0.        , 0.        , 0.        , 0.        ,\n",
       "        0.        , 0.        , 0.11785113, 0.        , 0.        ,\n",
       "        0.        , 0.        , 0.        , 0.14142136, 0.        ,\n",
       "        0.        , 0.        , 0.        , 0.        , 0.05439283,\n",
       "        0.        , 0.04910464, 0.        , 0.        ]),\n",
       " 'rank_test_precision_micro': array([5, 5, 5, 5, 5, 5, 5, 2, 5, 5, 5, 5, 5, 1, 5, 5, 5, 5, 5, 3, 5, 4,\n",
       "        5, 5]),\n",
       " 'split0_test_recall_micro': array([0., 0., 0., 0., 0., 0., 0., 0., 0., 0., 0., 0., 0., 0., 0., 0., 0.,\n",
       "        0., 0., 0., 0., 0., 0., 0.]),\n",
       " 'split1_test_recall_micro': array([0.        , 0.        , 0.        , 0.        , 0.        ,\n",
       "        0.        , 0.        , 0.02325581, 0.        , 0.        ,\n",
       "        0.        , 0.        , 0.        , 0.06976744, 0.        ,\n",
       "        0.        , 0.        , 0.        , 0.        , 0.06976744,\n",
       "        0.        , 0.11627907, 0.        , 0.        ]),\n",
       " 'split2_test_recall_micro': array([0., 0., 0., 0., 0., 0., 0., 0., 0., 0., 0., 0., 0., 0., 0., 0., 0.,\n",
       "        0., 0., 0., 0., 0., 0., 0.]),\n",
       " 'mean_test_recall_micro': array([0.        , 0.        , 0.        , 0.        , 0.        ,\n",
       "        0.        , 0.        , 0.00775194, 0.        , 0.        ,\n",
       "        0.        , 0.        , 0.        , 0.02325581, 0.        ,\n",
       "        0.        , 0.        , 0.        , 0.        , 0.02325581,\n",
       "        0.        , 0.03875969, 0.        , 0.        ]),\n",
       " 'std_test_recall_micro': array([0.        , 0.        , 0.        , 0.        , 0.        ,\n",
       "        0.        , 0.        , 0.0109629 , 0.        , 0.        ,\n",
       "        0.        , 0.        , 0.        , 0.03288869, 0.        ,\n",
       "        0.        , 0.        , 0.        , 0.        , 0.03288869,\n",
       "        0.        , 0.05481448, 0.        , 0.        ]),\n",
       " 'rank_test_recall_micro': array([5, 5, 5, 5, 5, 5, 5, 4, 5, 5, 5, 5, 5, 2, 5, 5, 5, 5, 5, 2, 5, 1,\n",
       "        5, 5]),\n",
       " 'split0_test_f1_micro': array([0., 0., 0., 0., 0., 0., 0., 0., 0., 0., 0., 0., 0., 0., 0., 0., 0.,\n",
       "        0., 0., 0., 0., 0., 0., 0.]),\n",
       " 'split1_test_f1_micro': array([0.        , 0.        , 0.        , 0.        , 0.        ,\n",
       "        0.        , 0.        , 0.04255319, 0.        , 0.        ,\n",
       "        0.        , 0.        , 0.        , 0.11320755, 0.        ,\n",
       "        0.        , 0.        , 0.        , 0.        , 0.08695652,\n",
       "        0.        , 0.10989011, 0.        , 0.        ]),\n",
       " 'split2_test_f1_micro': array([0., 0., 0., 0., 0., 0., 0., 0., 0., 0., 0., 0., 0., 0., 0., 0., 0.,\n",
       "        0., 0., 0., 0., 0., 0., 0.]),\n",
       " 'mean_test_f1_micro': array([0.        , 0.        , 0.        , 0.        , 0.        ,\n",
       "        0.        , 0.        , 0.0141844 , 0.        , 0.        ,\n",
       "        0.        , 0.        , 0.        , 0.03773585, 0.        ,\n",
       "        0.        , 0.        , 0.        , 0.        , 0.02898551,\n",
       "        0.        , 0.03663004, 0.        , 0.        ]),\n",
       " 'std_test_f1_micro': array([0.        , 0.        , 0.        , 0.        , 0.        ,\n",
       "        0.        , 0.        , 0.02005977, 0.        , 0.        ,\n",
       "        0.        , 0.        , 0.        , 0.05336655, 0.        ,\n",
       "        0.        , 0.        , 0.        , 0.        , 0.0409917 ,\n",
       "        0.        , 0.05180269, 0.        , 0.        ]),\n",
       " 'rank_test_f1_micro': array([5, 5, 5, 5, 5, 5, 5, 4, 5, 5, 5, 5, 5, 1, 5, 5, 5, 5, 5, 3, 5, 2,\n",
       "        5, 5])}"
      ]
     },
     "execution_count": 22,
     "metadata": {},
     "output_type": "execute_result"
    }
   ],
   "source": [
    "from sklearn.multioutput import MultiOutputClassifier\n",
    "from sklearn.model_selection import GridSearchCV \n",
    "from sklearn.svm import SVC\n",
    "\n",
    "parameters = {'estimator__kernel': ['linear', 'sigmoid'], 'estimator__C': [0.1, 0.5, 1, 5], 'estimator__coef0': [0, 2, 5]}\n",
    "clf = MultiOutputClassifier(SVC(random_state=seed_num))\n",
    "gsc = GridSearchCV(clf, parameters, cv=3, scoring=['accuracy', 'precision_micro', 'recall_micro', 'f1_micro'], n_jobs=3, refit='f1_micro')\n",
    "gsc.fit(X_train, y_train)\n",
    "gsc.cv_results_\n"
   ]
  },
  {
   "cell_type": "code",
   "execution_count": 23,
   "metadata": {
    "scrolled": false
   },
   "outputs": [
    {
     "name": "stdout",
     "output_type": "stream",
     "text": [
      "{'estimator__C': 1, 'estimator__coef0': 0, 'estimator__kernel': 'sigmoid'}\n",
      "0.03773584905660377\n",
      "Model Accuracy with validation data: 0.8085106382978723\n"
     ]
    }
   ],
   "source": [
    "print(gsc.best_params_)\n",
    "print(gsc.best_score_)\n",
    "# Validate the parameter\n",
    "print(f\"Model Accuracy with validation data: {gsc.best_estimator_.score(X_val, y_val)}\")"
   ]
  },
  {
   "cell_type": "markdown",
   "metadata": {},
   "source": [
    "_**Build SVM model with the best parameters**_"
   ]
  },
  {
   "cell_type": "code",
   "execution_count": 24,
   "metadata": {},
   "outputs": [],
   "source": [
    "from sklearn.svm import SVC\n",
    "C = 1\n",
    "model_svc = SVC(kernel='sigmoid', C=C)\n",
    "\n",
    "multi_target_svm = MultiOutputClassifier(model_svc)  \n",
    "\n",
    "# Fit the classifier to the data\n",
    "multi_target_svm.fit(X_train, y_train)\n",
    "\n",
    "# Predictions\n",
    "svm_y_pred = multi_target_svm.predict(X_test)"
   ]
  },
  {
   "cell_type": "markdown",
   "metadata": {},
   "source": [
    "#### Evaluate the models\n",
    "Perform a comparison between the predictive models. <br>\n",
    "Report the accuracy, recall, precision and F1-score measures as well as the confusion matrix if it is a classification problem. <br>\n",
    "Report the R2 score, mean squared error and mean absolute error if it is a regression problem.\n",
    "______________________________________________________________________________________\n",
    "Description:\n",
    "<br>\n",
    "Since the nature of this data require the need of predicting multiple targets and a classification problem, we will use **accuracy**, **recall**, **precision**, **F1-score** and **confusion matrix** to evaluate both our model. "
   ]
  },
  {
   "cell_type": "code",
   "execution_count": 25,
   "metadata": {},
   "outputs": [],
   "source": [
    "#importing all required functions \n",
    "from sklearn.metrics import classification_report, multilabel_confusion_matrix, accuracy_score"
   ]
  },
  {
   "cell_type": "markdown",
   "metadata": {},
   "source": [
    "_**Model Evaluation for Decision Tree**_"
   ]
  },
  {
   "cell_type": "code",
   "execution_count": 27,
   "metadata": {},
   "outputs": [
    {
     "name": "stdout",
     "output_type": "stream",
     "text": [
      "Accuracy:\n",
      " 0.572139303482587\n",
      "\n",
      "\n",
      "Confusion Matrix:\n",
      " [[[181  12]\n",
      "  [  7   1]]\n",
      "\n",
      " [[153  27]\n",
      "  [ 17   4]]\n",
      "\n",
      " [[165  27]\n",
      "  [  8   1]]\n",
      "\n",
      " [[170  16]\n",
      "  [ 12   3]]]\n",
      "\n",
      "\n",
      "Classification Report: \n",
      "               precision    recall  f1-score   support\n",
      "\n",
      "           0       0.08      0.12      0.10         8\n",
      "           1       0.13      0.19      0.15        21\n",
      "           2       0.04      0.11      0.05         9\n",
      "           3       0.16      0.20      0.18        15\n",
      "\n",
      "   micro avg       0.10      0.17      0.12        53\n",
      "   macro avg       0.10      0.16      0.12        53\n",
      "weighted avg       0.11      0.17      0.13        53\n",
      " samples avg       0.03      0.02      0.02        53\n",
      "\n"
     ]
    }
   ],
   "source": [
    "print('Accuracy:\\n',accuracy_score(y_test, dt_y_pred))\n",
    "print('\\n')\n",
    "print('Confusion Matrix:\\n',multilabel_confusion_matrix(y_test, dt_y_pred))\n",
    "print('\\n')\n",
    "print('Classification Report: \\n', classification_report(y_test, dt_y_pred))"
   ]
  },
  {
   "cell_type": "markdown",
   "metadata": {},
   "source": [
    "_**Model Evaluation for SVM**_"
   ]
  },
  {
   "cell_type": "code",
   "execution_count": 29,
   "metadata": {},
   "outputs": [
    {
     "name": "stdout",
     "output_type": "stream",
     "text": [
      "Accuracy:\n",
      " 0.8208955223880597\n",
      "\n",
      "\n",
      "Confusion Matrix:\n",
      " [[[190   3]\n",
      "  [  8   0]]\n",
      "\n",
      " [[172   8]\n",
      "  [ 21   0]]\n",
      "\n",
      " [[189   3]\n",
      "  [  9   0]]\n",
      "\n",
      " [[181   5]\n",
      "  [ 15   0]]]\n",
      "\n",
      "\n",
      "Classification Report: \n",
      "               precision    recall  f1-score   support\n",
      "\n",
      "           0       0.00      0.00      0.00         8\n",
      "           1       0.00      0.00      0.00        21\n",
      "           2       0.00      0.00      0.00         9\n",
      "           3       0.00      0.00      0.00        15\n",
      "\n",
      "   micro avg       0.00      0.00      0.00        53\n",
      "   macro avg       0.00      0.00      0.00        53\n",
      "weighted avg       0.00      0.00      0.00        53\n",
      " samples avg       0.00      0.00      0.00        53\n",
      "\n"
     ]
    }
   ],
   "source": [
    "print('Accuracy:\\n',accuracy_score(y_test, svm_y_pred))\n",
    "print('\\n')\n",
    "print('Confusion Matrix:\\n',multilabel_confusion_matrix(y_test, svm_y_pred))\n",
    "print('\\n')\n",
    "print('Classification Report: \\n', classification_report(y_test, svm_y_pred))"
   ]
  }
 ],
 "metadata": {
  "kernelspec": {
   "display_name": "Python 3 (ipykernel)",
   "language": "python",
   "name": "python3"
  },
  "language_info": {
   "codemirror_mode": {
    "name": "ipython",
    "version": 3
   },
   "file_extension": ".py",
   "mimetype": "text/x-python",
   "name": "python",
   "nbconvert_exporter": "python",
   "pygments_lexer": "ipython3",
   "version": "3.9.13"
  }
 },
 "nbformat": 4,
 "nbformat_minor": 4
}
