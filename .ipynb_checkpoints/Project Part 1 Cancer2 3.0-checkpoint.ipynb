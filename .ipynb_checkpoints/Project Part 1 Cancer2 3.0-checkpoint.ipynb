{
 "cells": [
  {
   "cell_type": "markdown",
   "metadata": {},
   "source": [
    "#### Instruction (Read this)\n",
    "- Use this template to develop your project. Do not change the steps. \n",
    "- For each step, you may add additional cells if needed.\n",
    "- But remove <b>unnecessary</b> cells to ensure the notebook is readable.\n",
    "- Marks will be <b>deducted</b> if the notebook is cluttered or difficult to follow due to excess or irrelevant content.\n",
    "- <b>Briefly</b> describe the steps in the \"Description:\" field.\n",
    "- <b>Do not</b> submit the dataset. \n",
    "- The submitted jupyter notebook will be executed using the uploaded dataset in eLearn."
   ]
  },
  {
   "cell_type": "markdown",
   "metadata": {},
   "source": [
    "#### Group Information\n",
    "\n",
    "Group No: Cancer2\n",
    "\n",
    "- Member 1:MUHAMMAD DANISH AIMAN BIN MUHAMMAD NAZIR\n",
    "- Member 2:MUHAMMAD AMMAR BIN ADNAN 160932\n",
    "- Member 3:ARDY QAWI BIN HASHIM\n",
    "- Member 4:MAHDIL ASHRONIE BIN MUHAMAD MURTADZA\n"
   ]
  },
  {
   "cell_type": "markdown",
   "metadata": {},
   "source": [
    "#### Import libraries"
   ]
  },
  {
   "cell_type": "code",
   "execution_count": 1,
   "metadata": {},
   "outputs": [],
   "source": [
    "%config Completer.use_jedi=False # comment if not needed\n",
    "import pandas as pd\n",
    "import numpy as np\n",
    "import warnings\n",
    "from sklearn.model_selection import train_test_split\n",
    "from sklearn.preprocessing import MinMaxScaler, StandardScaler\n",
    "warnings.filterwarnings('ignore')"
   ]
  },
  {
   "cell_type": "markdown",
   "metadata": {},
   "source": [
    "#### Load the dataset"
   ]
  },
  {
   "cell_type": "code",
   "execution_count": 2,
   "metadata": {},
   "outputs": [],
   "source": [
    "df = pd.read_csv('risk_factors.csv', na_values='?')"
   ]
  },
  {
   "cell_type": "code",
   "execution_count": 3,
   "metadata": {},
   "outputs": [
    {
     "data": {
      "text/html": [
       "<div>\n",
       "<style scoped>\n",
       "    .dataframe tbody tr th:only-of-type {\n",
       "        vertical-align: middle;\n",
       "    }\n",
       "\n",
       "    .dataframe tbody tr th {\n",
       "        vertical-align: top;\n",
       "    }\n",
       "\n",
       "    .dataframe thead th {\n",
       "        text-align: right;\n",
       "    }\n",
       "</style>\n",
       "<table border=\"1\" class=\"dataframe\">\n",
       "  <thead>\n",
       "    <tr style=\"text-align: right;\">\n",
       "      <th></th>\n",
       "      <th>Age</th>\n",
       "      <th>Number of sexual partners</th>\n",
       "      <th>First sexual intercourse</th>\n",
       "      <th>Num of pregnancies</th>\n",
       "      <th>Smokes</th>\n",
       "      <th>Smokes (years)</th>\n",
       "      <th>Smokes (packs/year)</th>\n",
       "      <th>Hormonal Contraceptives</th>\n",
       "      <th>Hormonal Contraceptives (years)</th>\n",
       "      <th>IUD</th>\n",
       "      <th>...</th>\n",
       "      <th>STDs: Time since first diagnosis</th>\n",
       "      <th>STDs: Time since last diagnosis</th>\n",
       "      <th>Dx:Cancer</th>\n",
       "      <th>Dx:CIN</th>\n",
       "      <th>Dx:HPV</th>\n",
       "      <th>Dx</th>\n",
       "      <th>Hinselmann</th>\n",
       "      <th>Schiller</th>\n",
       "      <th>Citology</th>\n",
       "      <th>Biopsy</th>\n",
       "    </tr>\n",
       "  </thead>\n",
       "  <tbody>\n",
       "    <tr>\n",
       "      <th>845</th>\n",
       "      <td>19</td>\n",
       "      <td>2.0</td>\n",
       "      <td>15.0</td>\n",
       "      <td>2.0</td>\n",
       "      <td>0.0</td>\n",
       "      <td>0.0</td>\n",
       "      <td>0.0</td>\n",
       "      <td>1.0</td>\n",
       "      <td>0.75</td>\n",
       "      <td>0.0</td>\n",
       "      <td>...</td>\n",
       "      <td>NaN</td>\n",
       "      <td>NaN</td>\n",
       "      <td>0</td>\n",
       "      <td>0</td>\n",
       "      <td>0</td>\n",
       "      <td>0</td>\n",
       "      <td>0</td>\n",
       "      <td>0</td>\n",
       "      <td>0</td>\n",
       "      <td>0</td>\n",
       "    </tr>\n",
       "    <tr>\n",
       "      <th>679</th>\n",
       "      <td>50</td>\n",
       "      <td>2.0</td>\n",
       "      <td>17.0</td>\n",
       "      <td>7.0</td>\n",
       "      <td>0.0</td>\n",
       "      <td>0.0</td>\n",
       "      <td>0.0</td>\n",
       "      <td>1.0</td>\n",
       "      <td>5.00</td>\n",
       "      <td>0.0</td>\n",
       "      <td>...</td>\n",
       "      <td>NaN</td>\n",
       "      <td>NaN</td>\n",
       "      <td>0</td>\n",
       "      <td>0</td>\n",
       "      <td>0</td>\n",
       "      <td>0</td>\n",
       "      <td>0</td>\n",
       "      <td>0</td>\n",
       "      <td>0</td>\n",
       "      <td>0</td>\n",
       "    </tr>\n",
       "    <tr>\n",
       "      <th>516</th>\n",
       "      <td>20</td>\n",
       "      <td>2.0</td>\n",
       "      <td>16.0</td>\n",
       "      <td>1.0</td>\n",
       "      <td>0.0</td>\n",
       "      <td>0.0</td>\n",
       "      <td>0.0</td>\n",
       "      <td>1.0</td>\n",
       "      <td>1.00</td>\n",
       "      <td>0.0</td>\n",
       "      <td>...</td>\n",
       "      <td>NaN</td>\n",
       "      <td>NaN</td>\n",
       "      <td>0</td>\n",
       "      <td>0</td>\n",
       "      <td>0</td>\n",
       "      <td>0</td>\n",
       "      <td>0</td>\n",
       "      <td>0</td>\n",
       "      <td>0</td>\n",
       "      <td>0</td>\n",
       "    </tr>\n",
       "    <tr>\n",
       "      <th>19</th>\n",
       "      <td>40</td>\n",
       "      <td>2.0</td>\n",
       "      <td>27.0</td>\n",
       "      <td>NaN</td>\n",
       "      <td>0.0</td>\n",
       "      <td>0.0</td>\n",
       "      <td>0.0</td>\n",
       "      <td>0.0</td>\n",
       "      <td>0.00</td>\n",
       "      <td>1.0</td>\n",
       "      <td>...</td>\n",
       "      <td>NaN</td>\n",
       "      <td>NaN</td>\n",
       "      <td>0</td>\n",
       "      <td>0</td>\n",
       "      <td>0</td>\n",
       "      <td>0</td>\n",
       "      <td>0</td>\n",
       "      <td>0</td>\n",
       "      <td>0</td>\n",
       "      <td>0</td>\n",
       "    </tr>\n",
       "    <tr>\n",
       "      <th>716</th>\n",
       "      <td>19</td>\n",
       "      <td>3.0</td>\n",
       "      <td>15.0</td>\n",
       "      <td>2.0</td>\n",
       "      <td>0.0</td>\n",
       "      <td>0.0</td>\n",
       "      <td>0.0</td>\n",
       "      <td>0.0</td>\n",
       "      <td>0.00</td>\n",
       "      <td>0.0</td>\n",
       "      <td>...</td>\n",
       "      <td>NaN</td>\n",
       "      <td>NaN</td>\n",
       "      <td>0</td>\n",
       "      <td>0</td>\n",
       "      <td>0</td>\n",
       "      <td>0</td>\n",
       "      <td>0</td>\n",
       "      <td>0</td>\n",
       "      <td>0</td>\n",
       "      <td>0</td>\n",
       "    </tr>\n",
       "    <tr>\n",
       "      <th>250</th>\n",
       "      <td>25</td>\n",
       "      <td>2.0</td>\n",
       "      <td>18.0</td>\n",
       "      <td>2.0</td>\n",
       "      <td>0.0</td>\n",
       "      <td>0.0</td>\n",
       "      <td>0.0</td>\n",
       "      <td>1.0</td>\n",
       "      <td>0.25</td>\n",
       "      <td>0.0</td>\n",
       "      <td>...</td>\n",
       "      <td>NaN</td>\n",
       "      <td>NaN</td>\n",
       "      <td>0</td>\n",
       "      <td>0</td>\n",
       "      <td>0</td>\n",
       "      <td>0</td>\n",
       "      <td>0</td>\n",
       "      <td>0</td>\n",
       "      <td>0</td>\n",
       "      <td>0</td>\n",
       "    </tr>\n",
       "    <tr>\n",
       "      <th>802</th>\n",
       "      <td>15</td>\n",
       "      <td>2.0</td>\n",
       "      <td>14.0</td>\n",
       "      <td>1.0</td>\n",
       "      <td>0.0</td>\n",
       "      <td>0.0</td>\n",
       "      <td>0.0</td>\n",
       "      <td>1.0</td>\n",
       "      <td>0.16</td>\n",
       "      <td>0.0</td>\n",
       "      <td>...</td>\n",
       "      <td>NaN</td>\n",
       "      <td>NaN</td>\n",
       "      <td>0</td>\n",
       "      <td>0</td>\n",
       "      <td>0</td>\n",
       "      <td>0</td>\n",
       "      <td>0</td>\n",
       "      <td>0</td>\n",
       "      <td>0</td>\n",
       "      <td>0</td>\n",
       "    </tr>\n",
       "    <tr>\n",
       "      <th>161</th>\n",
       "      <td>28</td>\n",
       "      <td>2.0</td>\n",
       "      <td>18.0</td>\n",
       "      <td>2.0</td>\n",
       "      <td>0.0</td>\n",
       "      <td>0.0</td>\n",
       "      <td>0.0</td>\n",
       "      <td>1.0</td>\n",
       "      <td>6.00</td>\n",
       "      <td>0.0</td>\n",
       "      <td>...</td>\n",
       "      <td>NaN</td>\n",
       "      <td>NaN</td>\n",
       "      <td>0</td>\n",
       "      <td>0</td>\n",
       "      <td>0</td>\n",
       "      <td>0</td>\n",
       "      <td>0</td>\n",
       "      <td>0</td>\n",
       "      <td>0</td>\n",
       "      <td>0</td>\n",
       "    </tr>\n",
       "    <tr>\n",
       "      <th>639</th>\n",
       "      <td>17</td>\n",
       "      <td>2.0</td>\n",
       "      <td>14.0</td>\n",
       "      <td>1.0</td>\n",
       "      <td>0.0</td>\n",
       "      <td>0.0</td>\n",
       "      <td>0.0</td>\n",
       "      <td>0.0</td>\n",
       "      <td>0.00</td>\n",
       "      <td>0.0</td>\n",
       "      <td>...</td>\n",
       "      <td>NaN</td>\n",
       "      <td>NaN</td>\n",
       "      <td>0</td>\n",
       "      <td>0</td>\n",
       "      <td>0</td>\n",
       "      <td>0</td>\n",
       "      <td>0</td>\n",
       "      <td>0</td>\n",
       "      <td>0</td>\n",
       "      <td>0</td>\n",
       "    </tr>\n",
       "    <tr>\n",
       "      <th>732</th>\n",
       "      <td>26</td>\n",
       "      <td>2.0</td>\n",
       "      <td>17.0</td>\n",
       "      <td>2.0</td>\n",
       "      <td>0.0</td>\n",
       "      <td>0.0</td>\n",
       "      <td>0.0</td>\n",
       "      <td>0.0</td>\n",
       "      <td>0.00</td>\n",
       "      <td>NaN</td>\n",
       "      <td>...</td>\n",
       "      <td>NaN</td>\n",
       "      <td>NaN</td>\n",
       "      <td>0</td>\n",
       "      <td>0</td>\n",
       "      <td>0</td>\n",
       "      <td>0</td>\n",
       "      <td>0</td>\n",
       "      <td>0</td>\n",
       "      <td>0</td>\n",
       "      <td>0</td>\n",
       "    </tr>\n",
       "  </tbody>\n",
       "</table>\n",
       "<p>10 rows × 36 columns</p>\n",
       "</div>"
      ],
      "text/plain": [
       "     Age  Number of sexual partners  First sexual intercourse  \\\n",
       "845   19                        2.0                      15.0   \n",
       "679   50                        2.0                      17.0   \n",
       "516   20                        2.0                      16.0   \n",
       "19    40                        2.0                      27.0   \n",
       "716   19                        3.0                      15.0   \n",
       "250   25                        2.0                      18.0   \n",
       "802   15                        2.0                      14.0   \n",
       "161   28                        2.0                      18.0   \n",
       "639   17                        2.0                      14.0   \n",
       "732   26                        2.0                      17.0   \n",
       "\n",
       "     Num of pregnancies  Smokes  Smokes (years)  Smokes (packs/year)  \\\n",
       "845                 2.0     0.0             0.0                  0.0   \n",
       "679                 7.0     0.0             0.0                  0.0   \n",
       "516                 1.0     0.0             0.0                  0.0   \n",
       "19                  NaN     0.0             0.0                  0.0   \n",
       "716                 2.0     0.0             0.0                  0.0   \n",
       "250                 2.0     0.0             0.0                  0.0   \n",
       "802                 1.0     0.0             0.0                  0.0   \n",
       "161                 2.0     0.0             0.0                  0.0   \n",
       "639                 1.0     0.0             0.0                  0.0   \n",
       "732                 2.0     0.0             0.0                  0.0   \n",
       "\n",
       "     Hormonal Contraceptives  Hormonal Contraceptives (years)  IUD  ...  \\\n",
       "845                      1.0                             0.75  0.0  ...   \n",
       "679                      1.0                             5.00  0.0  ...   \n",
       "516                      1.0                             1.00  0.0  ...   \n",
       "19                       0.0                             0.00  1.0  ...   \n",
       "716                      0.0                             0.00  0.0  ...   \n",
       "250                      1.0                             0.25  0.0  ...   \n",
       "802                      1.0                             0.16  0.0  ...   \n",
       "161                      1.0                             6.00  0.0  ...   \n",
       "639                      0.0                             0.00  0.0  ...   \n",
       "732                      0.0                             0.00  NaN  ...   \n",
       "\n",
       "     STDs: Time since first diagnosis  STDs: Time since last diagnosis  \\\n",
       "845                               NaN                              NaN   \n",
       "679                               NaN                              NaN   \n",
       "516                               NaN                              NaN   \n",
       "19                                NaN                              NaN   \n",
       "716                               NaN                              NaN   \n",
       "250                               NaN                              NaN   \n",
       "802                               NaN                              NaN   \n",
       "161                               NaN                              NaN   \n",
       "639                               NaN                              NaN   \n",
       "732                               NaN                              NaN   \n",
       "\n",
       "     Dx:Cancer  Dx:CIN  Dx:HPV  Dx  Hinselmann  Schiller  Citology  Biopsy  \n",
       "845          0       0       0   0           0         0         0       0  \n",
       "679          0       0       0   0           0         0         0       0  \n",
       "516          0       0       0   0           0         0         0       0  \n",
       "19           0       0       0   0           0         0         0       0  \n",
       "716          0       0       0   0           0         0         0       0  \n",
       "250          0       0       0   0           0         0         0       0  \n",
       "802          0       0       0   0           0         0         0       0  \n",
       "161          0       0       0   0           0         0         0       0  \n",
       "639          0       0       0   0           0         0         0       0  \n",
       "732          0       0       0   0           0         0         0       0  \n",
       "\n",
       "[10 rows x 36 columns]"
      ]
     },
     "execution_count": 3,
     "metadata": {},
     "output_type": "execute_result"
    }
   ],
   "source": [
    "df.shape\n",
    "df.sample(10)"
   ]
  },
  {
   "cell_type": "markdown",
   "metadata": {},
   "source": [
    "#### Split the dataset\n",
    "Split the dataset into training, validation and test sets."
   ]
  },
  {
   "cell_type": "code",
   "execution_count": 4,
   "metadata": {},
   "outputs": [],
   "source": [
    "y = df[['Hinselmann', 'Schiller', 'Citology', 'Biopsy']]\n",
    "X = df.drop(['Hinselmann', 'Schiller', 'Citology', 'Biopsy'], axis=1)\n",
    "scaler = StandardScaler()\n",
    "X_transform = scaler.fit_transform(X)\n"
   ]
  },
  {
   "cell_type": "code",
   "execution_count": 5,
   "metadata": {},
   "outputs": [
    {
     "name": "stdout",
     "output_type": "stream",
     "text": [
      "(480, 32)\n",
      "(120, 32)\n",
      "(258, 32)\n"
     ]
    }
   ],
   "source": [
    "seed_num = 10\n",
    "X_train, X_test, y_train, y_test = train_test_split(X_transform, y, test_size=0.3, random_state=seed_num) # random_state is set to a value for reproducible␣output.\n",
    "X_train, X_val, y_train, y_val = train_test_split(X_train, y_train, test_size=0.2, random_state=seed_num)\n",
    "print(X_train.shape)\n",
    "print(X_val.shape)\n",
    "print(X_test.shape)"
   ]
  },
  {
   "cell_type": "markdown",
   "metadata": {},
   "source": [
    "#### Data preprocessing\n",
    "Perform data preprocessing such as normalization, standardization, label encoding etc.\n",
    "______________________________________________________________________________________\n",
    "Description:"
   ]
  },
  {
   "cell_type": "markdown",
   "metadata": {},
   "source": [
    "##### Handling Boolean Values"
   ]
  },
  {
   "cell_type": "code",
   "execution_count": 6,
   "metadata": {},
   "outputs": [],
   "source": [
    "# Convert boolean-like columns to proper boolean data types\n",
    "boolean_cols = [\n",
    "    'Smokes', 'Smokes (years)', 'Smokes (packs/year)', 'Hormonal Contraceptives', 'IUD',\n",
    "    'STDs', 'STDs:condylomatosis', 'STDs:cervical condylomatosis', 'STDs:vaginal condylomatosis',\n",
    "    'STDs:vulvo-perineal condylomatosis', 'STDs:syphilis', 'STDs:pelvic inflammatory disease',\n",
    "    'STDs:genital herpes', 'STDs:molluscum contagiosum', 'STDs:AIDS', 'STDs:HIV', 'STDs:Hepatitis B',\n",
    "    'STDs:HPV', 'Dx:Cancer', 'Dx:CIN', 'Dx:HPV', 'Dx', 'Hinselmann', 'Schiller', 'Citology', 'Biopsy'\n",
    "]\n",
    "\n",
    "# Convert boolean-like columns to numeric\n",
    "df[boolean_cols] = df[boolean_cols].apply(pd.to_numeric, errors='coerce')\n",
    "\n",
    "# Replace values greater than 0 with 1, leave missing values untouched\n",
    "df[boolean_cols] = df[boolean_cols].applymap(lambda x: 1 if x > 0 else x)\n"
   ]
  },
  {
   "cell_type": "markdown",
   "metadata": {},
   "source": [
    "##### Check for the sum of missing values"
   ]
  },
  {
   "cell_type": "code",
   "execution_count": 7,
   "metadata": {},
   "outputs": [
    {
     "name": "stdout",
     "output_type": "stream",
     "text": [
      "Age                                     0\n",
      "Number of sexual partners              26\n",
      "First sexual intercourse                7\n",
      "Num of pregnancies                     56\n",
      "Smokes                                 13\n",
      "Smokes (years)                         13\n",
      "Smokes (packs/year)                    13\n",
      "Hormonal Contraceptives               108\n",
      "Hormonal Contraceptives (years)       108\n",
      "IUD                                   117\n",
      "IUD (years)                           117\n",
      "STDs                                  105\n",
      "STDs (number)                         105\n",
      "STDs:condylomatosis                   105\n",
      "STDs:cervical condylomatosis          105\n",
      "STDs:vaginal condylomatosis           105\n",
      "STDs:vulvo-perineal condylomatosis    105\n",
      "STDs:syphilis                         105\n",
      "STDs:pelvic inflammatory disease      105\n",
      "STDs:genital herpes                   105\n",
      "STDs:molluscum contagiosum            105\n",
      "STDs:AIDS                             105\n",
      "STDs:HIV                              105\n",
      "STDs:Hepatitis B                      105\n",
      "STDs:HPV                              105\n",
      "STDs: Number of diagnosis               0\n",
      "STDs: Time since first diagnosis      787\n",
      "STDs: Time since last diagnosis       787\n",
      "Dx:Cancer                               0\n",
      "Dx:CIN                                  0\n",
      "Dx:HPV                                  0\n",
      "Dx                                      0\n",
      "Hinselmann                              0\n",
      "Schiller                                0\n",
      "Citology                                0\n",
      "Biopsy                                  0\n",
      "dtype: int64\n"
     ]
    }
   ],
   "source": [
    "print(df.isnull().sum())"
   ]
  },
  {
   "cell_type": "markdown",
   "metadata": {},
   "source": [
    "##### Dropping Columns with too high missing values"
   ]
  },
  {
   "cell_type": "code",
   "execution_count": 8,
   "metadata": {},
   "outputs": [
    {
     "name": "stdout",
     "output_type": "stream",
     "text": [
      "Age                                     0\n",
      "Number of sexual partners              26\n",
      "First sexual intercourse                7\n",
      "Num of pregnancies                     56\n",
      "Smokes                                 13\n",
      "Smokes (years)                         13\n",
      "Smokes (packs/year)                    13\n",
      "Hormonal Contraceptives               108\n",
      "Hormonal Contraceptives (years)       108\n",
      "IUD                                   117\n",
      "IUD (years)                           117\n",
      "STDs                                  105\n",
      "STDs (number)                         105\n",
      "STDs:condylomatosis                   105\n",
      "STDs:cervical condylomatosis          105\n",
      "STDs:vaginal condylomatosis           105\n",
      "STDs:vulvo-perineal condylomatosis    105\n",
      "STDs:syphilis                         105\n",
      "STDs:pelvic inflammatory disease      105\n",
      "STDs:genital herpes                   105\n",
      "STDs:molluscum contagiosum            105\n",
      "STDs:AIDS                             105\n",
      "STDs:HIV                              105\n",
      "STDs:Hepatitis B                      105\n",
      "STDs:HPV                              105\n",
      "STDs: Number of diagnosis               0\n",
      "Dx:Cancer                               0\n",
      "Dx:CIN                                  0\n",
      "Dx:HPV                                  0\n",
      "Dx                                      0\n",
      "Hinselmann                              0\n",
      "Schiller                                0\n",
      "Citology                                0\n",
      "Biopsy                                  0\n",
      "dtype: int64\n"
     ]
    },
    {
     "data": {
      "text/plain": [
       "(858, 34)"
      ]
     },
     "execution_count": 8,
     "metadata": {},
     "output_type": "execute_result"
    }
   ],
   "source": [
    "# Set the threshold for dropping columns\n",
    "threshold = 0.5  #keep columns with at least 50% non-null values\n",
    "\n",
    "# Calculate the minimum number of non-null values required for each column to be retained\n",
    "min_non_null_values = len(df) * threshold\n",
    "\n",
    "# Drop columns with too many missing values\n",
    "df = df.dropna(axis=1, thresh=min_non_null_values)\n",
    "\n",
    "# Print the remaining missing values count after dropping columns\n",
    "print(df.isnull().sum())\n",
    "\n",
    "df.shape\n"
   ]
  },
  {
   "cell_type": "markdown",
   "metadata": {},
   "source": [
    "##### Dropping Rows with missing values"
   ]
  },
  {
   "cell_type": "code",
   "execution_count": 9,
   "metadata": {},
   "outputs": [
    {
     "name": "stdout",
     "output_type": "stream",
     "text": [
      "Age                                   0\n",
      "Number of sexual partners             0\n",
      "First sexual intercourse              0\n",
      "Num of pregnancies                    0\n",
      "Smokes                                0\n",
      "Smokes (years)                        0\n",
      "Smokes (packs/year)                   0\n",
      "Hormonal Contraceptives               0\n",
      "Hormonal Contraceptives (years)       0\n",
      "IUD                                   0\n",
      "IUD (years)                           0\n",
      "STDs                                  0\n",
      "STDs (number)                         0\n",
      "STDs:condylomatosis                   0\n",
      "STDs:cervical condylomatosis          0\n",
      "STDs:vaginal condylomatosis           0\n",
      "STDs:vulvo-perineal condylomatosis    0\n",
      "STDs:syphilis                         0\n",
      "STDs:pelvic inflammatory disease      0\n",
      "STDs:genital herpes                   0\n",
      "STDs:molluscum contagiosum            0\n",
      "STDs:AIDS                             0\n",
      "STDs:HIV                              0\n",
      "STDs:Hepatitis B                      0\n",
      "STDs:HPV                              0\n",
      "STDs: Number of diagnosis             0\n",
      "Dx:Cancer                             0\n",
      "Dx:CIN                                0\n",
      "Dx:HPV                                0\n",
      "Dx                                    0\n",
      "Hinselmann                            0\n",
      "Schiller                              0\n",
      "Citology                              0\n",
      "Biopsy                                0\n",
      "dtype: int64\n"
     ]
    }
   ],
   "source": [
    "# Drop rows with missing values\n",
    "df = df.dropna()\n",
    "\n",
    "# Print the remaining missing values count after dropping rows\n",
    "print(df.isnull().sum())\n",
    "\n",
    "# Print the shape of the cleaned dataset\n",
    "df.shape\n",
    "\n",
    "#export cleaned data\n",
    "df.to_csv('risk_factors_clean.csv', index=False)"
   ]
  },
  {
   "cell_type": "markdown",
   "metadata": {},
   "source": [
    "#### Feature Selection\n",
    "Perform feature selection to select the relevant features.\n",
    "______________________________________________________________________________________\n",
    "Feature Selection Using Random Forest\n",
    "\n",
    "Step 1: Loading dataset\n",
    "\n",
    "Step 2: Train Test Split\n",
    "\n",
    "Step 3: Import Random Forest Classifier module.\n",
    "\n",
    "Step 4: Training of Model"
   ]
  },
  {
   "cell_type": "code",
   "execution_count": 10,
   "metadata": {},
   "outputs": [],
   "source": [
    "df = pd.read_csv('risk_factors_clean.csv', na_values='?')"
   ]
  },
  {
   "cell_type": "code",
   "execution_count": 11,
   "metadata": {},
   "outputs": [],
   "source": [
    "y = df[['Hinselmann', 'Schiller', 'Citology', 'Biopsy']]\n",
    "X = df.drop(['Hinselmann', 'Schiller', 'Citology', 'Biopsy'], axis=1)\n",
    "scaler = StandardScaler()\n",
    "X_transform = scaler.fit_transform(X)"
   ]
  },
  {
   "cell_type": "code",
   "execution_count": 12,
   "metadata": {},
   "outputs": [],
   "source": [
    "seed_num = 10\n",
    "X_train, X_test, y_train, y_test = train_test_split(X_transform, y, test_size=0.3, random_state=seed_num) # random_state is set to a value for reproducible␣output.\n",
    "X_train, X_val, y_train, y_val = train_test_split(X_train, y_train, test_size=0.2, random_state=seed_num)"
   ]
  },
  {
   "cell_type": "code",
   "execution_count": 13,
   "metadata": {},
   "outputs": [],
   "source": [
    "from sklearn.ensemble import RandomForestClassifier"
   ]
  },
  {
   "cell_type": "code",
   "execution_count": 14,
   "metadata": {},
   "outputs": [
    {
     "name": "stdout",
     "output_type": "stream",
     "text": [
      "\n",
      "ACCURACY OF THE MODEL: 0.8557213930348259\n"
     ]
    }
   ],
   "source": [
    "# creating a RF classifier\n",
    "clf = RandomForestClassifier(n_estimators = 100)  \n",
    " \n",
    "# Training the model on the training dataset\n",
    "# fit function is used to train the model using the training sets as parameters\n",
    "clf.fit(X_train, y_train)\n",
    " \n",
    "# performing predictions on the test dataset\n",
    "y_pred = clf.predict(X_test)\n",
    " \n",
    "# metrics are used to find accuracy or error\n",
    "from sklearn import metrics  \n",
    "print()\n",
    " \n",
    "# using metrics module for accuracy calculation\n",
    "print(\"ACCURACY OF THE MODEL:\", metrics.accuracy_score(y_test, y_pred))"
   ]
  },
  {
   "cell_type": "code",
   "execution_count": 15,
   "metadata": {},
   "outputs": [
    {
     "data": {
      "text/plain": [
       "Age                                   0.210668\n",
       "Hormonal Contraceptives (years)       0.167478\n",
       "First sexual intercourse              0.154819\n",
       "Num of pregnancies                    0.111136\n",
       "Number of sexual partners             0.108137\n",
       "Dx:HPV                                0.034878\n",
       "IUD (years)                           0.031605\n",
       "Dx:Cancer                             0.020848\n",
       "Hormonal Contraceptives               0.020508\n",
       "Dx                                    0.019488\n",
       "IUD                                   0.018577\n",
       "Smokes                                0.014778\n",
       "STDs:HIV                              0.014193\n",
       "Smokes (years)                        0.013717\n",
       "STDs (number)                         0.013044\n",
       "Smokes (packs/year)                   0.010953\n",
       "STDs:vulvo-perineal condylomatosis    0.007454\n",
       "STDs:condylomatosis                   0.006548\n",
       "STDs: Number of diagnosis             0.006173\n",
       "STDs                                  0.006048\n",
       "Dx:CIN                                0.005728\n",
       "STDs:vaginal condylomatosis           0.001219\n",
       "STDs:syphilis                         0.000947\n",
       "STDs:HPV                              0.000737\n",
       "STDs:molluscum contagiosum            0.000186\n",
       "STDs:Hepatitis B                      0.000096\n",
       "STDs:pelvic inflammatory disease      0.000038\n",
       "STDs:AIDS                             0.000000\n",
       "STDs:genital herpes                   0.000000\n",
       "STDs:cervical condylomatosis          0.000000\n",
       "dtype: float64"
      ]
     },
     "execution_count": 15,
     "metadata": {},
     "output_type": "execute_result"
    }
   ],
   "source": [
    "feature_imp = pd.Series(clf.feature_importances_, index = X.columns).sort_values(ascending = False)\n",
    "feature_imp ##print the features significant in ascending order"
   ]
  },
  {
   "cell_type": "code",
   "execution_count": 16,
   "metadata": {},
   "outputs": [],
   "source": [
    "##Take 5 most important features\n",
    "X = df[['Age','First sexual intercourse', 'Hormonal Contraceptives (years)', 'Number of sexual partners', 'Num of pregnancies']]\n",
    "X_transform = scaler.fit_transform(X)\n",
    "\n",
    "seed_num = 10\n",
    "X_train, X_test, y_train, y_test = train_test_split(X_transform, y, test_size=0.3, random_state=seed_num) # random_state is set to a value for reproducible␣output\n",
    "X_train, X_val, y_train, y_val = train_test_split(X_train, y_train, test_size=0.2, random_state=seed_num)"
   ]
  },
  {
   "cell_type": "code",
   "execution_count": 17,
   "metadata": {},
   "outputs": [
    {
     "name": "stdout",
     "output_type": "stream",
     "text": [
      "ACCURACY OF THE MODEL: 0.8656716417910447\n"
     ]
    }
   ],
   "source": [
    "# creating a RF classifier\n",
    "clf = RandomForestClassifier(n_estimators = 100)  \n",
    " \n",
    "# Training the model on the training dataset\n",
    "# fit function is used to train the model using the training sets as parameters\n",
    "clf.fit(X_train, y_train)\n",
    " \n",
    "# performing predictions on the test dataset\n",
    "y_pred = clf.predict(X_test)\n",
    " \n",
    "# metrics are used to find accuracy or error\n",
    "from sklearn import metrics\n",
    " \n",
    "# using metrics module for accuracy calculation\n",
    "print(\"ACCURACY OF THE MODEL:\", metrics.accuracy_score(y_test, y_pred))"
   ]
  },
  {
   "cell_type": "markdown",
   "metadata": {},
   "source": [
    "_**As the result, the accuracy of the model when we take the 5 most significant features is exactly\n",
    "the same as the accuracy of the model using all 30 features, indicating that the selected features effectively \n",
    "capture the essential information for making predictions.**_"
   ]
  },
  {
   "cell_type": "markdown",
   "metadata": {},
   "source": [
    "#### Data modeling\n",
    "Build the machine learning models. You must build atleast two (2) predictive models. One of the predictive models must be either Decision Tree or Support Vector Machine.\n",
    "______________________________________________________________________________________\n",
    "Description:"
   ]
  },
  {
   "cell_type": "markdown",
   "metadata": {},
   "source": [
    "## Decision Tree"
   ]
  },
  {
   "cell_type": "code",
   "execution_count": 18,
   "metadata": {},
   "outputs": [
    {
     "data": {
      "text/plain": [
       "GridSearchCV(cv=3,\n",
       "             estimator=MultiOutputClassifier(estimator=DecisionTreeClassifier(random_state=10)),\n",
       "             n_jobs=3,\n",
       "             param_grid={'estimator__max_depth': [1, 10, 20, 30],\n",
       "                         'estimator__min_samples_leaf': [1, 2, 4],\n",
       "                         'estimator__min_samples_split': [2, 5, 10]},\n",
       "             refit='f1_micro',\n",
       "             scoring=['accuracy', 'precision_micro', 'recall_micro',\n",
       "                      'f1_micro'])"
      ]
     },
     "execution_count": 18,
     "metadata": {},
     "output_type": "execute_result"
    }
   ],
   "source": [
    "from sklearn.multioutput import MultiOutputClassifier\n",
    "from sklearn.model_selection import GridSearchCV\n",
    "from sklearn.tree import DecisionTreeClassifier,DecisionTreeRegressor\n",
    "import matplotlib.pyplot as plt\n",
    "\n",
    "parameters = {\n",
    "    'estimator__max_depth': [1, 10, 20, 30],\n",
    "    'estimator__min_samples_split': [2, 5, 10],\n",
    "    'estimator__min_samples_leaf': [1, 2, 4]\n",
    "}\n",
    "\n",
    "dt_multi_model = MultiOutputClassifier(DecisionTreeClassifier(random_state=seed_num))\n",
    "dt_gsc = GridSearchCV(dt_multi_model, parameters, cv=3, scoring=['accuracy', 'precision_micro', 'recall_micro', 'f1_micro'], n_jobs=3, refit='f1_micro')\n",
    "dt_gsc.fit(X_train, y_train)"
   ]
  },
  {
   "cell_type": "code",
   "execution_count": 19,
   "metadata": {
    "scrolled": true
   },
   "outputs": [
    {
     "name": "stdout",
     "output_type": "stream",
     "text": [
      "Best parameters found: {'estimator__max_depth': 20, 'estimator__min_samples_leaf': 1, 'estimator__min_samples_split': 2}\n",
      "Best F1 score: 0.10833036984352773\n",
      "Recommended Model Accuracy with validation data: 0.6702127659574468\n"
     ]
    }
   ],
   "source": [
    "print(f\"Best parameters found: {dt_gsc.best_params_}\")\n",
    "print(f\"Best F1 score: {dt_gsc.best_score_}\")\n",
    "\n",
    "# Validate the parameter\n",
    "print(f\"Recommended Model Accuracy with validation data: {dt_gsc.best_estimator_.score(X_val, y_val)}\")"
   ]
  },
  {
   "cell_type": "markdown",
   "metadata": {},
   "source": [
    "_**Build Decision Tree model with the best parameters**_"
   ]
  },
  {
   "cell_type": "code",
   "execution_count": 20,
   "metadata": {},
   "outputs": [],
   "source": [
    "from sklearn.tree import DecisionTreeClassifier\n",
    "\n",
    "# Obtain the best parameters from hyperparameter tuning\n",
    "best_params = {'max_depth': 20}\n",
    "\n",
    "# Create a decision tree classifier with the best parameters\n",
    "best_dt_model = MultiOutputClassifier(DecisionTreeClassifier(**best_params))"
   ]
  },
  {
   "cell_type": "code",
   "execution_count": 21,
   "metadata": {},
   "outputs": [],
   "source": [
    "# Fit the model to the training data\n",
    "best_dt_model.fit(X_train, y_train)\n",
    "\n",
    "# Make predictions on the test set\n",
    "dt_y_pred = best_dt_model.predict(X_test)"
   ]
  },
  {
   "cell_type": "markdown",
   "metadata": {},
   "source": [
    "## Support Vector Machine"
   ]
  },
  {
   "cell_type": "code",
   "execution_count": 22,
   "metadata": {},
   "outputs": [
    {
     "data": {
      "text/plain": [
       "{'mean_fit_time': array([0.00466673, 0.0053335 , 0.00433294, 0.00600036, 0.00400003,\n",
       "        0.00500011, 0.00466633, 0.00500019, 0.00466633, 0.00533406,\n",
       "        0.00466657, 0.00499996, 0.00466593, 0.00566657, 0.00466641,\n",
       "        0.0056661 , 0.00433342, 0.00566721, 0.0049998 , 0.00533477,\n",
       "        0.00533334, 0.00533382, 0.00533326, 0.0053335 ]),\n",
       " 'std_fit_time': array([4.71819920e-04, 4.71314168e-04, 4.70583613e-04, 6.25769923e-07,\n",
       "        2.24783192e-07, 0.00000000e+00, 4.71539032e-04, 5.94720425e-07,\n",
       "        4.71202018e-04, 4.72775499e-04, 4.71707689e-04, 6.83651389e-07,\n",
       "        4.71426560e-04, 4.71258002e-04, 4.71258605e-04, 4.71089465e-04,\n",
       "        4.71089626e-04, 4.71538951e-04, 4.89903609e-07, 4.70418660e-04,\n",
       "        4.71258123e-04, 4.71763815e-04, 4.71482786e-04, 4.71145571e-04]),\n",
       " 'mean_score_time': array([0.00499916, 0.00466625, 0.00466649, 0.00433397, 0.00499988,\n",
       "        0.00500003, 0.00466696, 0.00433366, 0.0043335 , 0.00466498,\n",
       "        0.00466657, 0.00500011, 0.00466688, 0.00566681, 0.00433334,\n",
       "        0.00466728, 0.00466657, 0.00433318, 0.00500035, 0.00499876,\n",
       "        0.00466633, 0.00533295, 0.00433334, 0.00466665]),\n",
       " 'std_score_time': array([0.00000000e+00, 4.71314168e-04, 4.70639818e-04, 4.72719414e-04,\n",
       "        3.37174788e-07, 1.12391596e-07, 4.71651423e-04, 4.72775259e-04,\n",
       "        4.72381878e-04, 4.71598391e-04, 4.71033340e-04, 5.15042996e-07,\n",
       "        4.71595298e-04, 9.43021692e-04, 4.71651584e-04, 4.71876206e-04,\n",
       "        4.70864682e-04, 4.71932352e-04, 5.15042996e-07, 2.09964829e-06,\n",
       "        4.70864602e-04, 4.71202018e-04, 4.70977235e-04, 4.71426560e-04]),\n",
       " 'param_estimator__C': masked_array(data=[0.1, 0.1, 0.1, 0.1, 0.1, 0.1, 0.5, 0.5, 0.5, 0.5, 0.5,\n",
       "                    0.5, 1, 1, 1, 1, 1, 1, 5, 5, 5, 5, 5, 5],\n",
       "              mask=[False, False, False, False, False, False, False, False,\n",
       "                    False, False, False, False, False, False, False, False,\n",
       "                    False, False, False, False, False, False, False, False],\n",
       "        fill_value='?',\n",
       "             dtype=object),\n",
       " 'param_estimator__coef0': masked_array(data=[0, 0, 2, 2, 5, 5, 0, 0, 2, 2, 5, 5, 0, 0, 2, 2, 5, 5,\n",
       "                    0, 0, 2, 2, 5, 5],\n",
       "              mask=[False, False, False, False, False, False, False, False,\n",
       "                    False, False, False, False, False, False, False, False,\n",
       "                    False, False, False, False, False, False, False, False],\n",
       "        fill_value='?',\n",
       "             dtype=object),\n",
       " 'param_estimator__kernel': masked_array(data=['linear', 'sigmoid', 'linear', 'sigmoid', 'linear',\n",
       "                    'sigmoid', 'linear', 'sigmoid', 'linear', 'sigmoid',\n",
       "                    'linear', 'sigmoid', 'linear', 'sigmoid', 'linear',\n",
       "                    'sigmoid', 'linear', 'sigmoid', 'linear', 'sigmoid',\n",
       "                    'linear', 'sigmoid', 'linear', 'sigmoid'],\n",
       "              mask=[False, False, False, False, False, False, False, False,\n",
       "                    False, False, False, False, False, False, False, False,\n",
       "                    False, False, False, False, False, False, False, False],\n",
       "        fill_value='?',\n",
       "             dtype=object),\n",
       " 'params': [{'estimator__C': 0.1,\n",
       "   'estimator__coef0': 0,\n",
       "   'estimator__kernel': 'linear'},\n",
       "  {'estimator__C': 0.1, 'estimator__coef0': 0, 'estimator__kernel': 'sigmoid'},\n",
       "  {'estimator__C': 0.1, 'estimator__coef0': 2, 'estimator__kernel': 'linear'},\n",
       "  {'estimator__C': 0.1, 'estimator__coef0': 2, 'estimator__kernel': 'sigmoid'},\n",
       "  {'estimator__C': 0.1, 'estimator__coef0': 5, 'estimator__kernel': 'linear'},\n",
       "  {'estimator__C': 0.1, 'estimator__coef0': 5, 'estimator__kernel': 'sigmoid'},\n",
       "  {'estimator__C': 0.5, 'estimator__coef0': 0, 'estimator__kernel': 'linear'},\n",
       "  {'estimator__C': 0.5, 'estimator__coef0': 0, 'estimator__kernel': 'sigmoid'},\n",
       "  {'estimator__C': 0.5, 'estimator__coef0': 2, 'estimator__kernel': 'linear'},\n",
       "  {'estimator__C': 0.5, 'estimator__coef0': 2, 'estimator__kernel': 'sigmoid'},\n",
       "  {'estimator__C': 0.5, 'estimator__coef0': 5, 'estimator__kernel': 'linear'},\n",
       "  {'estimator__C': 0.5, 'estimator__coef0': 5, 'estimator__kernel': 'sigmoid'},\n",
       "  {'estimator__C': 1, 'estimator__coef0': 0, 'estimator__kernel': 'linear'},\n",
       "  {'estimator__C': 1, 'estimator__coef0': 0, 'estimator__kernel': 'sigmoid'},\n",
       "  {'estimator__C': 1, 'estimator__coef0': 2, 'estimator__kernel': 'linear'},\n",
       "  {'estimator__C': 1, 'estimator__coef0': 2, 'estimator__kernel': 'sigmoid'},\n",
       "  {'estimator__C': 1, 'estimator__coef0': 5, 'estimator__kernel': 'linear'},\n",
       "  {'estimator__C': 1, 'estimator__coef0': 5, 'estimator__kernel': 'sigmoid'},\n",
       "  {'estimator__C': 5, 'estimator__coef0': 0, 'estimator__kernel': 'linear'},\n",
       "  {'estimator__C': 5, 'estimator__coef0': 0, 'estimator__kernel': 'sigmoid'},\n",
       "  {'estimator__C': 5, 'estimator__coef0': 2, 'estimator__kernel': 'linear'},\n",
       "  {'estimator__C': 5, 'estimator__coef0': 2, 'estimator__kernel': 'sigmoid'},\n",
       "  {'estimator__C': 5, 'estimator__coef0': 5, 'estimator__kernel': 'linear'},\n",
       "  {'estimator__C': 5, 'estimator__coef0': 5, 'estimator__kernel': 'sigmoid'}],\n",
       " 'split0_test_accuracy': array([0.912, 0.912, 0.912, 0.912, 0.912, 0.912, 0.912, 0.88 , 0.912,\n",
       "        0.888, 0.912, 0.912, 0.912, 0.856, 0.912, 0.888, 0.912, 0.912,\n",
       "        0.912, 0.776, 0.912, 0.848, 0.912, 0.912]),\n",
       " 'split1_test_accuracy': array([0.83870968, 0.83870968, 0.83870968, 0.83870968, 0.83870968,\n",
       "        0.83870968, 0.83870968, 0.83064516, 0.83870968, 0.81451613,\n",
       "        0.83870968, 0.83870968, 0.83870968, 0.80645161, 0.83870968,\n",
       "        0.79032258, 0.83870968, 0.83870968, 0.83870968, 0.74193548,\n",
       "        0.83870968, 0.71774194, 0.83870968, 0.83870968]),\n",
       " 'split2_test_accuracy': array([0.85483871, 0.85483871, 0.85483871, 0.85483871, 0.85483871,\n",
       "        0.85483871, 0.85483871, 0.85483871, 0.85483871, 0.83064516,\n",
       "        0.85483871, 0.85483871, 0.85483871, 0.83870968, 0.85483871,\n",
       "        0.81451613, 0.85483871, 0.85483871, 0.85483871, 0.79032258,\n",
       "        0.85483871, 0.7983871 , 0.85483871, 0.85483871]),\n",
       " 'mean_test_accuracy': array([0.86851613, 0.86851613, 0.86851613, 0.86851613, 0.86851613,\n",
       "        0.86851613, 0.86851613, 0.85516129, 0.86851613, 0.8443871 ,\n",
       "        0.86851613, 0.86851613, 0.86851613, 0.83372043, 0.86851613,\n",
       "        0.83094624, 0.86851613, 0.86851613, 0.86851613, 0.76941935,\n",
       "        0.86851613, 0.78804301, 0.86851613, 0.86851613]),\n",
       " 'std_test_accuracy': array([0.03144489, 0.03144489, 0.03144489, 0.03144489, 0.03144489,\n",
       "        0.03144489, 0.03144489, 0.02015032, 0.03144489, 0.03153411,\n",
       "        0.03144489, 0.03144489, 0.03144489, 0.02053339, 0.03144489,\n",
       "        0.04153457, 0.03144489, 0.03144489, 0.03144489, 0.0202946 ,\n",
       "        0.03144489, 0.05367831, 0.03144489, 0.03144489]),\n",
       " 'rank_test_accuracy': array([ 1,  1,  1,  1,  1,  1,  1, 19,  1, 20,  1,  1,  1, 21,  1, 22,  1,\n",
       "         1,  1, 24,  1, 23,  1,  1]),\n",
       " 'split0_test_precision_micro': array([0., 0., 0., 0., 0., 0., 0., 0., 0., 0., 0., 0., 0., 0., 0., 0., 0.,\n",
       "        0., 0., 0., 0., 0., 0., 0.]),\n",
       " 'split1_test_precision_micro': array([0.        , 0.        , 0.        , 0.        , 0.        ,\n",
       "        0.        , 0.        , 0.25      , 0.        , 0.        ,\n",
       "        0.        , 0.        , 0.        , 0.3       , 0.        ,\n",
       "        0.        , 0.        , 0.        , 0.        , 0.11538462,\n",
       "        0.        , 0.10416667, 0.        , 0.        ]),\n",
       " 'split2_test_precision_micro': array([0., 0., 0., 0., 0., 0., 0., 0., 0., 0., 0., 0., 0., 0., 0., 0., 0.,\n",
       "        0., 0., 0., 0., 0., 0., 0.]),\n",
       " 'mean_test_precision_micro': array([0.        , 0.        , 0.        , 0.        , 0.        ,\n",
       "        0.        , 0.        , 0.08333333, 0.        , 0.        ,\n",
       "        0.        , 0.        , 0.        , 0.1       , 0.        ,\n",
       "        0.        , 0.        , 0.        , 0.        , 0.03846154,\n",
       "        0.        , 0.03472222, 0.        , 0.        ]),\n",
       " 'std_test_precision_micro': array([0.        , 0.        , 0.        , 0.        , 0.        ,\n",
       "        0.        , 0.        , 0.11785113, 0.        , 0.        ,\n",
       "        0.        , 0.        , 0.        , 0.14142136, 0.        ,\n",
       "        0.        , 0.        , 0.        , 0.        , 0.05439283,\n",
       "        0.        , 0.04910464, 0.        , 0.        ]),\n",
       " 'rank_test_precision_micro': array([5, 5, 5, 5, 5, 5, 5, 2, 5, 5, 5, 5, 5, 1, 5, 5, 5, 5, 5, 3, 5, 4,\n",
       "        5, 5]),\n",
       " 'split0_test_recall_micro': array([0., 0., 0., 0., 0., 0., 0., 0., 0., 0., 0., 0., 0., 0., 0., 0., 0.,\n",
       "        0., 0., 0., 0., 0., 0., 0.]),\n",
       " 'split1_test_recall_micro': array([0.        , 0.        , 0.        , 0.        , 0.        ,\n",
       "        0.        , 0.        , 0.02325581, 0.        , 0.        ,\n",
       "        0.        , 0.        , 0.        , 0.06976744, 0.        ,\n",
       "        0.        , 0.        , 0.        , 0.        , 0.06976744,\n",
       "        0.        , 0.11627907, 0.        , 0.        ]),\n",
       " 'split2_test_recall_micro': array([0., 0., 0., 0., 0., 0., 0., 0., 0., 0., 0., 0., 0., 0., 0., 0., 0.,\n",
       "        0., 0., 0., 0., 0., 0., 0.]),\n",
       " 'mean_test_recall_micro': array([0.        , 0.        , 0.        , 0.        , 0.        ,\n",
       "        0.        , 0.        , 0.00775194, 0.        , 0.        ,\n",
       "        0.        , 0.        , 0.        , 0.02325581, 0.        ,\n",
       "        0.        , 0.        , 0.        , 0.        , 0.02325581,\n",
       "        0.        , 0.03875969, 0.        , 0.        ]),\n",
       " 'std_test_recall_micro': array([0.        , 0.        , 0.        , 0.        , 0.        ,\n",
       "        0.        , 0.        , 0.0109629 , 0.        , 0.        ,\n",
       "        0.        , 0.        , 0.        , 0.03288869, 0.        ,\n",
       "        0.        , 0.        , 0.        , 0.        , 0.03288869,\n",
       "        0.        , 0.05481448, 0.        , 0.        ]),\n",
       " 'rank_test_recall_micro': array([5, 5, 5, 5, 5, 5, 5, 4, 5, 5, 5, 5, 5, 2, 5, 5, 5, 5, 5, 2, 5, 1,\n",
       "        5, 5]),\n",
       " 'split0_test_f1_micro': array([0., 0., 0., 0., 0., 0., 0., 0., 0., 0., 0., 0., 0., 0., 0., 0., 0.,\n",
       "        0., 0., 0., 0., 0., 0., 0.]),\n",
       " 'split1_test_f1_micro': array([0.        , 0.        , 0.        , 0.        , 0.        ,\n",
       "        0.        , 0.        , 0.04255319, 0.        , 0.        ,\n",
       "        0.        , 0.        , 0.        , 0.11320755, 0.        ,\n",
       "        0.        , 0.        , 0.        , 0.        , 0.08695652,\n",
       "        0.        , 0.10989011, 0.        , 0.        ]),\n",
       " 'split2_test_f1_micro': array([0., 0., 0., 0., 0., 0., 0., 0., 0., 0., 0., 0., 0., 0., 0., 0., 0.,\n",
       "        0., 0., 0., 0., 0., 0., 0.]),\n",
       " 'mean_test_f1_micro': array([0.        , 0.        , 0.        , 0.        , 0.        ,\n",
       "        0.        , 0.        , 0.0141844 , 0.        , 0.        ,\n",
       "        0.        , 0.        , 0.        , 0.03773585, 0.        ,\n",
       "        0.        , 0.        , 0.        , 0.        , 0.02898551,\n",
       "        0.        , 0.03663004, 0.        , 0.        ]),\n",
       " 'std_test_f1_micro': array([0.        , 0.        , 0.        , 0.        , 0.        ,\n",
       "        0.        , 0.        , 0.02005977, 0.        , 0.        ,\n",
       "        0.        , 0.        , 0.        , 0.05336655, 0.        ,\n",
       "        0.        , 0.        , 0.        , 0.        , 0.0409917 ,\n",
       "        0.        , 0.05180269, 0.        , 0.        ]),\n",
       " 'rank_test_f1_micro': array([5, 5, 5, 5, 5, 5, 5, 4, 5, 5, 5, 5, 5, 1, 5, 5, 5, 5, 5, 3, 5, 2,\n",
       "        5, 5])}"
      ]
     },
     "execution_count": 22,
     "metadata": {},
     "output_type": "execute_result"
    }
   ],
   "source": [
    "from sklearn.multioutput import MultiOutputClassifier\n",
    "from sklearn.model_selection import GridSearchCV \n",
    "from sklearn.svm import SVC\n",
    "\n",
    "parameters = {'estimator__kernel': ['linear', 'sigmoid'], 'estimator__C': [0.1, 0.5, 1, 5], 'estimator__coef0': [0, 2, 5]}\n",
    "clf = MultiOutputClassifier(SVC(random_state=seed_num))\n",
    "gsc = GridSearchCV(clf, parameters, cv=3, scoring=['accuracy', 'precision_micro', 'recall_micro', 'f1_micro'], n_jobs=3, refit='f1_micro')\n",
    "gsc.fit(X_train, y_train)\n",
    "gsc.cv_results_\n"
   ]
  },
  {
   "cell_type": "code",
   "execution_count": 23,
   "metadata": {
    "scrolled": false
   },
   "outputs": [
    {
     "name": "stdout",
     "output_type": "stream",
     "text": [
      "{'estimator__C': 1, 'estimator__coef0': 0, 'estimator__kernel': 'sigmoid'}\n",
      "0.03773584905660377\n",
      "Recommended Model Accuracy with validation data: 0.8085106382978723\n"
     ]
    }
   ],
   "source": [
    "print(gsc.best_params_)\n",
    "print(gsc.best_score_)\n",
    "# Validate the parameter\n",
    "print(f\"Recommended Model Accuracy with validation data: {gsc.best_estimator_.score(X_val, y_val)}\")"
   ]
  },
  {
   "cell_type": "markdown",
   "metadata": {},
   "source": [
    "_**Build SVM model with the best parameters**_"
   ]
  },
  {
   "cell_type": "code",
   "execution_count": 24,
   "metadata": {},
   "outputs": [],
   "source": [
    "from sklearn.svm import SVC\n",
    "C = 1\n",
    "model_svc = SVC(kernel='sigmoid', C=C)\n",
    "\n",
    "multi_target_svm = MultiOutputClassifier(model_svc)  \n",
    "\n",
    "# Fit the classifier to the data\n",
    "multi_target_svm.fit(X_train, y_train)\n",
    "\n",
    "# Predictions\n",
    "svm_y_pred = multi_target_svm.predict(X_test)"
   ]
  },
  {
   "cell_type": "markdown",
   "metadata": {},
   "source": [
    "#### Evaluate the models\n",
    "Perform a comparison between the predictive models. <br>\n",
    "Report the accuracy, recall, precision and F1-score measures as well as the confusion matrix if it is a classification problem. <br>\n",
    "Report the R2 score, mean squared error and mean absolute error if it is a regression problem.\n",
    "______________________________________________________________________________________\n",
    "Description:\n",
    "<br>\n",
    "Since the nature of this data require the need of predicting multiple targets and a classification problem, we will use **accuracy**, **recall**, **precision**, **F1-score** and **confusion matrix** to evaluate both our model. "
   ]
  },
  {
   "cell_type": "code",
   "execution_count": 25,
   "metadata": {},
   "outputs": [],
   "source": [
    "#importing all required functions \n",
    "from sklearn.metrics import classification_report, multilabel_confusion_matrix, accuracy_score"
   ]
  },
  {
   "cell_type": "markdown",
   "metadata": {},
   "source": [
    "_**Model Evaluation for Decision Tree**_"
   ]
  },
  {
   "cell_type": "code",
   "execution_count": 26,
   "metadata": {},
   "outputs": [
    {
     "name": "stdout",
     "output_type": "stream",
     "text": [
      "Accuracy:\n",
      " 0.5920398009950248\n",
      "\n",
      "\n",
      "Confusion Matrix:\n",
      " [[[177  16]\n",
      "  [  6   2]]\n",
      "\n",
      " [[158  22]\n",
      "  [ 16   5]]\n",
      "\n",
      " [[167  25]\n",
      "  [  7   2]]\n",
      "\n",
      " [[171  15]\n",
      "  [ 14   1]]]\n",
      "\n",
      "\n",
      "Classification Report: \n",
      "               precision    recall  f1-score   support\n",
      "\n",
      "           0       0.11      0.25      0.15         8\n",
      "           1       0.19      0.24      0.21        21\n",
      "           2       0.07      0.22      0.11         9\n",
      "           3       0.06      0.07      0.06        15\n",
      "\n",
      "   micro avg       0.11      0.19      0.14        53\n",
      "   macro avg       0.11      0.19      0.13        53\n",
      "weighted avg       0.12      0.19      0.14        53\n",
      " samples avg       0.03      0.02      0.02        53\n",
      "\n"
     ]
    }
   ],
   "source": [
    "print('Accuracy:\\n',accuracy_score(y_test, dt_y_pred))\n",
    "print('\\n')\n",
    "print('Confusion Matrix:\\n',multilabel_confusion_matrix(y_test, dt_y_pred))\n",
    "print('\\n')\n",
    "print('Classification Report: \\n', classification_report(y_test, dt_y_pred))"
   ]
  },
  {
   "cell_type": "markdown",
   "metadata": {},
   "source": [
    "_**Model Evaluation for SVM**_"
   ]
  },
  {
   "cell_type": "code",
   "execution_count": 27,
   "metadata": {},
   "outputs": [
    {
     "name": "stdout",
     "output_type": "stream",
     "text": [
      "Accuracy:\n",
      " 0.8208955223880597\n",
      "\n",
      "\n",
      "Confusion Matrix:\n",
      " [[[190   3]\n",
      "  [  8   0]]\n",
      "\n",
      " [[172   8]\n",
      "  [ 21   0]]\n",
      "\n",
      " [[189   3]\n",
      "  [  9   0]]\n",
      "\n",
      " [[181   5]\n",
      "  [ 15   0]]]\n",
      "\n",
      "\n",
      "Classification Report: \n",
      "               precision    recall  f1-score   support\n",
      "\n",
      "           0       0.00      0.00      0.00         8\n",
      "           1       0.00      0.00      0.00        21\n",
      "           2       0.00      0.00      0.00         9\n",
      "           3       0.00      0.00      0.00        15\n",
      "\n",
      "   micro avg       0.00      0.00      0.00        53\n",
      "   macro avg       0.00      0.00      0.00        53\n",
      "weighted avg       0.00      0.00      0.00        53\n",
      " samples avg       0.00      0.00      0.00        53\n",
      "\n"
     ]
    }
   ],
   "source": [
    "print('Accuracy:\\n',accuracy_score(y_test, svm_y_pred))\n",
    "print('\\n')\n",
    "print('Confusion Matrix:\\n',multilabel_confusion_matrix(y_test, svm_y_pred))\n",
    "print('\\n')\n",
    "print('Classification Report: \\n', classification_report(y_test, svm_y_pred))"
   ]
  }
 ],
 "metadata": {
  "kernelspec": {
   "display_name": "Python 3 (ipykernel)",
   "language": "python",
   "name": "python3"
  },
  "language_info": {
   "codemirror_mode": {
    "name": "ipython",
    "version": 3
   },
   "file_extension": ".py",
   "mimetype": "text/x-python",
   "name": "python",
   "nbconvert_exporter": "python",
   "pygments_lexer": "ipython3",
   "version": "3.9.13"
  }
 },
 "nbformat": 4,
 "nbformat_minor": 4
}
