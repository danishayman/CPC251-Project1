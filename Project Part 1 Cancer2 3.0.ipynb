{
 "cells": [
  {
   "cell_type": "markdown",
   "metadata": {},
   "source": [
    "#### Instruction (Read this)\n",
    "- Use this template to develop your project. Do not change the steps. \n",
    "- For each step, you may add additional cells if needed.\n",
    "- But remove <b>unnecessary</b> cells to ensure the notebook is readable.\n",
    "- Marks will be <b>deducted</b> if the notebook is cluttered or difficult to follow due to excess or irrelevant content.\n",
    "- <b>Briefly</b> describe the steps in the \"Description:\" field.\n",
    "- <b>Do not</b> submit the dataset. \n",
    "- The submitted jupyter notebook will be executed using the uploaded dataset in eLearn."
   ]
  },
  {
   "cell_type": "markdown",
   "metadata": {},
   "source": [
    "#### Group Information\n",
    "\n",
    "Group No: Cancer2\n",
    "\n",
    "- Member 1:MUHAMMAD DANISH AIMAN BIN MUHAMMAD NAZIR\n",
    "- Member 2:MUHAMMAD AMMAR BIN ADNAN\n",
    "- Member 3:ARDY QAWI BIN HASHIM\n",
    "- Member 4:MAHDIL ASHRONIE BIN MUHAMAD MURTADZA\n"
   ]
  },
  {
   "cell_type": "markdown",
   "metadata": {},
   "source": [
    "#### Import libraries"
   ]
  },
  {
   "cell_type": "code",
   "execution_count": 33,
   "metadata": {},
   "outputs": [],
   "source": [
    "%config Completer.use_jedi=False # comment if not needed\n",
    "import pandas as pd\n",
    "import numpy as np\n",
    "import warnings\n",
    "from sklearn.model_selection import train_test_split\n",
    "from sklearn.preprocessing import MinMaxScaler, StandardScaler\n",
    "warnings.filterwarnings('ignore')"
   ]
  },
  {
   "cell_type": "markdown",
   "metadata": {},
   "source": [
    "#### Load the dataset"
   ]
  },
  {
   "cell_type": "code",
   "execution_count": 34,
   "metadata": {},
   "outputs": [],
   "source": [
    "df = pd.read_csv('risk_factors.csv', na_values='?')"
   ]
  },
  {
   "cell_type": "code",
   "execution_count": 35,
   "metadata": {},
   "outputs": [
    {
     "data": {
      "text/html": [
       "<div>\n",
       "<style scoped>\n",
       "    .dataframe tbody tr th:only-of-type {\n",
       "        vertical-align: middle;\n",
       "    }\n",
       "\n",
       "    .dataframe tbody tr th {\n",
       "        vertical-align: top;\n",
       "    }\n",
       "\n",
       "    .dataframe thead th {\n",
       "        text-align: right;\n",
       "    }\n",
       "</style>\n",
       "<table border=\"1\" class=\"dataframe\">\n",
       "  <thead>\n",
       "    <tr style=\"text-align: right;\">\n",
       "      <th></th>\n",
       "      <th>Age</th>\n",
       "      <th>Number of sexual partners</th>\n",
       "      <th>First sexual intercourse</th>\n",
       "      <th>Num of pregnancies</th>\n",
       "      <th>Smokes</th>\n",
       "      <th>Smokes (years)</th>\n",
       "      <th>Smokes (packs/year)</th>\n",
       "      <th>Hormonal Contraceptives</th>\n",
       "      <th>Hormonal Contraceptives (years)</th>\n",
       "      <th>IUD</th>\n",
       "      <th>...</th>\n",
       "      <th>STDs:HPV</th>\n",
       "      <th>STDs: Number of diagnosis</th>\n",
       "      <th>Dx:Cancer</th>\n",
       "      <th>Dx:CIN</th>\n",
       "      <th>Dx:HPV</th>\n",
       "      <th>Dx</th>\n",
       "      <th>Hinselmann</th>\n",
       "      <th>Schiller</th>\n",
       "      <th>Citology</th>\n",
       "      <th>Biopsy</th>\n",
       "    </tr>\n",
       "  </thead>\n",
       "  <tbody>\n",
       "    <tr>\n",
       "      <th>490</th>\n",
       "      <td>26</td>\n",
       "      <td>2.0</td>\n",
       "      <td>16.0</td>\n",
       "      <td>3.0</td>\n",
       "      <td>1.0</td>\n",
       "      <td>1.0</td>\n",
       "      <td>1.0</td>\n",
       "      <td>1.0</td>\n",
       "      <td>2.00</td>\n",
       "      <td>0.0</td>\n",
       "      <td>...</td>\n",
       "      <td>0.0</td>\n",
       "      <td>0</td>\n",
       "      <td>0</td>\n",
       "      <td>0</td>\n",
       "      <td>0</td>\n",
       "      <td>0</td>\n",
       "      <td>0</td>\n",
       "      <td>0</td>\n",
       "      <td>0</td>\n",
       "      <td>0</td>\n",
       "    </tr>\n",
       "    <tr>\n",
       "      <th>144</th>\n",
       "      <td>29</td>\n",
       "      <td>2.0</td>\n",
       "      <td>17.0</td>\n",
       "      <td>2.0</td>\n",
       "      <td>0.0</td>\n",
       "      <td>0.0</td>\n",
       "      <td>0.0</td>\n",
       "      <td>1.0</td>\n",
       "      <td>9.00</td>\n",
       "      <td>0.0</td>\n",
       "      <td>...</td>\n",
       "      <td>0.0</td>\n",
       "      <td>0</td>\n",
       "      <td>0</td>\n",
       "      <td>0</td>\n",
       "      <td>0</td>\n",
       "      <td>0</td>\n",
       "      <td>0</td>\n",
       "      <td>0</td>\n",
       "      <td>0</td>\n",
       "      <td>0</td>\n",
       "    </tr>\n",
       "    <tr>\n",
       "      <th>644</th>\n",
       "      <td>40</td>\n",
       "      <td>3.0</td>\n",
       "      <td>23.0</td>\n",
       "      <td>2.0</td>\n",
       "      <td>0.0</td>\n",
       "      <td>0.0</td>\n",
       "      <td>0.0</td>\n",
       "      <td>0.0</td>\n",
       "      <td>0.00</td>\n",
       "      <td>0.0</td>\n",
       "      <td>...</td>\n",
       "      <td>0.0</td>\n",
       "      <td>1</td>\n",
       "      <td>0</td>\n",
       "      <td>0</td>\n",
       "      <td>0</td>\n",
       "      <td>0</td>\n",
       "      <td>0</td>\n",
       "      <td>0</td>\n",
       "      <td>0</td>\n",
       "      <td>0</td>\n",
       "    </tr>\n",
       "    <tr>\n",
       "      <th>592</th>\n",
       "      <td>21</td>\n",
       "      <td>1.0</td>\n",
       "      <td>18.0</td>\n",
       "      <td>1.0</td>\n",
       "      <td>0.0</td>\n",
       "      <td>0.0</td>\n",
       "      <td>0.0</td>\n",
       "      <td>1.0</td>\n",
       "      <td>2.00</td>\n",
       "      <td>0.0</td>\n",
       "      <td>...</td>\n",
       "      <td>0.0</td>\n",
       "      <td>0</td>\n",
       "      <td>0</td>\n",
       "      <td>0</td>\n",
       "      <td>0</td>\n",
       "      <td>0</td>\n",
       "      <td>0</td>\n",
       "      <td>0</td>\n",
       "      <td>0</td>\n",
       "      <td>0</td>\n",
       "    </tr>\n",
       "    <tr>\n",
       "      <th>220</th>\n",
       "      <td>26</td>\n",
       "      <td>1.0</td>\n",
       "      <td>18.0</td>\n",
       "      <td>2.0</td>\n",
       "      <td>0.0</td>\n",
       "      <td>0.0</td>\n",
       "      <td>0.0</td>\n",
       "      <td>0.0</td>\n",
       "      <td>0.00</td>\n",
       "      <td>0.0</td>\n",
       "      <td>...</td>\n",
       "      <td>0.0</td>\n",
       "      <td>0</td>\n",
       "      <td>0</td>\n",
       "      <td>0</td>\n",
       "      <td>0</td>\n",
       "      <td>0</td>\n",
       "      <td>0</td>\n",
       "      <td>0</td>\n",
       "      <td>0</td>\n",
       "      <td>0</td>\n",
       "    </tr>\n",
       "    <tr>\n",
       "      <th>346</th>\n",
       "      <td>20</td>\n",
       "      <td>3.0</td>\n",
       "      <td>17.0</td>\n",
       "      <td>2.0</td>\n",
       "      <td>0.0</td>\n",
       "      <td>0.0</td>\n",
       "      <td>0.0</td>\n",
       "      <td>1.0</td>\n",
       "      <td>0.25</td>\n",
       "      <td>0.0</td>\n",
       "      <td>...</td>\n",
       "      <td>0.0</td>\n",
       "      <td>0</td>\n",
       "      <td>0</td>\n",
       "      <td>0</td>\n",
       "      <td>0</td>\n",
       "      <td>0</td>\n",
       "      <td>0</td>\n",
       "      <td>0</td>\n",
       "      <td>1</td>\n",
       "      <td>1</td>\n",
       "    </tr>\n",
       "    <tr>\n",
       "      <th>198</th>\n",
       "      <td>30</td>\n",
       "      <td>1.0</td>\n",
       "      <td>23.0</td>\n",
       "      <td>1.0</td>\n",
       "      <td>0.0</td>\n",
       "      <td>0.0</td>\n",
       "      <td>0.0</td>\n",
       "      <td>1.0</td>\n",
       "      <td>0.08</td>\n",
       "      <td>0.0</td>\n",
       "      <td>...</td>\n",
       "      <td>0.0</td>\n",
       "      <td>0</td>\n",
       "      <td>0</td>\n",
       "      <td>0</td>\n",
       "      <td>0</td>\n",
       "      <td>0</td>\n",
       "      <td>0</td>\n",
       "      <td>0</td>\n",
       "      <td>0</td>\n",
       "      <td>0</td>\n",
       "    </tr>\n",
       "    <tr>\n",
       "      <th>376</th>\n",
       "      <td>35</td>\n",
       "      <td>2.0</td>\n",
       "      <td>17.0</td>\n",
       "      <td>3.0</td>\n",
       "      <td>0.0</td>\n",
       "      <td>0.0</td>\n",
       "      <td>0.0</td>\n",
       "      <td>1.0</td>\n",
       "      <td>1.00</td>\n",
       "      <td>0.0</td>\n",
       "      <td>...</td>\n",
       "      <td>0.0</td>\n",
       "      <td>0</td>\n",
       "      <td>0</td>\n",
       "      <td>0</td>\n",
       "      <td>0</td>\n",
       "      <td>0</td>\n",
       "      <td>1</td>\n",
       "      <td>1</td>\n",
       "      <td>0</td>\n",
       "      <td>1</td>\n",
       "    </tr>\n",
       "    <tr>\n",
       "      <th>544</th>\n",
       "      <td>42</td>\n",
       "      <td>3.0</td>\n",
       "      <td>18.0</td>\n",
       "      <td>4.0</td>\n",
       "      <td>0.0</td>\n",
       "      <td>0.0</td>\n",
       "      <td>0.0</td>\n",
       "      <td>1.0</td>\n",
       "      <td>1.00</td>\n",
       "      <td>0.0</td>\n",
       "      <td>...</td>\n",
       "      <td>0.0</td>\n",
       "      <td>1</td>\n",
       "      <td>0</td>\n",
       "      <td>0</td>\n",
       "      <td>0</td>\n",
       "      <td>0</td>\n",
       "      <td>0</td>\n",
       "      <td>0</td>\n",
       "      <td>0</td>\n",
       "      <td>0</td>\n",
       "    </tr>\n",
       "    <tr>\n",
       "      <th>249</th>\n",
       "      <td>25</td>\n",
       "      <td>2.0</td>\n",
       "      <td>18.0</td>\n",
       "      <td>3.0</td>\n",
       "      <td>0.0</td>\n",
       "      <td>0.0</td>\n",
       "      <td>0.0</td>\n",
       "      <td>1.0</td>\n",
       "      <td>5.00</td>\n",
       "      <td>0.0</td>\n",
       "      <td>...</td>\n",
       "      <td>0.0</td>\n",
       "      <td>0</td>\n",
       "      <td>0</td>\n",
       "      <td>0</td>\n",
       "      <td>0</td>\n",
       "      <td>0</td>\n",
       "      <td>0</td>\n",
       "      <td>0</td>\n",
       "      <td>0</td>\n",
       "      <td>0</td>\n",
       "    </tr>\n",
       "  </tbody>\n",
       "</table>\n",
       "<p>10 rows × 34 columns</p>\n",
       "</div>"
      ],
      "text/plain": [
       "     Age  Number of sexual partners  First sexual intercourse  \\\n",
       "490   26                        2.0                      16.0   \n",
       "144   29                        2.0                      17.0   \n",
       "644   40                        3.0                      23.0   \n",
       "592   21                        1.0                      18.0   \n",
       "220   26                        1.0                      18.0   \n",
       "346   20                        3.0                      17.0   \n",
       "198   30                        1.0                      23.0   \n",
       "376   35                        2.0                      17.0   \n",
       "544   42                        3.0                      18.0   \n",
       "249   25                        2.0                      18.0   \n",
       "\n",
       "     Num of pregnancies  Smokes  Smokes (years)  Smokes (packs/year)  \\\n",
       "490                 3.0     1.0             1.0                  1.0   \n",
       "144                 2.0     0.0             0.0                  0.0   \n",
       "644                 2.0     0.0             0.0                  0.0   \n",
       "592                 1.0     0.0             0.0                  0.0   \n",
       "220                 2.0     0.0             0.0                  0.0   \n",
       "346                 2.0     0.0             0.0                  0.0   \n",
       "198                 1.0     0.0             0.0                  0.0   \n",
       "376                 3.0     0.0             0.0                  0.0   \n",
       "544                 4.0     0.0             0.0                  0.0   \n",
       "249                 3.0     0.0             0.0                  0.0   \n",
       "\n",
       "     Hormonal Contraceptives  Hormonal Contraceptives (years)  IUD  ...  \\\n",
       "490                      1.0                             2.00  0.0  ...   \n",
       "144                      1.0                             9.00  0.0  ...   \n",
       "644                      0.0                             0.00  0.0  ...   \n",
       "592                      1.0                             2.00  0.0  ...   \n",
       "220                      0.0                             0.00  0.0  ...   \n",
       "346                      1.0                             0.25  0.0  ...   \n",
       "198                      1.0                             0.08  0.0  ...   \n",
       "376                      1.0                             1.00  0.0  ...   \n",
       "544                      1.0                             1.00  0.0  ...   \n",
       "249                      1.0                             5.00  0.0  ...   \n",
       "\n",
       "     STDs:HPV  STDs: Number of diagnosis  Dx:Cancer  Dx:CIN  Dx:HPV  Dx  \\\n",
       "490       0.0                          0          0       0       0   0   \n",
       "144       0.0                          0          0       0       0   0   \n",
       "644       0.0                          1          0       0       0   0   \n",
       "592       0.0                          0          0       0       0   0   \n",
       "220       0.0                          0          0       0       0   0   \n",
       "346       0.0                          0          0       0       0   0   \n",
       "198       0.0                          0          0       0       0   0   \n",
       "376       0.0                          0          0       0       0   0   \n",
       "544       0.0                          1          0       0       0   0   \n",
       "249       0.0                          0          0       0       0   0   \n",
       "\n",
       "     Hinselmann  Schiller  Citology  Biopsy  \n",
       "490           0         0         0       0  \n",
       "144           0         0         0       0  \n",
       "644           0         0         0       0  \n",
       "592           0         0         0       0  \n",
       "220           0         0         0       0  \n",
       "346           0         0         1       1  \n",
       "198           0         0         0       0  \n",
       "376           1         1         0       1  \n",
       "544           0         0         0       0  \n",
       "249           0         0         0       0  \n",
       "\n",
       "[10 rows x 34 columns]"
      ]
     },
     "execution_count": 35,
     "metadata": {},
     "output_type": "execute_result"
    }
   ],
   "source": [
    "df.shape\n",
    "df.sample(10)"
   ]
  },
  {
   "cell_type": "markdown",
   "metadata": {},
   "source": [
    "#### Split the dataset\n",
    "Split the dataset into training, validation and test sets."
   ]
  },
  {
   "cell_type": "code",
   "execution_count": 36,
   "metadata": {},
   "outputs": [],
   "source": [
    "y = df[['Hinselmann', 'Schiller', 'Citology', 'Biopsy']]\n",
    "X = df.drop(['Hinselmann', 'Schiller', 'Citology', 'Biopsy'], axis=1)\n",
    "scaler = StandardScaler()\n",
    "X_transform = scaler.fit_transform(X)\n"
   ]
  },
  {
   "cell_type": "code",
   "execution_count": 37,
   "metadata": {},
   "outputs": [
    {
     "name": "stdout",
     "output_type": "stream",
     "text": [
      "(373, 30)\n",
      "(94, 30)\n",
      "(201, 30)\n"
     ]
    }
   ],
   "source": [
    "seed_num = 10\n",
    "X_train, X_test, y_train, y_test = train_test_split(X_transform, y, test_size=0.3, random_state=seed_num) # random_state is set to a value for reproducible␣output.\n",
    "X_train, X_val, y_train, y_val = train_test_split(X_train, y_train, test_size=0.2, random_state=seed_num)\n",
    "print(X_train.shape)\n",
    "print(X_val.shape)\n",
    "print(X_test.shape)"
   ]
  },
  {
   "cell_type": "markdown",
   "metadata": {},
   "source": [
    "#### Data preprocessing\n",
    "Perform data preprocessing such as normalization, standardization, label encoding etc.\n",
    "______________________________________________________________________________________\n",
    "Description:"
   ]
  },
  {
   "cell_type": "markdown",
   "metadata": {},
   "source": [
    "##### Handling Boolean Values"
   ]
  },
  {
   "cell_type": "code",
   "execution_count": 38,
   "metadata": {},
   "outputs": [],
   "source": [
    "# Convert boolean-like columns to proper boolean data types\n",
    "boolean_cols = [\n",
    "    'Smokes', 'Smokes (years)', 'Smokes (packs/year)', 'Hormonal Contraceptives', 'IUD',\n",
    "    'STDs', 'STDs:condylomatosis', 'STDs:cervical condylomatosis', 'STDs:vaginal condylomatosis',\n",
    "    'STDs:vulvo-perineal condylomatosis', 'STDs:syphilis', 'STDs:pelvic inflammatory disease',\n",
    "    'STDs:genital herpes', 'STDs:molluscum contagiosum', 'STDs:AIDS', 'STDs:HIV', 'STDs:Hepatitis B',\n",
    "    'STDs:HPV', 'Dx:Cancer', 'Dx:CIN', 'Dx:HPV', 'Dx', 'Hinselmann', 'Schiller', 'Citology', 'Biopsy'\n",
    "]\n",
    "\n",
    "# Convert boolean-like columns to numeric\n",
    "df[boolean_cols] = df[boolean_cols].apply(pd.to_numeric, errors='coerce')\n",
    "\n",
    "# Replace values greater than 0 with 1, leave missing values untouched\n",
    "df[boolean_cols] = df[boolean_cols].applymap(lambda x: 1 if x > 0 else x)\n"
   ]
  },
  {
   "cell_type": "markdown",
   "metadata": {},
   "source": [
    "##### Check for the sum of missing values"
   ]
  },
  {
   "cell_type": "code",
   "execution_count": 39,
   "metadata": {},
   "outputs": [
    {
     "name": "stdout",
     "output_type": "stream",
     "text": [
      "Age                                   0\n",
      "Number of sexual partners             0\n",
      "First sexual intercourse              0\n",
      "Num of pregnancies                    0\n",
      "Smokes                                0\n",
      "Smokes (years)                        0\n",
      "Smokes (packs/year)                   0\n",
      "Hormonal Contraceptives               0\n",
      "Hormonal Contraceptives (years)       0\n",
      "IUD                                   0\n",
      "IUD (years)                           0\n",
      "STDs                                  0\n",
      "STDs (number)                         0\n",
      "STDs:condylomatosis                   0\n",
      "STDs:cervical condylomatosis          0\n",
      "STDs:vaginal condylomatosis           0\n",
      "STDs:vulvo-perineal condylomatosis    0\n",
      "STDs:syphilis                         0\n",
      "STDs:pelvic inflammatory disease      0\n",
      "STDs:genital herpes                   0\n",
      "STDs:molluscum contagiosum            0\n",
      "STDs:AIDS                             0\n",
      "STDs:HIV                              0\n",
      "STDs:Hepatitis B                      0\n",
      "STDs:HPV                              0\n",
      "STDs: Number of diagnosis             0\n",
      "Dx:Cancer                             0\n",
      "Dx:CIN                                0\n",
      "Dx:HPV                                0\n",
      "Dx                                    0\n",
      "Hinselmann                            0\n",
      "Schiller                              0\n",
      "Citology                              0\n",
      "Biopsy                                0\n",
      "dtype: int64\n"
     ]
    }
   ],
   "source": [
    "print(df.isnull().sum())"
   ]
  },
  {
   "cell_type": "markdown",
   "metadata": {},
   "source": [
    "##### Dropping Columns with too high missing values"
   ]
  },
  {
   "cell_type": "code",
   "execution_count": 41,
   "metadata": {},
   "outputs": [
    {
     "name": "stdout",
     "output_type": "stream",
     "text": [
      "Age                                   0\n",
      "Number of sexual partners             0\n",
      "First sexual intercourse              0\n",
      "Num of pregnancies                    0\n",
      "Smokes                                0\n",
      "Smokes (years)                        0\n",
      "Smokes (packs/year)                   0\n",
      "Hormonal Contraceptives               0\n",
      "Hormonal Contraceptives (years)       0\n",
      "IUD                                   0\n",
      "IUD (years)                           0\n",
      "STDs                                  0\n",
      "STDs (number)                         0\n",
      "STDs:condylomatosis                   0\n",
      "STDs:cervical condylomatosis          0\n",
      "STDs:vaginal condylomatosis           0\n",
      "STDs:vulvo-perineal condylomatosis    0\n",
      "STDs:syphilis                         0\n",
      "STDs:pelvic inflammatory disease      0\n",
      "STDs:genital herpes                   0\n",
      "STDs:molluscum contagiosum            0\n",
      "STDs:AIDS                             0\n",
      "STDs:HIV                              0\n",
      "STDs:Hepatitis B                      0\n",
      "STDs:HPV                              0\n",
      "STDs: Number of diagnosis             0\n",
      "Dx:Cancer                             0\n",
      "Dx:CIN                                0\n",
      "Dx:HPV                                0\n",
      "Dx                                    0\n",
      "Hinselmann                            0\n",
      "Schiller                              0\n",
      "Citology                              0\n",
      "Biopsy                                0\n",
      "dtype: int64\n"
     ]
    },
    {
     "data": {
      "text/plain": [
       "(668, 34)"
      ]
     },
     "execution_count": 41,
     "metadata": {},
     "output_type": "execute_result"
    }
   ],
   "source": [
    "# Set the threshold for dropping columns\n",
    "threshold = 0.5  #keep columns with at least 50% non-null values\n",
    "\n",
    "# Calculate the minimum number of non-null values required for each column to be retained\n",
    "min_non_null_values = len(df) * threshold\n",
    "\n",
    "# Drop columns with too many missing values\n",
    "df = df.dropna(axis=1, thresh=min_non_null_values)\n",
    "\n",
    "# Print the remaining missing values count after dropping columns\n",
    "print(df.isnull().sum())\n",
    "\n",
    "df.shape\n"
   ]
  },
  {
   "cell_type": "markdown",
   "metadata": {},
   "source": [
    "##### Dropping Rows with missing values"
   ]
  },
  {
   "cell_type": "code",
   "execution_count": 42,
   "metadata": {},
   "outputs": [
    {
     "name": "stdout",
     "output_type": "stream",
     "text": [
      "Age                                   0\n",
      "Number of sexual partners             0\n",
      "First sexual intercourse              0\n",
      "Num of pregnancies                    0\n",
      "Smokes                                0\n",
      "Smokes (years)                        0\n",
      "Smokes (packs/year)                   0\n",
      "Hormonal Contraceptives               0\n",
      "Hormonal Contraceptives (years)       0\n",
      "IUD                                   0\n",
      "IUD (years)                           0\n",
      "STDs                                  0\n",
      "STDs (number)                         0\n",
      "STDs:condylomatosis                   0\n",
      "STDs:cervical condylomatosis          0\n",
      "STDs:vaginal condylomatosis           0\n",
      "STDs:vulvo-perineal condylomatosis    0\n",
      "STDs:syphilis                         0\n",
      "STDs:pelvic inflammatory disease      0\n",
      "STDs:genital herpes                   0\n",
      "STDs:molluscum contagiosum            0\n",
      "STDs:AIDS                             0\n",
      "STDs:HIV                              0\n",
      "STDs:Hepatitis B                      0\n",
      "STDs:HPV                              0\n",
      "STDs: Number of diagnosis             0\n",
      "Dx:Cancer                             0\n",
      "Dx:CIN                                0\n",
      "Dx:HPV                                0\n",
      "Dx                                    0\n",
      "Hinselmann                            0\n",
      "Schiller                              0\n",
      "Citology                              0\n",
      "Biopsy                                0\n",
      "dtype: int64\n"
     ]
    }
   ],
   "source": [
    "# Drop rows with missing values\n",
    "df = df.dropna()\n",
    "\n",
    "# Print the remaining missing values count after dropping rows\n",
    "print(df.isnull().sum())\n",
    "\n",
    "# Print the shape of the cleaned dataset\n",
    "df.shape\n",
    "\n",
    "#export cleaned data\n",
    "df.to_csv('risk_factors_clean.csv', index=False)"
   ]
  },
  {
   "cell_type": "markdown",
   "metadata": {},
   "source": [
    "#### Feature Selection\n",
    "Perform feature selection to select the relevant features.\n",
    "______________________________________________________________________________________\n",
    "Feature Selection Using Random Forest\n",
    "\n",
    "Step 1: Loading dataset\n",
    "\n",
    "Step 2: Train Test Split\n",
    "\n",
    "Step 3: Import Random Forest Classifier module.\n",
    "\n",
    "Step 4: Training of Model"
   ]
  },
  {
   "cell_type": "code",
   "execution_count": 43,
   "metadata": {},
   "outputs": [],
   "source": [
    "df = pd.read_csv('risk_factors_clean.csv', na_values='?')"
   ]
  },
  {
   "cell_type": "code",
   "execution_count": 44,
   "metadata": {},
   "outputs": [],
   "source": [
    "y = df[['Hinselmann', 'Schiller', 'Citology', 'Biopsy']]\n",
    "X = df.drop(['Hinselmann', 'Schiller', 'Citology', 'Biopsy'], axis=1)\n",
    "scaler = StandardScaler()\n",
    "X_transform = scaler.fit_transform(X)"
   ]
  },
  {
   "cell_type": "code",
   "execution_count": 45,
   "metadata": {},
   "outputs": [],
   "source": [
    "seed_num = 10\n",
    "X_train, X_test, y_train, y_test = train_test_split(X_transform, y, test_size=0.3, random_state=seed_num) # random_state is set to a value for reproducible␣output."
   ]
  },
  {
   "cell_type": "code",
   "execution_count": 46,
   "metadata": {},
   "outputs": [],
   "source": [
    "from sklearn.ensemble import RandomForestClassifier"
   ]
  },
  {
   "cell_type": "code",
   "execution_count": 47,
   "metadata": {},
   "outputs": [
    {
     "name": "stdout",
     "output_type": "stream",
     "text": [
      "\n",
      "ACCURACY OF THE MODEL: 0.8606965174129353\n"
     ]
    }
   ],
   "source": [
    "# creating a RF classifier\n",
    "clf = RandomForestClassifier(n_estimators = 100)  \n",
    " \n",
    "# Training the model on the training dataset\n",
    "# fit function is used to train the model using the training sets as parameters\n",
    "clf.fit(X_train, y_train)\n",
    " \n",
    "# performing predictions on the test dataset\n",
    "y_pred = clf.predict(X_test)\n",
    " \n",
    "# metrics are used to find accuracy or error\n",
    "from sklearn import metrics  \n",
    "print()\n",
    " \n",
    "# using metrics module for accuracy calculation\n",
    "print(\"ACCURACY OF THE MODEL:\", metrics.accuracy_score(y_test, y_pred))"
   ]
  },
  {
   "cell_type": "code",
   "execution_count": 48,
   "metadata": {},
   "outputs": [
    {
     "data": {
      "text/plain": [
       "Age                                   0.220102\n",
       "First sexual intercourse              0.153943\n",
       "Hormonal Contraceptives (years)       0.151702\n",
       "Number of sexual partners             0.109701\n",
       "Num of pregnancies                    0.098737\n",
       "IUD (years)                           0.037467\n",
       "Dx:HPV                                0.030936\n",
       "Dx:Cancer                             0.023941\n",
       "Hormonal Contraceptives               0.023679\n",
       "STDs:HIV                              0.020636\n",
       "STDs (number)                         0.019537\n",
       "IUD                                   0.019146\n",
       "Smokes (packs/year)                   0.014988\n",
       "Dx                                    0.013433\n",
       "Smokes (years)                        0.012917\n",
       "STDs: Number of diagnosis             0.012251\n",
       "Smokes                                0.011495\n",
       "STDs:vulvo-perineal condylomatosis    0.006386\n",
       "STDs                                  0.005342\n",
       "STDs:condylomatosis                   0.004784\n",
       "STDs:syphilis                         0.003029\n",
       "Dx:CIN                                0.002978\n",
       "STDs:vaginal condylomatosis           0.001547\n",
       "STDs:HPV                              0.000533\n",
       "STDs:Hepatitis B                      0.000467\n",
       "STDs:molluscum contagiosum            0.000268\n",
       "STDs:pelvic inflammatory disease      0.000055\n",
       "STDs:cervical condylomatosis          0.000000\n",
       "STDs:genital herpes                   0.000000\n",
       "STDs:AIDS                             0.000000\n",
       "dtype: float64"
      ]
     },
     "execution_count": 48,
     "metadata": {},
     "output_type": "execute_result"
    }
   ],
   "source": [
    "feature_imp = pd.Series(clf.feature_importances_, index = X.columns).sort_values(ascending = False)\n",
    "feature_imp ##print the features significant in ascending order"
   ]
  },
  {
   "cell_type": "code",
   "execution_count": 49,
   "metadata": {},
   "outputs": [],
   "source": [
    "##Take 5 most important features\n",
    "X = df[['Age','First sexual intercourse', 'Hormonal Contraceptives (years)', 'Number of sexual partners', 'Num of pregnancies']]"
   ]
  },
  {
   "cell_type": "code",
   "execution_count": 50,
   "metadata": {},
   "outputs": [],
   "source": [
    "seed_num = 10\n",
    "X_train, X_test, y_train, y_test = train_test_split(X_transform, y, test_size=0.3, random_state=seed_num) # random_state is set to a value for reproducible␣output."
   ]
  },
  {
   "cell_type": "code",
   "execution_count": 51,
   "metadata": {},
   "outputs": [
    {
     "name": "stdout",
     "output_type": "stream",
     "text": [
      "\n",
      "ACCURACY OF THE MODEL: 0.8656716417910447\n"
     ]
    }
   ],
   "source": [
    "# creating a RF classifier\n",
    "clf = RandomForestClassifier(n_estimators = 100)  \n",
    " \n",
    "# Training the model on the training dataset\n",
    "# fit function is used to train the model using the training sets as parameters\n",
    "clf.fit(X_train, y_train)\n",
    " \n",
    "# performing predictions on the test dataset\n",
    "y_pred = clf.predict(X_test)\n",
    " \n",
    "# metrics are used to find accuracy or error\n",
    "from sklearn import metrics  \n",
    "print()\n",
    " \n",
    "# using metrics module for accuracy calculation\n",
    "print(\"ACCURACY OF THE MODEL:\", metrics.accuracy_score(y_test, y_pred))"
   ]
  },
  {
   "cell_type": "markdown",
   "metadata": {},
   "source": [
    "_**As the result, the accuracy of the model when we take the 5 most significant features is exactly\n",
    "the same as the accuracy of the model using all 30 features, indicating that the selected features effectively \n",
    "capture the essential information for making predictions.**_"
   ]
  },
  {
   "cell_type": "markdown",
   "metadata": {},
   "source": [
    "#### Data modeling\n",
    "Build the machine learning models. You must build atleast two (2) predictive models. One of the predictive models must be either Decision Tree or Support Vector Machine.\n",
    "______________________________________________________________________________________\n",
    "Description:"
   ]
  },
  {
   "cell_type": "markdown",
   "metadata": {},
   "source": [
    "## Decision Tree"
   ]
  },
  {
   "cell_type": "code",
   "execution_count": 60,
   "metadata": {},
   "outputs": [
    {
     "name": "stdout",
     "output_type": "stream",
     "text": [
      "Mean F1 score: 0.12725572770309615 with parameters: {'estimator__ccp_alpha': 0.0, 'estimator__max_depth': None, 'estimator__min_samples_leaf': 1, 'estimator__min_samples_split': 2}\n",
      "Mean F1 score: 0.1375685560419454 with parameters: {'estimator__ccp_alpha': 0.0, 'estimator__max_depth': None, 'estimator__min_samples_leaf': 1, 'estimator__min_samples_split': 5}\n",
      "Mean F1 score: 0.06822190155523489 with parameters: {'estimator__ccp_alpha': 0.0, 'estimator__max_depth': None, 'estimator__min_samples_leaf': 1, 'estimator__min_samples_split': 10}\n",
      "Mean F1 score: 0.1432551575408718 with parameters: {'estimator__ccp_alpha': 0.0, 'estimator__max_depth': None, 'estimator__min_samples_leaf': 2, 'estimator__min_samples_split': 2}\n",
      "Mean F1 score: 0.09562769505626646 with parameters: {'estimator__ccp_alpha': 0.0, 'estimator__max_depth': None, 'estimator__min_samples_leaf': 2, 'estimator__min_samples_split': 5}\n",
      "Mean F1 score: 0.05291406124739458 with parameters: {'estimator__ccp_alpha': 0.0, 'estimator__max_depth': None, 'estimator__min_samples_leaf': 2, 'estimator__min_samples_split': 10}\n",
      "Mean F1 score: 0.034500419912319225 with parameters: {'estimator__ccp_alpha': 0.0, 'estimator__max_depth': None, 'estimator__min_samples_leaf': 4, 'estimator__min_samples_split': 2}\n",
      "Mean F1 score: 0.034500419912319225 with parameters: {'estimator__ccp_alpha': 0.0, 'estimator__max_depth': None, 'estimator__min_samples_leaf': 4, 'estimator__min_samples_split': 5}\n",
      "Mean F1 score: 0.034500419912319225 with parameters: {'estimator__ccp_alpha': 0.0, 'estimator__max_depth': None, 'estimator__min_samples_leaf': 4, 'estimator__min_samples_split': 10}\n",
      "Mean F1 score: 0.09405069934626585 with parameters: {'estimator__ccp_alpha': 0.0, 'estimator__max_depth': 10, 'estimator__min_samples_leaf': 1, 'estimator__min_samples_split': 2}\n",
      "Mean F1 score: 0.14815347966030487 with parameters: {'estimator__ccp_alpha': 0.0, 'estimator__max_depth': 10, 'estimator__min_samples_leaf': 1, 'estimator__min_samples_split': 5}\n",
      "Mean F1 score: 0.0606461439794773 with parameters: {'estimator__ccp_alpha': 0.0, 'estimator__max_depth': 10, 'estimator__min_samples_leaf': 1, 'estimator__min_samples_split': 10}\n",
      "Mean F1 score: 0.15794553594553593 with parameters: {'estimator__ccp_alpha': 0.0, 'estimator__max_depth': 10, 'estimator__min_samples_leaf': 2, 'estimator__min_samples_split': 2}\n",
      "Mean F1 score: 0.10793034645666223 with parameters: {'estimator__ccp_alpha': 0.0, 'estimator__max_depth': 10, 'estimator__min_samples_leaf': 2, 'estimator__min_samples_split': 5}\n",
      "Mean F1 score: 0.06482123619804779 with parameters: {'estimator__ccp_alpha': 0.0, 'estimator__max_depth': 10, 'estimator__min_samples_leaf': 2, 'estimator__min_samples_split': 10}\n",
      "Mean F1 score: 0.034500419912319225 with parameters: {'estimator__ccp_alpha': 0.0, 'estimator__max_depth': 10, 'estimator__min_samples_leaf': 4, 'estimator__min_samples_split': 2}\n",
      "Mean F1 score: 0.034500419912319225 with parameters: {'estimator__ccp_alpha': 0.0, 'estimator__max_depth': 10, 'estimator__min_samples_leaf': 4, 'estimator__min_samples_split': 5}\n",
      "Mean F1 score: 0.034500419912319225 with parameters: {'estimator__ccp_alpha': 0.0, 'estimator__max_depth': 10, 'estimator__min_samples_leaf': 4, 'estimator__min_samples_split': 10}\n",
      "Mean F1 score: 0.12725572770309615 with parameters: {'estimator__ccp_alpha': 0.0, 'estimator__max_depth': 20, 'estimator__min_samples_leaf': 1, 'estimator__min_samples_split': 2}\n",
      "Mean F1 score: 0.1375685560419454 with parameters: {'estimator__ccp_alpha': 0.0, 'estimator__max_depth': 20, 'estimator__min_samples_leaf': 1, 'estimator__min_samples_split': 5}\n",
      "Mean F1 score: 0.06822190155523489 with parameters: {'estimator__ccp_alpha': 0.0, 'estimator__max_depth': 20, 'estimator__min_samples_leaf': 1, 'estimator__min_samples_split': 10}\n",
      "Mean F1 score: 0.1432551575408718 with parameters: {'estimator__ccp_alpha': 0.0, 'estimator__max_depth': 20, 'estimator__min_samples_leaf': 2, 'estimator__min_samples_split': 2}\n",
      "Mean F1 score: 0.09562769505626646 with parameters: {'estimator__ccp_alpha': 0.0, 'estimator__max_depth': 20, 'estimator__min_samples_leaf': 2, 'estimator__min_samples_split': 5}\n",
      "Mean F1 score: 0.05291406124739458 with parameters: {'estimator__ccp_alpha': 0.0, 'estimator__max_depth': 20, 'estimator__min_samples_leaf': 2, 'estimator__min_samples_split': 10}\n",
      "Mean F1 score: 0.034500419912319225 with parameters: {'estimator__ccp_alpha': 0.0, 'estimator__max_depth': 20, 'estimator__min_samples_leaf': 4, 'estimator__min_samples_split': 2}\n",
      "Mean F1 score: 0.034500419912319225 with parameters: {'estimator__ccp_alpha': 0.0, 'estimator__max_depth': 20, 'estimator__min_samples_leaf': 4, 'estimator__min_samples_split': 5}\n",
      "Mean F1 score: 0.034500419912319225 with parameters: {'estimator__ccp_alpha': 0.0, 'estimator__max_depth': 20, 'estimator__min_samples_leaf': 4, 'estimator__min_samples_split': 10}\n",
      "Mean F1 score: 0.12725572770309615 with parameters: {'estimator__ccp_alpha': 0.0, 'estimator__max_depth': 30, 'estimator__min_samples_leaf': 1, 'estimator__min_samples_split': 2}\n",
      "Mean F1 score: 0.1375685560419454 with parameters: {'estimator__ccp_alpha': 0.0, 'estimator__max_depth': 30, 'estimator__min_samples_leaf': 1, 'estimator__min_samples_split': 5}\n",
      "Mean F1 score: 0.06822190155523489 with parameters: {'estimator__ccp_alpha': 0.0, 'estimator__max_depth': 30, 'estimator__min_samples_leaf': 1, 'estimator__min_samples_split': 10}\n",
      "Mean F1 score: 0.1432551575408718 with parameters: {'estimator__ccp_alpha': 0.0, 'estimator__max_depth': 30, 'estimator__min_samples_leaf': 2, 'estimator__min_samples_split': 2}\n",
      "Mean F1 score: 0.09562769505626646 with parameters: {'estimator__ccp_alpha': 0.0, 'estimator__max_depth': 30, 'estimator__min_samples_leaf': 2, 'estimator__min_samples_split': 5}\n",
      "Mean F1 score: 0.05291406124739458 with parameters: {'estimator__ccp_alpha': 0.0, 'estimator__max_depth': 30, 'estimator__min_samples_leaf': 2, 'estimator__min_samples_split': 10}\n",
      "Mean F1 score: 0.034500419912319225 with parameters: {'estimator__ccp_alpha': 0.0, 'estimator__max_depth': 30, 'estimator__min_samples_leaf': 4, 'estimator__min_samples_split': 2}\n",
      "Mean F1 score: 0.034500419912319225 with parameters: {'estimator__ccp_alpha': 0.0, 'estimator__max_depth': 30, 'estimator__min_samples_leaf': 4, 'estimator__min_samples_split': 5}\n",
      "Mean F1 score: 0.034500419912319225 with parameters: {'estimator__ccp_alpha': 0.0, 'estimator__max_depth': 30, 'estimator__min_samples_leaf': 4, 'estimator__min_samples_split': 10}\n",
      "Mean F1 score: 0.023989898989898988 with parameters: {'estimator__ccp_alpha': 0.01, 'estimator__max_depth': None, 'estimator__min_samples_leaf': 1, 'estimator__min_samples_split': 2}\n",
      "Mean F1 score: 0.023989898989898988 with parameters: {'estimator__ccp_alpha': 0.01, 'estimator__max_depth': None, 'estimator__min_samples_leaf': 1, 'estimator__min_samples_split': 5}\n",
      "Mean F1 score: 0.023989898989898988 with parameters: {'estimator__ccp_alpha': 0.01, 'estimator__max_depth': None, 'estimator__min_samples_leaf': 1, 'estimator__min_samples_split': 10}\n",
      "Mean F1 score: 0.023989898989898988 with parameters: {'estimator__ccp_alpha': 0.01, 'estimator__max_depth': None, 'estimator__min_samples_leaf': 2, 'estimator__min_samples_split': 2}\n",
      "Mean F1 score: 0.023989898989898988 with parameters: {'estimator__ccp_alpha': 0.01, 'estimator__max_depth': None, 'estimator__min_samples_leaf': 2, 'estimator__min_samples_split': 5}\n",
      "Mean F1 score: 0.023989898989898988 with parameters: {'estimator__ccp_alpha': 0.01, 'estimator__max_depth': None, 'estimator__min_samples_leaf': 2, 'estimator__min_samples_split': 10}\n",
      "Mean F1 score: 0.023989898989898988 with parameters: {'estimator__ccp_alpha': 0.01, 'estimator__max_depth': None, 'estimator__min_samples_leaf': 4, 'estimator__min_samples_split': 2}\n",
      "Mean F1 score: 0.023989898989898988 with parameters: {'estimator__ccp_alpha': 0.01, 'estimator__max_depth': None, 'estimator__min_samples_leaf': 4, 'estimator__min_samples_split': 5}\n",
      "Mean F1 score: 0.023989898989898988 with parameters: {'estimator__ccp_alpha': 0.01, 'estimator__max_depth': None, 'estimator__min_samples_leaf': 4, 'estimator__min_samples_split': 10}\n",
      "Mean F1 score: 0.023989898989898988 with parameters: {'estimator__ccp_alpha': 0.01, 'estimator__max_depth': 10, 'estimator__min_samples_leaf': 1, 'estimator__min_samples_split': 2}\n",
      "Mean F1 score: 0.023989898989898988 with parameters: {'estimator__ccp_alpha': 0.01, 'estimator__max_depth': 10, 'estimator__min_samples_leaf': 1, 'estimator__min_samples_split': 5}\n",
      "Mean F1 score: 0.023989898989898988 with parameters: {'estimator__ccp_alpha': 0.01, 'estimator__max_depth': 10, 'estimator__min_samples_leaf': 1, 'estimator__min_samples_split': 10}\n",
      "Mean F1 score: 0.023989898989898988 with parameters: {'estimator__ccp_alpha': 0.01, 'estimator__max_depth': 10, 'estimator__min_samples_leaf': 2, 'estimator__min_samples_split': 2}\n",
      "Mean F1 score: 0.023989898989898988 with parameters: {'estimator__ccp_alpha': 0.01, 'estimator__max_depth': 10, 'estimator__min_samples_leaf': 2, 'estimator__min_samples_split': 5}\n",
      "Mean F1 score: 0.023989898989898988 with parameters: {'estimator__ccp_alpha': 0.01, 'estimator__max_depth': 10, 'estimator__min_samples_leaf': 2, 'estimator__min_samples_split': 10}\n",
      "Mean F1 score: 0.023989898989898988 with parameters: {'estimator__ccp_alpha': 0.01, 'estimator__max_depth': 10, 'estimator__min_samples_leaf': 4, 'estimator__min_samples_split': 2}\n",
      "Mean F1 score: 0.023989898989898988 with parameters: {'estimator__ccp_alpha': 0.01, 'estimator__max_depth': 10, 'estimator__min_samples_leaf': 4, 'estimator__min_samples_split': 5}\n",
      "Mean F1 score: 0.023989898989898988 with parameters: {'estimator__ccp_alpha': 0.01, 'estimator__max_depth': 10, 'estimator__min_samples_leaf': 4, 'estimator__min_samples_split': 10}\n",
      "Mean F1 score: 0.023989898989898988 with parameters: {'estimator__ccp_alpha': 0.01, 'estimator__max_depth': 20, 'estimator__min_samples_leaf': 1, 'estimator__min_samples_split': 2}\n",
      "Mean F1 score: 0.023989898989898988 with parameters: {'estimator__ccp_alpha': 0.01, 'estimator__max_depth': 20, 'estimator__min_samples_leaf': 1, 'estimator__min_samples_split': 5}\n",
      "Mean F1 score: 0.023989898989898988 with parameters: {'estimator__ccp_alpha': 0.01, 'estimator__max_depth': 20, 'estimator__min_samples_leaf': 1, 'estimator__min_samples_split': 10}\n",
      "Mean F1 score: 0.023989898989898988 with parameters: {'estimator__ccp_alpha': 0.01, 'estimator__max_depth': 20, 'estimator__min_samples_leaf': 2, 'estimator__min_samples_split': 2}\n",
      "Mean F1 score: 0.023989898989898988 with parameters: {'estimator__ccp_alpha': 0.01, 'estimator__max_depth': 20, 'estimator__min_samples_leaf': 2, 'estimator__min_samples_split': 5}\n",
      "Mean F1 score: 0.023989898989898988 with parameters: {'estimator__ccp_alpha': 0.01, 'estimator__max_depth': 20, 'estimator__min_samples_leaf': 2, 'estimator__min_samples_split': 10}\n",
      "Mean F1 score: 0.023989898989898988 with parameters: {'estimator__ccp_alpha': 0.01, 'estimator__max_depth': 20, 'estimator__min_samples_leaf': 4, 'estimator__min_samples_split': 2}\n",
      "Mean F1 score: 0.023989898989898988 with parameters: {'estimator__ccp_alpha': 0.01, 'estimator__max_depth': 20, 'estimator__min_samples_leaf': 4, 'estimator__min_samples_split': 5}\n",
      "Mean F1 score: 0.023989898989898988 with parameters: {'estimator__ccp_alpha': 0.01, 'estimator__max_depth': 20, 'estimator__min_samples_leaf': 4, 'estimator__min_samples_split': 10}\n",
      "Mean F1 score: 0.023989898989898988 with parameters: {'estimator__ccp_alpha': 0.01, 'estimator__max_depth': 30, 'estimator__min_samples_leaf': 1, 'estimator__min_samples_split': 2}\n",
      "Mean F1 score: 0.023989898989898988 with parameters: {'estimator__ccp_alpha': 0.01, 'estimator__max_depth': 30, 'estimator__min_samples_leaf': 1, 'estimator__min_samples_split': 5}\n",
      "Mean F1 score: 0.023989898989898988 with parameters: {'estimator__ccp_alpha': 0.01, 'estimator__max_depth': 30, 'estimator__min_samples_leaf': 1, 'estimator__min_samples_split': 10}\n",
      "Mean F1 score: 0.023989898989898988 with parameters: {'estimator__ccp_alpha': 0.01, 'estimator__max_depth': 30, 'estimator__min_samples_leaf': 2, 'estimator__min_samples_split': 2}\n",
      "Mean F1 score: 0.023989898989898988 with parameters: {'estimator__ccp_alpha': 0.01, 'estimator__max_depth': 30, 'estimator__min_samples_leaf': 2, 'estimator__min_samples_split': 5}\n",
      "Mean F1 score: 0.023989898989898988 with parameters: {'estimator__ccp_alpha': 0.01, 'estimator__max_depth': 30, 'estimator__min_samples_leaf': 2, 'estimator__min_samples_split': 10}\n",
      "Mean F1 score: 0.023989898989898988 with parameters: {'estimator__ccp_alpha': 0.01, 'estimator__max_depth': 30, 'estimator__min_samples_leaf': 4, 'estimator__min_samples_split': 2}\n",
      "Mean F1 score: 0.023989898989898988 with parameters: {'estimator__ccp_alpha': 0.01, 'estimator__max_depth': 30, 'estimator__min_samples_leaf': 4, 'estimator__min_samples_split': 5}\n",
      "Mean F1 score: 0.023989898989898988 with parameters: {'estimator__ccp_alpha': 0.01, 'estimator__max_depth': 30, 'estimator__min_samples_leaf': 4, 'estimator__min_samples_split': 10}\n",
      "Mean F1 score: 0.0 with parameters: {'estimator__ccp_alpha': 0.05, 'estimator__max_depth': None, 'estimator__min_samples_leaf': 1, 'estimator__min_samples_split': 2}\n",
      "Mean F1 score: 0.0 with parameters: {'estimator__ccp_alpha': 0.05, 'estimator__max_depth': None, 'estimator__min_samples_leaf': 1, 'estimator__min_samples_split': 5}\n",
      "Mean F1 score: 0.0 with parameters: {'estimator__ccp_alpha': 0.05, 'estimator__max_depth': None, 'estimator__min_samples_leaf': 1, 'estimator__min_samples_split': 10}\n",
      "Mean F1 score: 0.0 with parameters: {'estimator__ccp_alpha': 0.05, 'estimator__max_depth': None, 'estimator__min_samples_leaf': 2, 'estimator__min_samples_split': 2}\n",
      "Mean F1 score: 0.0 with parameters: {'estimator__ccp_alpha': 0.05, 'estimator__max_depth': None, 'estimator__min_samples_leaf': 2, 'estimator__min_samples_split': 5}\n",
      "Mean F1 score: 0.0 with parameters: {'estimator__ccp_alpha': 0.05, 'estimator__max_depth': None, 'estimator__min_samples_leaf': 2, 'estimator__min_samples_split': 10}\n",
      "Mean F1 score: 0.0 with parameters: {'estimator__ccp_alpha': 0.05, 'estimator__max_depth': None, 'estimator__min_samples_leaf': 4, 'estimator__min_samples_split': 2}\n",
      "Mean F1 score: 0.0 with parameters: {'estimator__ccp_alpha': 0.05, 'estimator__max_depth': None, 'estimator__min_samples_leaf': 4, 'estimator__min_samples_split': 5}\n",
      "Mean F1 score: 0.0 with parameters: {'estimator__ccp_alpha': 0.05, 'estimator__max_depth': None, 'estimator__min_samples_leaf': 4, 'estimator__min_samples_split': 10}\n",
      "Mean F1 score: 0.0 with parameters: {'estimator__ccp_alpha': 0.05, 'estimator__max_depth': 10, 'estimator__min_samples_leaf': 1, 'estimator__min_samples_split': 2}\n",
      "Mean F1 score: 0.0 with parameters: {'estimator__ccp_alpha': 0.05, 'estimator__max_depth': 10, 'estimator__min_samples_leaf': 1, 'estimator__min_samples_split': 5}\n",
      "Mean F1 score: 0.0 with parameters: {'estimator__ccp_alpha': 0.05, 'estimator__max_depth': 10, 'estimator__min_samples_leaf': 1, 'estimator__min_samples_split': 10}\n",
      "Mean F1 score: 0.0 with parameters: {'estimator__ccp_alpha': 0.05, 'estimator__max_depth': 10, 'estimator__min_samples_leaf': 2, 'estimator__min_samples_split': 2}\n",
      "Mean F1 score: 0.0 with parameters: {'estimator__ccp_alpha': 0.05, 'estimator__max_depth': 10, 'estimator__min_samples_leaf': 2, 'estimator__min_samples_split': 5}\n",
      "Mean F1 score: 0.0 with parameters: {'estimator__ccp_alpha': 0.05, 'estimator__max_depth': 10, 'estimator__min_samples_leaf': 2, 'estimator__min_samples_split': 10}\n",
      "Mean F1 score: 0.0 with parameters: {'estimator__ccp_alpha': 0.05, 'estimator__max_depth': 10, 'estimator__min_samples_leaf': 4, 'estimator__min_samples_split': 2}\n",
      "Mean F1 score: 0.0 with parameters: {'estimator__ccp_alpha': 0.05, 'estimator__max_depth': 10, 'estimator__min_samples_leaf': 4, 'estimator__min_samples_split': 5}\n",
      "Mean F1 score: 0.0 with parameters: {'estimator__ccp_alpha': 0.05, 'estimator__max_depth': 10, 'estimator__min_samples_leaf': 4, 'estimator__min_samples_split': 10}\n",
      "Mean F1 score: 0.0 with parameters: {'estimator__ccp_alpha': 0.05, 'estimator__max_depth': 20, 'estimator__min_samples_leaf': 1, 'estimator__min_samples_split': 2}\n",
      "Mean F1 score: 0.0 with parameters: {'estimator__ccp_alpha': 0.05, 'estimator__max_depth': 20, 'estimator__min_samples_leaf': 1, 'estimator__min_samples_split': 5}\n",
      "Mean F1 score: 0.0 with parameters: {'estimator__ccp_alpha': 0.05, 'estimator__max_depth': 20, 'estimator__min_samples_leaf': 1, 'estimator__min_samples_split': 10}\n",
      "Mean F1 score: 0.0 with parameters: {'estimator__ccp_alpha': 0.05, 'estimator__max_depth': 20, 'estimator__min_samples_leaf': 2, 'estimator__min_samples_split': 2}\n",
      "Mean F1 score: 0.0 with parameters: {'estimator__ccp_alpha': 0.05, 'estimator__max_depth': 20, 'estimator__min_samples_leaf': 2, 'estimator__min_samples_split': 5}\n",
      "Mean F1 score: 0.0 with parameters: {'estimator__ccp_alpha': 0.05, 'estimator__max_depth': 20, 'estimator__min_samples_leaf': 2, 'estimator__min_samples_split': 10}\n",
      "Mean F1 score: 0.0 with parameters: {'estimator__ccp_alpha': 0.05, 'estimator__max_depth': 20, 'estimator__min_samples_leaf': 4, 'estimator__min_samples_split': 2}\n",
      "Mean F1 score: 0.0 with parameters: {'estimator__ccp_alpha': 0.05, 'estimator__max_depth': 20, 'estimator__min_samples_leaf': 4, 'estimator__min_samples_split': 5}\n",
      "Mean F1 score: 0.0 with parameters: {'estimator__ccp_alpha': 0.05, 'estimator__max_depth': 20, 'estimator__min_samples_leaf': 4, 'estimator__min_samples_split': 10}\n",
      "Mean F1 score: 0.0 with parameters: {'estimator__ccp_alpha': 0.05, 'estimator__max_depth': 30, 'estimator__min_samples_leaf': 1, 'estimator__min_samples_split': 2}\n",
      "Mean F1 score: 0.0 with parameters: {'estimator__ccp_alpha': 0.05, 'estimator__max_depth': 30, 'estimator__min_samples_leaf': 1, 'estimator__min_samples_split': 5}\n",
      "Mean F1 score: 0.0 with parameters: {'estimator__ccp_alpha': 0.05, 'estimator__max_depth': 30, 'estimator__min_samples_leaf': 1, 'estimator__min_samples_split': 10}\n",
      "Mean F1 score: 0.0 with parameters: {'estimator__ccp_alpha': 0.05, 'estimator__max_depth': 30, 'estimator__min_samples_leaf': 2, 'estimator__min_samples_split': 2}\n",
      "Mean F1 score: 0.0 with parameters: {'estimator__ccp_alpha': 0.05, 'estimator__max_depth': 30, 'estimator__min_samples_leaf': 2, 'estimator__min_samples_split': 5}\n",
      "Mean F1 score: 0.0 with parameters: {'estimator__ccp_alpha': 0.05, 'estimator__max_depth': 30, 'estimator__min_samples_leaf': 2, 'estimator__min_samples_split': 10}\n",
      "Mean F1 score: 0.0 with parameters: {'estimator__ccp_alpha': 0.05, 'estimator__max_depth': 30, 'estimator__min_samples_leaf': 4, 'estimator__min_samples_split': 2}\n",
      "Mean F1 score: 0.0 with parameters: {'estimator__ccp_alpha': 0.05, 'estimator__max_depth': 30, 'estimator__min_samples_leaf': 4, 'estimator__min_samples_split': 5}\n",
      "Mean F1 score: 0.0 with parameters: {'estimator__ccp_alpha': 0.05, 'estimator__max_depth': 30, 'estimator__min_samples_leaf': 4, 'estimator__min_samples_split': 10}\n",
      "Mean F1 score: 0.0 with parameters: {'estimator__ccp_alpha': 0.1, 'estimator__max_depth': None, 'estimator__min_samples_leaf': 1, 'estimator__min_samples_split': 2}\n",
      "Mean F1 score: 0.0 with parameters: {'estimator__ccp_alpha': 0.1, 'estimator__max_depth': None, 'estimator__min_samples_leaf': 1, 'estimator__min_samples_split': 5}\n",
      "Mean F1 score: 0.0 with parameters: {'estimator__ccp_alpha': 0.1, 'estimator__max_depth': None, 'estimator__min_samples_leaf': 1, 'estimator__min_samples_split': 10}\n",
      "Mean F1 score: 0.0 with parameters: {'estimator__ccp_alpha': 0.1, 'estimator__max_depth': None, 'estimator__min_samples_leaf': 2, 'estimator__min_samples_split': 2}\n",
      "Mean F1 score: 0.0 with parameters: {'estimator__ccp_alpha': 0.1, 'estimator__max_depth': None, 'estimator__min_samples_leaf': 2, 'estimator__min_samples_split': 5}\n",
      "Mean F1 score: 0.0 with parameters: {'estimator__ccp_alpha': 0.1, 'estimator__max_depth': None, 'estimator__min_samples_leaf': 2, 'estimator__min_samples_split': 10}\n",
      "Mean F1 score: 0.0 with parameters: {'estimator__ccp_alpha': 0.1, 'estimator__max_depth': None, 'estimator__min_samples_leaf': 4, 'estimator__min_samples_split': 2}\n",
      "Mean F1 score: 0.0 with parameters: {'estimator__ccp_alpha': 0.1, 'estimator__max_depth': None, 'estimator__min_samples_leaf': 4, 'estimator__min_samples_split': 5}\n",
      "Mean F1 score: 0.0 with parameters: {'estimator__ccp_alpha': 0.1, 'estimator__max_depth': None, 'estimator__min_samples_leaf': 4, 'estimator__min_samples_split': 10}\n",
      "Mean F1 score: 0.0 with parameters: {'estimator__ccp_alpha': 0.1, 'estimator__max_depth': 10, 'estimator__min_samples_leaf': 1, 'estimator__min_samples_split': 2}\n",
      "Mean F1 score: 0.0 with parameters: {'estimator__ccp_alpha': 0.1, 'estimator__max_depth': 10, 'estimator__min_samples_leaf': 1, 'estimator__min_samples_split': 5}\n",
      "Mean F1 score: 0.0 with parameters: {'estimator__ccp_alpha': 0.1, 'estimator__max_depth': 10, 'estimator__min_samples_leaf': 1, 'estimator__min_samples_split': 10}\n",
      "Mean F1 score: 0.0 with parameters: {'estimator__ccp_alpha': 0.1, 'estimator__max_depth': 10, 'estimator__min_samples_leaf': 2, 'estimator__min_samples_split': 2}\n",
      "Mean F1 score: 0.0 with parameters: {'estimator__ccp_alpha': 0.1, 'estimator__max_depth': 10, 'estimator__min_samples_leaf': 2, 'estimator__min_samples_split': 5}\n",
      "Mean F1 score: 0.0 with parameters: {'estimator__ccp_alpha': 0.1, 'estimator__max_depth': 10, 'estimator__min_samples_leaf': 2, 'estimator__min_samples_split': 10}\n",
      "Mean F1 score: 0.0 with parameters: {'estimator__ccp_alpha': 0.1, 'estimator__max_depth': 10, 'estimator__min_samples_leaf': 4, 'estimator__min_samples_split': 2}\n",
      "Mean F1 score: 0.0 with parameters: {'estimator__ccp_alpha': 0.1, 'estimator__max_depth': 10, 'estimator__min_samples_leaf': 4, 'estimator__min_samples_split': 5}\n",
      "Mean F1 score: 0.0 with parameters: {'estimator__ccp_alpha': 0.1, 'estimator__max_depth': 10, 'estimator__min_samples_leaf': 4, 'estimator__min_samples_split': 10}\n",
      "Mean F1 score: 0.0 with parameters: {'estimator__ccp_alpha': 0.1, 'estimator__max_depth': 20, 'estimator__min_samples_leaf': 1, 'estimator__min_samples_split': 2}\n",
      "Mean F1 score: 0.0 with parameters: {'estimator__ccp_alpha': 0.1, 'estimator__max_depth': 20, 'estimator__min_samples_leaf': 1, 'estimator__min_samples_split': 5}\n",
      "Mean F1 score: 0.0 with parameters: {'estimator__ccp_alpha': 0.1, 'estimator__max_depth': 20, 'estimator__min_samples_leaf': 1, 'estimator__min_samples_split': 10}\n",
      "Mean F1 score: 0.0 with parameters: {'estimator__ccp_alpha': 0.1, 'estimator__max_depth': 20, 'estimator__min_samples_leaf': 2, 'estimator__min_samples_split': 2}\n",
      "Mean F1 score: 0.0 with parameters: {'estimator__ccp_alpha': 0.1, 'estimator__max_depth': 20, 'estimator__min_samples_leaf': 2, 'estimator__min_samples_split': 5}\n",
      "Mean F1 score: 0.0 with parameters: {'estimator__ccp_alpha': 0.1, 'estimator__max_depth': 20, 'estimator__min_samples_leaf': 2, 'estimator__min_samples_split': 10}\n",
      "Mean F1 score: 0.0 with parameters: {'estimator__ccp_alpha': 0.1, 'estimator__max_depth': 20, 'estimator__min_samples_leaf': 4, 'estimator__min_samples_split': 2}\n",
      "Mean F1 score: 0.0 with parameters: {'estimator__ccp_alpha': 0.1, 'estimator__max_depth': 20, 'estimator__min_samples_leaf': 4, 'estimator__min_samples_split': 5}\n",
      "Mean F1 score: 0.0 with parameters: {'estimator__ccp_alpha': 0.1, 'estimator__max_depth': 20, 'estimator__min_samples_leaf': 4, 'estimator__min_samples_split': 10}\n",
      "Mean F1 score: 0.0 with parameters: {'estimator__ccp_alpha': 0.1, 'estimator__max_depth': 30, 'estimator__min_samples_leaf': 1, 'estimator__min_samples_split': 2}\n",
      "Mean F1 score: 0.0 with parameters: {'estimator__ccp_alpha': 0.1, 'estimator__max_depth': 30, 'estimator__min_samples_leaf': 1, 'estimator__min_samples_split': 5}\n",
      "Mean F1 score: 0.0 with parameters: {'estimator__ccp_alpha': 0.1, 'estimator__max_depth': 30, 'estimator__min_samples_leaf': 1, 'estimator__min_samples_split': 10}\n",
      "Mean F1 score: 0.0 with parameters: {'estimator__ccp_alpha': 0.1, 'estimator__max_depth': 30, 'estimator__min_samples_leaf': 2, 'estimator__min_samples_split': 2}\n",
      "Mean F1 score: 0.0 with parameters: {'estimator__ccp_alpha': 0.1, 'estimator__max_depth': 30, 'estimator__min_samples_leaf': 2, 'estimator__min_samples_split': 5}\n",
      "Mean F1 score: 0.0 with parameters: {'estimator__ccp_alpha': 0.1, 'estimator__max_depth': 30, 'estimator__min_samples_leaf': 2, 'estimator__min_samples_split': 10}\n",
      "Mean F1 score: 0.0 with parameters: {'estimator__ccp_alpha': 0.1, 'estimator__max_depth': 30, 'estimator__min_samples_leaf': 4, 'estimator__min_samples_split': 2}\n",
      "Mean F1 score: 0.0 with parameters: {'estimator__ccp_alpha': 0.1, 'estimator__max_depth': 30, 'estimator__min_samples_leaf': 4, 'estimator__min_samples_split': 5}\n",
      "Mean F1 score: 0.0 with parameters: {'estimator__ccp_alpha': 0.1, 'estimator__max_depth': 30, 'estimator__min_samples_leaf': 4, 'estimator__min_samples_split': 10}\n"
     ]
    }
   ],
   "source": [
    "from sklearn.multioutput import MultiOutputClassifier\n",
    "from sklearn.model_selection import GridSearchCV\n",
    "from sklearn.tree import DecisionTreeClassifier, DecisionTreeRegressor\n",
    "\n",
    "# Define the parameter grid including ccp_alpha for pruning\n",
    "parameters = {\n",
    "    'estimator__max_depth': [None, 10, 20, 30],\n",
    "    'estimator__min_samples_split': [2, 5, 10],\n",
    "    'estimator__min_samples_leaf': [1, 2, 4],\n",
    "    'estimator__ccp_alpha': [0.0, 0.01, 0.05, 0.1]\n",
    "}\n",
    "\n",
    "clf = MultiOutputClassifier(DecisionTreeClassifier(random_state=seed_num))\n",
    "gsc = GridSearchCV(clf, parameters, cv=3, scoring=['accuracy', 'precision_weighted', 'recall_weighted', 'f1_weighted'], n_jobs=3, refit='f1_weighted')\n",
    "gsc.fit(X_train, y_train)\n",
    "cv_results_dt = gsc.cv_results_\n",
    "\n",
    "for mean_score, params in zip(cv_results_dt['mean_test_f1_weighted'], cv_results_dt['params']):\n",
    "    print(f\"Mean F1 score: {mean_score} with parameters: {params}\")\n"
   ]
  },
  {
   "cell_type": "code",
   "execution_count": 61,
   "metadata": {
    "scrolled": true
   },
   "outputs": [
    {
     "name": "stdout",
     "output_type": "stream",
     "text": [
      "Best parameters found: {'estimator__ccp_alpha': 0.0, 'estimator__max_depth': 10, 'estimator__min_samples_leaf': 2, 'estimator__min_samples_split': 2}\n",
      "Best F1 score: 0.15794553594553593\n"
     ]
    }
   ],
   "source": [
    "print(f\"Best parameters found: {gsc.best_params_}\")\n",
    "print(f\"Best F1 score: {gsc.best_score_}\")"
   ]
  },
  {
   "cell_type": "code",
   "execution_count": 62,
   "metadata": {},
   "outputs": [
    {
     "data": {
      "text/html": [
       "<style>#sk-container-id-3 {color: black;background-color: white;}#sk-container-id-3 pre{padding: 0;}#sk-container-id-3 div.sk-toggleable {background-color: white;}#sk-container-id-3 label.sk-toggleable__label {cursor: pointer;display: block;width: 100%;margin-bottom: 0;padding: 0.3em;box-sizing: border-box;text-align: center;}#sk-container-id-3 label.sk-toggleable__label-arrow:before {content: \"▸\";float: left;margin-right: 0.25em;color: #696969;}#sk-container-id-3 label.sk-toggleable__label-arrow:hover:before {color: black;}#sk-container-id-3 div.sk-estimator:hover label.sk-toggleable__label-arrow:before {color: black;}#sk-container-id-3 div.sk-toggleable__content {max-height: 0;max-width: 0;overflow: hidden;text-align: left;background-color: #f0f8ff;}#sk-container-id-3 div.sk-toggleable__content pre {margin: 0.2em;color: black;border-radius: 0.25em;background-color: #f0f8ff;}#sk-container-id-3 input.sk-toggleable__control:checked~div.sk-toggleable__content {max-height: 200px;max-width: 100%;overflow: auto;}#sk-container-id-3 input.sk-toggleable__control:checked~label.sk-toggleable__label-arrow:before {content: \"▾\";}#sk-container-id-3 div.sk-estimator input.sk-toggleable__control:checked~label.sk-toggleable__label {background-color: #d4ebff;}#sk-container-id-3 div.sk-label input.sk-toggleable__control:checked~label.sk-toggleable__label {background-color: #d4ebff;}#sk-container-id-3 input.sk-hidden--visually {border: 0;clip: rect(1px 1px 1px 1px);clip: rect(1px, 1px, 1px, 1px);height: 1px;margin: -1px;overflow: hidden;padding: 0;position: absolute;width: 1px;}#sk-container-id-3 div.sk-estimator {font-family: monospace;background-color: #f0f8ff;border: 1px dotted black;border-radius: 0.25em;box-sizing: border-box;margin-bottom: 0.5em;}#sk-container-id-3 div.sk-estimator:hover {background-color: #d4ebff;}#sk-container-id-3 div.sk-parallel-item::after {content: \"\";width: 100%;border-bottom: 1px solid gray;flex-grow: 1;}#sk-container-id-3 div.sk-label:hover label.sk-toggleable__label {background-color: #d4ebff;}#sk-container-id-3 div.sk-serial::before {content: \"\";position: absolute;border-left: 1px solid gray;box-sizing: border-box;top: 0;bottom: 0;left: 50%;z-index: 0;}#sk-container-id-3 div.sk-serial {display: flex;flex-direction: column;align-items: center;background-color: white;padding-right: 0.2em;padding-left: 0.2em;position: relative;}#sk-container-id-3 div.sk-item {position: relative;z-index: 1;}#sk-container-id-3 div.sk-parallel {display: flex;align-items: stretch;justify-content: center;background-color: white;position: relative;}#sk-container-id-3 div.sk-item::before, #sk-container-id-3 div.sk-parallel-item::before {content: \"\";position: absolute;border-left: 1px solid gray;box-sizing: border-box;top: 0;bottom: 0;left: 50%;z-index: -1;}#sk-container-id-3 div.sk-parallel-item {display: flex;flex-direction: column;z-index: 1;position: relative;background-color: white;}#sk-container-id-3 div.sk-parallel-item:first-child::after {align-self: flex-end;width: 50%;}#sk-container-id-3 div.sk-parallel-item:last-child::after {align-self: flex-start;width: 50%;}#sk-container-id-3 div.sk-parallel-item:only-child::after {width: 0;}#sk-container-id-3 div.sk-dashed-wrapped {border: 1px dashed gray;margin: 0 0.4em 0.5em 0.4em;box-sizing: border-box;padding-bottom: 0.4em;background-color: white;}#sk-container-id-3 div.sk-label label {font-family: monospace;font-weight: bold;display: inline-block;line-height: 1.2em;}#sk-container-id-3 div.sk-label-container {text-align: center;}#sk-container-id-3 div.sk-container {/* jupyter's `normalize.less` sets `[hidden] { display: none; }` but bootstrap.min.css set `[hidden] { display: none !important; }` so we also need the `!important` here to be able to override the default hidden behavior on the sphinx rendered scikit-learn.org. See: https://github.com/scikit-learn/scikit-learn/issues/21755 */display: inline-block !important;position: relative;}#sk-container-id-3 div.sk-text-repr-fallback {display: none;}</style><div id=\"sk-container-id-3\" class=\"sk-top-container\"><div class=\"sk-text-repr-fallback\"><pre>DecisionTreeClassifier(max_depth=10, min_samples_leaf=2)</pre><b>In a Jupyter environment, please rerun this cell to show the HTML representation or trust the notebook. <br />On GitHub, the HTML representation is unable to render, please try loading this page with nbviewer.org.</b></div><div class=\"sk-container\" hidden><div class=\"sk-item\"><div class=\"sk-estimator sk-toggleable\"><input class=\"sk-toggleable__control sk-hidden--visually\" id=\"sk-estimator-id-3\" type=\"checkbox\" checked><label for=\"sk-estimator-id-3\" class=\"sk-toggleable__label sk-toggleable__label-arrow\">DecisionTreeClassifier</label><div class=\"sk-toggleable__content\"><pre>DecisionTreeClassifier(max_depth=10, min_samples_leaf=2)</pre></div></div></div></div></div>"
      ],
      "text/plain": [
       "DecisionTreeClassifier(max_depth=10, min_samples_leaf=2)"
      ]
     },
     "execution_count": 62,
     "metadata": {},
     "output_type": "execute_result"
    }
   ],
   "source": [
    "from sklearn.tree import DecisionTreeClassifier\n",
    "\n",
    "# Obtain the best parameters from hyperparameter tuning\n",
    "best_params = gsc.best_params_\n",
    "\n",
    "# Create a decision tree classifier with the best parameters\n",
    "best_dt_model = DecisionTreeClassifier(max_depth=best_params['estimator__max_depth'], \n",
    "                                       min_samples_split=best_params['estimator__min_samples_split'], \n",
    "                                       min_samples_leaf=best_params['estimator__min_samples_leaf'],\n",
    "                                       ccp_alpha=best_params['estimator__ccp_alpha'])\n",
    "\n",
    "# Fit the model to the training data\n",
    "best_dt_model.fit(X_train, y_train)"
   ]
  },
  {
   "cell_type": "code",
   "execution_count": 63,
   "metadata": {},
   "outputs": [],
   "source": [
    "from sklearn.metrics import accuracy_score, recall_score, precision_score, f1_score, confusion_matrix\n",
    "\n",
    "best_model = gsc.best_estimator_\n",
    "y_pred_test = best_model.predict(X_test)\n",
    "y_pred_test_df = pd.DataFrame(y_pred_test, columns=y.columns)\n",
    "test_metrics = {}\n",
    "\n",
    "# Calculate metrics for each target\n",
    "for target in y.columns:\n",
    "    accuracy = accuracy_score(y_test[target], y_pred_test_df[target])\n",
    "    recall = recall_score(y_test[target], y_pred_test_df[target], average='weighted')\n",
    "    precision = precision_score(y_test[target], y_pred_test_df[target], average='weighted')\n",
    "    f1 = f1_score(y_test[target], y_pred_test_df[target], average='weighted')\n",
    "    cm = confusion_matrix(y_test[target], y_pred_test_df[target])\n",
    "    \n",
    "    test_metrics[target] = {\n",
    "        'accuracy': accuracy,\n",
    "        'recall': recall,\n",
    "        'precision': precision,\n",
    "        'f1': f1,\n",
    "        'confusion_matrix': cm\n",
    "    }"
   ]
  },
  {
   "cell_type": "code",
   "execution_count": 64,
   "metadata": {},
   "outputs": [
    {
     "name": "stdout",
     "output_type": "stream",
     "text": [
      "\n",
      "Metrics for Decision Tree Model predicting Hinselmann:\n",
      "Accuracy: 0.9303482587064676\n",
      "Recall: 0.9303482587064676\n",
      "Precision: 0.9208062252838373\n",
      "F1-Score: 0.9255526491255065\n",
      "Confusion Matrix:\n",
      "[[187   6]\n",
      " [  8   0]]\n",
      "\n",
      "Metrics for Decision Tree Model predicting Schiller:\n",
      "Accuracy: 0.8656716417910447\n",
      "Recall: 0.8656716417910447\n",
      "Precision: 0.8363539445628998\n",
      "F1-Score: 0.8489922891087798\n",
      "Confusion Matrix:\n",
      "[[171   9]\n",
      " [ 18   3]]\n",
      "\n",
      "Metrics for Decision Tree Model predicting Citology:\n",
      "Accuracy: 0.945273631840796\n",
      "Recall: 0.945273631840796\n",
      "Precision: 0.9120228005700143\n",
      "F1-Score: 0.9283505744932626\n",
      "Confusion Matrix:\n",
      "[[190   2]\n",
      " [  9   0]]\n",
      "\n",
      "Metrics for Decision Tree Model predicting Biopsy:\n",
      "Accuracy: 0.9054726368159204\n",
      "Recall: 0.9054726368159204\n",
      "Precision: 0.8713738997321087\n",
      "F1-Score: 0.8863332381959718\n",
      "Confusion Matrix:\n",
      "[[181   5]\n",
      " [ 14   1]]\n"
     ]
    }
   ],
   "source": [
    "# Print the metrics for each target\n",
    "for target, metrics in test_metrics.items():\n",
    "    print(f\"\\nMetrics for Decision Tree Model predicting {target}:\")\n",
    "    print(f\"Accuracy: {metrics['accuracy']}\")\n",
    "    print(f\"Recall: {metrics['recall']}\")\n",
    "    print(f\"Precision: {metrics['precision']}\")\n",
    "    print(f\"F1-Score: {metrics['f1']}\")\n",
    "    print(f\"Confusion Matrix:\\n{metrics['confusion_matrix']}\")"
   ]
  },
  {
   "cell_type": "markdown",
   "metadata": {},
   "source": [
    "#### Regression problem Decision Tree"
   ]
  },
  {
   "cell_type": "code",
   "execution_count": 65,
   "metadata": {},
   "outputs": [
    {
     "data": {
      "text/html": [
       "<style>#sk-container-id-4 {color: black;background-color: white;}#sk-container-id-4 pre{padding: 0;}#sk-container-id-4 div.sk-toggleable {background-color: white;}#sk-container-id-4 label.sk-toggleable__label {cursor: pointer;display: block;width: 100%;margin-bottom: 0;padding: 0.3em;box-sizing: border-box;text-align: center;}#sk-container-id-4 label.sk-toggleable__label-arrow:before {content: \"▸\";float: left;margin-right: 0.25em;color: #696969;}#sk-container-id-4 label.sk-toggleable__label-arrow:hover:before {color: black;}#sk-container-id-4 div.sk-estimator:hover label.sk-toggleable__label-arrow:before {color: black;}#sk-container-id-4 div.sk-toggleable__content {max-height: 0;max-width: 0;overflow: hidden;text-align: left;background-color: #f0f8ff;}#sk-container-id-4 div.sk-toggleable__content pre {margin: 0.2em;color: black;border-radius: 0.25em;background-color: #f0f8ff;}#sk-container-id-4 input.sk-toggleable__control:checked~div.sk-toggleable__content {max-height: 200px;max-width: 100%;overflow: auto;}#sk-container-id-4 input.sk-toggleable__control:checked~label.sk-toggleable__label-arrow:before {content: \"▾\";}#sk-container-id-4 div.sk-estimator input.sk-toggleable__control:checked~label.sk-toggleable__label {background-color: #d4ebff;}#sk-container-id-4 div.sk-label input.sk-toggleable__control:checked~label.sk-toggleable__label {background-color: #d4ebff;}#sk-container-id-4 input.sk-hidden--visually {border: 0;clip: rect(1px 1px 1px 1px);clip: rect(1px, 1px, 1px, 1px);height: 1px;margin: -1px;overflow: hidden;padding: 0;position: absolute;width: 1px;}#sk-container-id-4 div.sk-estimator {font-family: monospace;background-color: #f0f8ff;border: 1px dotted black;border-radius: 0.25em;box-sizing: border-box;margin-bottom: 0.5em;}#sk-container-id-4 div.sk-estimator:hover {background-color: #d4ebff;}#sk-container-id-4 div.sk-parallel-item::after {content: \"\";width: 100%;border-bottom: 1px solid gray;flex-grow: 1;}#sk-container-id-4 div.sk-label:hover label.sk-toggleable__label {background-color: #d4ebff;}#sk-container-id-4 div.sk-serial::before {content: \"\";position: absolute;border-left: 1px solid gray;box-sizing: border-box;top: 0;bottom: 0;left: 50%;z-index: 0;}#sk-container-id-4 div.sk-serial {display: flex;flex-direction: column;align-items: center;background-color: white;padding-right: 0.2em;padding-left: 0.2em;position: relative;}#sk-container-id-4 div.sk-item {position: relative;z-index: 1;}#sk-container-id-4 div.sk-parallel {display: flex;align-items: stretch;justify-content: center;background-color: white;position: relative;}#sk-container-id-4 div.sk-item::before, #sk-container-id-4 div.sk-parallel-item::before {content: \"\";position: absolute;border-left: 1px solid gray;box-sizing: border-box;top: 0;bottom: 0;left: 50%;z-index: -1;}#sk-container-id-4 div.sk-parallel-item {display: flex;flex-direction: column;z-index: 1;position: relative;background-color: white;}#sk-container-id-4 div.sk-parallel-item:first-child::after {align-self: flex-end;width: 50%;}#sk-container-id-4 div.sk-parallel-item:last-child::after {align-self: flex-start;width: 50%;}#sk-container-id-4 div.sk-parallel-item:only-child::after {width: 0;}#sk-container-id-4 div.sk-dashed-wrapped {border: 1px dashed gray;margin: 0 0.4em 0.5em 0.4em;box-sizing: border-box;padding-bottom: 0.4em;background-color: white;}#sk-container-id-4 div.sk-label label {font-family: monospace;font-weight: bold;display: inline-block;line-height: 1.2em;}#sk-container-id-4 div.sk-label-container {text-align: center;}#sk-container-id-4 div.sk-container {/* jupyter's `normalize.less` sets `[hidden] { display: none; }` but bootstrap.min.css set `[hidden] { display: none !important; }` so we also need the `!important` here to be able to override the default hidden behavior on the sphinx rendered scikit-learn.org. See: https://github.com/scikit-learn/scikit-learn/issues/21755 */display: inline-block !important;position: relative;}#sk-container-id-4 div.sk-text-repr-fallback {display: none;}</style><div id=\"sk-container-id-4\" class=\"sk-top-container\"><div class=\"sk-text-repr-fallback\"><pre>DecisionTreeRegressor(max_depth=10, random_state=10)</pre><b>In a Jupyter environment, please rerun this cell to show the HTML representation or trust the notebook. <br />On GitHub, the HTML representation is unable to render, please try loading this page with nbviewer.org.</b></div><div class=\"sk-container\" hidden><div class=\"sk-item\"><div class=\"sk-estimator sk-toggleable\"><input class=\"sk-toggleable__control sk-hidden--visually\" id=\"sk-estimator-id-4\" type=\"checkbox\" checked><label for=\"sk-estimator-id-4\" class=\"sk-toggleable__label sk-toggleable__label-arrow\">DecisionTreeRegressor</label><div class=\"sk-toggleable__content\"><pre>DecisionTreeRegressor(max_depth=10, random_state=10)</pre></div></div></div></div></div>"
      ],
      "text/plain": [
       "DecisionTreeRegressor(max_depth=10, random_state=10)"
      ]
     },
     "execution_count": 65,
     "metadata": {},
     "output_type": "execute_result"
    }
   ],
   "source": [
    "# Train Decision Tree Regressor with pruning\n",
    "best_params_regressor = {'max_depth': 10, 'min_samples_split': 2, 'min_samples_leaf': 1, 'ccp_alpha': gsc.best_params_['estimator__ccp_alpha']}\n",
    "dt_regressor = DecisionTreeRegressor(**best_params_regressor, random_state=seed_num)\n",
    "dt_regressor.fit(X_train, y_train[target])"
   ]
  },
  {
   "cell_type": "code",
   "execution_count": 66,
   "metadata": {},
   "outputs": [
    {
     "name": "stdout",
     "output_type": "stream",
     "text": [
      "\n",
      "Best parameters for Decision Tree Regressor predicting Hinselmann: {'ccp_alpha': 0.01, 'max_depth': None, 'min_samples_leaf': 1, 'min_samples_split': 2}\n",
      "\n",
      "Best parameters for Decision Tree Regressor predicting Schiller: {'ccp_alpha': 0.01, 'max_depth': None, 'min_samples_leaf': 1, 'min_samples_split': 2}\n",
      "\n",
      "Best parameters for Decision Tree Regressor predicting Citology: {'ccp_alpha': 0.01, 'max_depth': None, 'min_samples_leaf': 1, 'min_samples_split': 2}\n",
      "\n",
      "Best parameters for Decision Tree Regressor predicting Biopsy: {'ccp_alpha': 0.01, 'max_depth': None, 'min_samples_leaf': 1, 'min_samples_split': 2}\n"
     ]
    }
   ],
   "source": [
    "from sklearn.metrics import r2_score, mean_squared_error, mean_absolute_error\n",
    "\n",
    "# Define the parameter grid for the Decision Tree Regressor\n",
    "regressor_params = {\n",
    "    'max_depth': [None, 10, 20, 30],\n",
    "    'min_samples_split': [2, 5, 10],\n",
    "    'min_samples_leaf': [1, 2, 4],\n",
    "    'ccp_alpha': [0.0, 0.001, 0.01, 0.1] \n",
    "}\n",
    "\n",
    "# Initialize dictionaries to store metrics for each target\n",
    "dt_r2_scores = {}\n",
    "dt_mse_scores = {}\n",
    "dt_mae_scores = {}\n",
    "\n",
    "# Evaluate Decision Tree Regressor for each target\n",
    "for target in y.columns:\n",
    "    # Perform GridSearchCV for each target\n",
    "    dt_regressor = DecisionTreeRegressor(random_state=seed_num)\n",
    "    gsc_reg = GridSearchCV(dt_regressor, regressor_params, cv=5, scoring='neg_mean_squared_error', n_jobs=3)\n",
    "    gsc_reg.fit(X_train, y_train[target])\n",
    "    \n",
    "    best_regressor = gsc_reg.best_estimator_\n",
    "    dt_predictions = best_regressor.predict(X_test)\n",
    "    \n",
    "    # Calculate metrics\n",
    "    dt_r2_scores[target] = r2_score(y_test[target], dt_predictions)\n",
    "    dt_mse_scores[target] = mean_squared_error(y_test[target], dt_predictions)\n",
    "    dt_mae_scores[target] = mean_absolute_error(y_test[target], dt_predictions)\n",
    "    \n",
    "    print(f\"\\nBest parameters for Decision Tree Regressor predicting {target}: {gsc_reg.best_params_}\")"
   ]
  },
  {
   "cell_type": "code",
   "execution_count": 67,
   "metadata": {},
   "outputs": [
    {
     "name": "stdout",
     "output_type": "stream",
     "text": [
      "\n",
      "Metrics for Decision Tree Regressor predicting Hinselmann:\n",
      "R2 Score: -0.0013975494199180982\n",
      "Mean Squared Error: 0.03827028579253863\n",
      "Mean Absolute Error: 0.0831602160503691\n",
      "\n",
      "Metrics for Decision Tree Regressor predicting Schiller:\n",
      "R2 Score: -0.0022601628998561996\n",
      "Mean Squared Error: 0.09377350599642229\n",
      "Mean Absolute Error: 0.17562082521013775\n",
      "\n",
      "Metrics for Decision Tree Regressor predicting Citology:\n",
      "R2 Score: -0.00885726412152854\n",
      "Mean Squared Error: 0.04315005451355167\n",
      "Mean Absolute Error: 0.10326312761673433\n",
      "\n",
      "Metrics for Decision Tree Regressor predicting Biopsy:\n",
      "R2 Score: -0.001562324585153485\n",
      "Mean Squared Error: 0.06916558712884777\n",
      "Mean Absolute Error: 0.12927866023203044\n"
     ]
    }
   ],
   "source": [
    "# Print metrics for Decision Tree Regressor for each target\n",
    "for target in y.columns:\n",
    "    print(f\"\\nMetrics for Decision Tree Regressor predicting {target}:\")\n",
    "    print(f\"R2 Score: {dt_r2_scores[target]}\")\n",
    "    print(f\"Mean Squared Error: {dt_mse_scores[target]}\")\n",
    "    print(f\"Mean Absolute Error: {dt_mae_scores[target]}\")"
   ]
  },
  {
   "cell_type": "markdown",
   "metadata": {},
   "source": [
    "## Support Vector Machine"
   ]
  },
  {
   "cell_type": "code",
   "execution_count": 68,
   "metadata": {},
   "outputs": [
    {
     "data": {
      "text/plain": [
       "{'mean_fit_time': array([0.01811107, 0.01046594, 0.01182111, 0.01185544, 0.01000571,\n",
       "        0.00955375, 0.00970785, 0.01077922, 0.01020718, 0.01064459,\n",
       "        0.01178622, 0.01005967, 0.01045513, 0.01131217, 0.01066971,\n",
       "        0.00932892, 0.01320132, 0.00896152, 0.01599781, 0.00967852,\n",
       "        0.01700298, 0.01332283, 0.02243535, 0.01076722]),\n",
       " 'std_fit_time': array([5.66859591e-04, 4.11846747e-04, 2.34240190e-03, 1.62522424e-03,\n",
       "        7.15718464e-04, 2.83710318e-05, 1.28955398e-03, 5.53955032e-04,\n",
       "        8.36017278e-04, 3.44014648e-04, 1.86005133e-03, 8.30273257e-04,\n",
       "        1.05251566e-03, 1.81087955e-03, 1.17754765e-03, 4.74520553e-04,\n",
       "        1.68662783e-03, 1.00101990e-04, 2.91539809e-03, 9.62859295e-04,\n",
       "        3.19443901e-03, 9.29261199e-04, 6.94118580e-03, 8.99509054e-04]),\n",
       " 'mean_score_time': array([0.03351506, 0.00633605, 0.00779692, 0.00761286, 0.00737604,\n",
       "        0.00704058, 0.00700259, 0.00764124, 0.00757996, 0.00756335,\n",
       "        0.00680168, 0.00666674, 0.00676521, 0.00863512, 0.0073336 ,\n",
       "        0.00720962, 0.00740496, 0.00599957, 0.0076712 , 0.00701435,\n",
       "        0.00626771, 0.00942771, 0.00767485, 0.00670266]),\n",
       " 'std_score_time': array([4.71482745e-04, 4.69965469e-04, 6.11289687e-04, 5.89747439e-04,\n",
       "        1.07148921e-03, 4.84353014e-05, 4.59517449e-04, 9.22079148e-04,\n",
       "        8.08481827e-04, 3.14981594e-04, 5.75146541e-04, 4.69235923e-04,\n",
       "        5.44992273e-04, 6.57336881e-04, 4.65582278e-04, 4.43280619e-04,\n",
       "        1.83739468e-03, 9.10580037e-06, 8.42674885e-04, 1.27374938e-05,\n",
       "        3.78366921e-04, 8.12042722e-04, 4.68111159e-04, 5.00195247e-04]),\n",
       " 'param_estimator__C': masked_array(data=[0.1, 0.1, 0.1, 0.1, 0.1, 0.1, 0.5, 0.5, 0.5, 0.5, 0.5,\n",
       "                    0.5, 1, 1, 1, 1, 1, 1, 5, 5, 5, 5, 5, 5],\n",
       "              mask=[False, False, False, False, False, False, False, False,\n",
       "                    False, False, False, False, False, False, False, False,\n",
       "                    False, False, False, False, False, False, False, False],\n",
       "        fill_value='?',\n",
       "             dtype=object),\n",
       " 'param_estimator__coef0': masked_array(data=[0, 0, 2, 2, 5, 5, 0, 0, 2, 2, 5, 5, 0, 0, 2, 2, 5, 5,\n",
       "                    0, 0, 2, 2, 5, 5],\n",
       "              mask=[False, False, False, False, False, False, False, False,\n",
       "                    False, False, False, False, False, False, False, False,\n",
       "                    False, False, False, False, False, False, False, False],\n",
       "        fill_value='?',\n",
       "             dtype=object),\n",
       " 'param_estimator__kernel': masked_array(data=['linear', 'sigmoid', 'linear', 'sigmoid', 'linear',\n",
       "                    'sigmoid', 'linear', 'sigmoid', 'linear', 'sigmoid',\n",
       "                    'linear', 'sigmoid', 'linear', 'sigmoid', 'linear',\n",
       "                    'sigmoid', 'linear', 'sigmoid', 'linear', 'sigmoid',\n",
       "                    'linear', 'sigmoid', 'linear', 'sigmoid'],\n",
       "              mask=[False, False, False, False, False, False, False, False,\n",
       "                    False, False, False, False, False, False, False, False,\n",
       "                    False, False, False, False, False, False, False, False],\n",
       "        fill_value='?',\n",
       "             dtype=object),\n",
       " 'params': [{'estimator__C': 0.1,\n",
       "   'estimator__coef0': 0,\n",
       "   'estimator__kernel': 'linear'},\n",
       "  {'estimator__C': 0.1, 'estimator__coef0': 0, 'estimator__kernel': 'sigmoid'},\n",
       "  {'estimator__C': 0.1, 'estimator__coef0': 2, 'estimator__kernel': 'linear'},\n",
       "  {'estimator__C': 0.1, 'estimator__coef0': 2, 'estimator__kernel': 'sigmoid'},\n",
       "  {'estimator__C': 0.1, 'estimator__coef0': 5, 'estimator__kernel': 'linear'},\n",
       "  {'estimator__C': 0.1, 'estimator__coef0': 5, 'estimator__kernel': 'sigmoid'},\n",
       "  {'estimator__C': 0.5, 'estimator__coef0': 0, 'estimator__kernel': 'linear'},\n",
       "  {'estimator__C': 0.5, 'estimator__coef0': 0, 'estimator__kernel': 'sigmoid'},\n",
       "  {'estimator__C': 0.5, 'estimator__coef0': 2, 'estimator__kernel': 'linear'},\n",
       "  {'estimator__C': 0.5, 'estimator__coef0': 2, 'estimator__kernel': 'sigmoid'},\n",
       "  {'estimator__C': 0.5, 'estimator__coef0': 5, 'estimator__kernel': 'linear'},\n",
       "  {'estimator__C': 0.5, 'estimator__coef0': 5, 'estimator__kernel': 'sigmoid'},\n",
       "  {'estimator__C': 1, 'estimator__coef0': 0, 'estimator__kernel': 'linear'},\n",
       "  {'estimator__C': 1, 'estimator__coef0': 0, 'estimator__kernel': 'sigmoid'},\n",
       "  {'estimator__C': 1, 'estimator__coef0': 2, 'estimator__kernel': 'linear'},\n",
       "  {'estimator__C': 1, 'estimator__coef0': 2, 'estimator__kernel': 'sigmoid'},\n",
       "  {'estimator__C': 1, 'estimator__coef0': 5, 'estimator__kernel': 'linear'},\n",
       "  {'estimator__C': 1, 'estimator__coef0': 5, 'estimator__kernel': 'sigmoid'},\n",
       "  {'estimator__C': 5, 'estimator__coef0': 0, 'estimator__kernel': 'linear'},\n",
       "  {'estimator__C': 5, 'estimator__coef0': 0, 'estimator__kernel': 'sigmoid'},\n",
       "  {'estimator__C': 5, 'estimator__coef0': 2, 'estimator__kernel': 'linear'},\n",
       "  {'estimator__C': 5, 'estimator__coef0': 2, 'estimator__kernel': 'sigmoid'},\n",
       "  {'estimator__C': 5, 'estimator__coef0': 5, 'estimator__kernel': 'linear'},\n",
       "  {'estimator__C': 5, 'estimator__coef0': 5, 'estimator__kernel': 'sigmoid'}],\n",
       " 'split0_test_accuracy': array([0.84615385, 0.8525641 , 0.84615385, 0.8525641 , 0.84615385,\n",
       "        0.8525641 , 0.82692308, 0.8525641 , 0.82692308, 0.8525641 ,\n",
       "        0.82692308, 0.8525641 , 0.82692308, 0.83333333, 0.82692308,\n",
       "        0.8525641 , 0.82692308, 0.8525641 , 0.82692308, 0.80769231,\n",
       "        0.82692308, 0.8525641 , 0.82692308, 0.8525641 ]),\n",
       " 'split1_test_accuracy': array([0.84615385, 0.86538462, 0.84615385, 0.86538462, 0.84615385,\n",
       "        0.86538462, 0.82692308, 0.86538462, 0.82692308, 0.86538462,\n",
       "        0.82692308, 0.86538462, 0.82692308, 0.85897436, 0.82692308,\n",
       "        0.86538462, 0.82692308, 0.86538462, 0.82692308, 0.82692308,\n",
       "        0.82692308, 0.86538462, 0.82692308, 0.86538462]),\n",
       " 'split2_test_accuracy': array([0.88387097, 0.89677419, 0.88387097, 0.89677419, 0.88387097,\n",
       "        0.89677419, 0.88387097, 0.89677419, 0.88387097, 0.89677419,\n",
       "        0.88387097, 0.89677419, 0.88387097, 0.89677419, 0.88387097,\n",
       "        0.89677419, 0.88387097, 0.89677419, 0.88387097, 0.88387097,\n",
       "        0.88387097, 0.89677419, 0.88387097, 0.89677419]),\n",
       " 'mean_test_accuracy': array([0.85872622, 0.8715743 , 0.85872622, 0.8715743 , 0.85872622,\n",
       "        0.8715743 , 0.84590571, 0.8715743 , 0.84590571, 0.8715743 ,\n",
       "        0.84590571, 0.8715743 , 0.84590571, 0.8630273 , 0.84590571,\n",
       "        0.8715743 , 0.84590571, 0.8715743 , 0.84590571, 0.83949545,\n",
       "        0.84590571, 0.8715743 , 0.84590571, 0.8715743 ]),\n",
       " 'std_test_accuracy': array([0.01778002, 0.01857179, 0.01778002, 0.01857179, 0.01778002,\n",
       "        0.01857179, 0.02684549, 0.01857179, 0.02684549, 0.01857179,\n",
       "        0.02684549, 0.01857179, 0.02684549, 0.0260577 , 0.02684549,\n",
       "        0.01857179, 0.02684549, 0.01857179, 0.02684549, 0.03234548,\n",
       "        0.02684549, 0.01857179, 0.02684549, 0.01857179]),\n",
       " 'rank_test_accuracy': array([12,  1, 12,  1, 12,  1, 15,  1, 15,  1, 15,  1, 15, 11, 15,  1, 15,\n",
       "         1, 15, 24, 15,  1, 15,  1]),\n",
       " 'split0_test_precision': array([nan, nan, nan, nan, nan, nan, nan, nan, nan, nan, nan, nan, nan,\n",
       "        nan, nan, nan, nan, nan, nan, nan, nan, nan, nan, nan]),\n",
       " 'split1_test_precision': array([nan, nan, nan, nan, nan, nan, nan, nan, nan, nan, nan, nan, nan,\n",
       "        nan, nan, nan, nan, nan, nan, nan, nan, nan, nan, nan]),\n",
       " 'split2_test_precision': array([nan, nan, nan, nan, nan, nan, nan, nan, nan, nan, nan, nan, nan,\n",
       "        nan, nan, nan, nan, nan, nan, nan, nan, nan, nan, nan]),\n",
       " 'mean_test_precision': array([nan, nan, nan, nan, nan, nan, nan, nan, nan, nan, nan, nan, nan,\n",
       "        nan, nan, nan, nan, nan, nan, nan, nan, nan, nan, nan]),\n",
       " 'std_test_precision': array([nan, nan, nan, nan, nan, nan, nan, nan, nan, nan, nan, nan, nan,\n",
       "        nan, nan, nan, nan, nan, nan, nan, nan, nan, nan, nan]),\n",
       " 'rank_test_precision': array([1, 1, 1, 1, 1, 1, 1, 1, 1, 1, 1, 1, 1, 1, 1, 1, 1, 1, 1, 1, 1, 1,\n",
       "        1, 1]),\n",
       " 'split0_test_recall': array([nan, nan, nan, nan, nan, nan, nan, nan, nan, nan, nan, nan, nan,\n",
       "        nan, nan, nan, nan, nan, nan, nan, nan, nan, nan, nan]),\n",
       " 'split1_test_recall': array([nan, nan, nan, nan, nan, nan, nan, nan, nan, nan, nan, nan, nan,\n",
       "        nan, nan, nan, nan, nan, nan, nan, nan, nan, nan, nan]),\n",
       " 'split2_test_recall': array([nan, nan, nan, nan, nan, nan, nan, nan, nan, nan, nan, nan, nan,\n",
       "        nan, nan, nan, nan, nan, nan, nan, nan, nan, nan, nan]),\n",
       " 'mean_test_recall': array([nan, nan, nan, nan, nan, nan, nan, nan, nan, nan, nan, nan, nan,\n",
       "        nan, nan, nan, nan, nan, nan, nan, nan, nan, nan, nan]),\n",
       " 'std_test_recall': array([nan, nan, nan, nan, nan, nan, nan, nan, nan, nan, nan, nan, nan,\n",
       "        nan, nan, nan, nan, nan, nan, nan, nan, nan, nan, nan]),\n",
       " 'rank_test_recall': array([1, 1, 1, 1, 1, 1, 1, 1, 1, 1, 1, 1, 1, 1, 1, 1, 1, 1, 1, 1, 1, 1,\n",
       "        1, 1]),\n",
       " 'split0_test_f1': array([nan, nan, nan, nan, nan, nan, nan, nan, nan, nan, nan, nan, nan,\n",
       "        nan, nan, nan, nan, nan, nan, nan, nan, nan, nan, nan]),\n",
       " 'split1_test_f1': array([nan, nan, nan, nan, nan, nan, nan, nan, nan, nan, nan, nan, nan,\n",
       "        nan, nan, nan, nan, nan, nan, nan, nan, nan, nan, nan]),\n",
       " 'split2_test_f1': array([nan, nan, nan, nan, nan, nan, nan, nan, nan, nan, nan, nan, nan,\n",
       "        nan, nan, nan, nan, nan, nan, nan, nan, nan, nan, nan]),\n",
       " 'mean_test_f1': array([nan, nan, nan, nan, nan, nan, nan, nan, nan, nan, nan, nan, nan,\n",
       "        nan, nan, nan, nan, nan, nan, nan, nan, nan, nan, nan]),\n",
       " 'std_test_f1': array([nan, nan, nan, nan, nan, nan, nan, nan, nan, nan, nan, nan, nan,\n",
       "        nan, nan, nan, nan, nan, nan, nan, nan, nan, nan, nan]),\n",
       " 'rank_test_f1': array([1, 1, 1, 1, 1, 1, 1, 1, 1, 1, 1, 1, 1, 1, 1, 1, 1, 1, 1, 1, 1, 1,\n",
       "        1, 1])}"
      ]
     },
     "execution_count": 68,
     "metadata": {},
     "output_type": "execute_result"
    }
   ],
   "source": [
    "from sklearn.multioutput import MultiOutputClassifier\n",
    "from sklearn.model_selection import GridSearchCV \n",
    "from sklearn.svm import SVC\n",
    "\n",
    "parameters = {'estimator__kernel': ['linear', 'sigmoid'], 'estimator__C': [0.1, 0.5, 1, 5], 'estimator__coef0': [0, 2, 5]}\n",
    "clf = MultiOutputClassifier(SVC())\n",
    "gsc = GridSearchCV(clf, parameters, cv=3, scoring=['accuracy', 'precision', 'recall', 'f1'], n_jobs=3, refit='f1')\n",
    "gsc.fit(X_train, y_train)\n",
    "gsc.cv_results_\n"
   ]
  },
  {
   "cell_type": "code",
   "execution_count": 69,
   "metadata": {
    "scrolled": false
   },
   "outputs": [
    {
     "name": "stdout",
     "output_type": "stream",
     "text": [
      "{'estimator__C': 0.1, 'estimator__coef0': 0, 'estimator__kernel': 'linear'}\n",
      "0\n"
     ]
    }
   ],
   "source": [
    "print(gsc.best_params_)\n",
    "print(gsc.best_index_)"
   ]
  },
  {
   "cell_type": "markdown",
   "metadata": {},
   "source": [
    "**Build SVM model with the best parameters**"
   ]
  },
  {
   "cell_type": "code",
   "execution_count": 70,
   "metadata": {},
   "outputs": [],
   "source": [
    "from sklearn.svm import SVC\n",
    "C = 0.1\n",
    "model_svc = SVC(kernel='linear', C=C)"
   ]
  },
  {
   "cell_type": "code",
   "execution_count": 71,
   "metadata": {},
   "outputs": [
    {
     "name": "stdout",
     "output_type": "stream",
     "text": [
      "0.8557213930348259\n",
      "[[[193   0]\n",
      "  [  8   0]]\n",
      "\n",
      " [[176   4]\n",
      "  [ 20   1]]\n",
      "\n",
      " [[192   0]\n",
      "  [  9   0]]\n",
      "\n",
      " [[182   4]\n",
      "  [ 14   1]]]\n",
      "              precision    recall  f1-score   support\n",
      "\n",
      "           0       0.00      0.00      0.00         8\n",
      "           1       0.20      0.05      0.08        21\n",
      "           2       0.00      0.00      0.00         9\n",
      "           3       0.20      0.07      0.10        15\n",
      "\n",
      "   micro avg       0.20      0.04      0.06        53\n",
      "   macro avg       0.10      0.03      0.04        53\n",
      "weighted avg       0.14      0.04      0.06        53\n",
      " samples avg       0.00      0.00      0.00        53\n",
      "\n"
     ]
    }
   ],
   "source": [
    "multi_target_svm = MultiOutputClassifier(model_svc)  \n",
    "\n",
    "# Fit the classifier to the data\n",
    "multi_target_svm.fit(X_train, y_train)\n",
    "\n",
    "# Predictions\n",
    "y_pred = multi_target_svm.predict(X_test)\n",
    "from sklearn.metrics import accuracy_score, multilabel_confusion_matrix,classification_report\n",
    "print(accuracy_score(y_test, y_pred))\n",
    "print(multilabel_confusion_matrix(y_test, y_pred))\n",
    "print(classification_report(y_test, y_pred))"
   ]
  },
  {
   "cell_type": "code",
   "execution_count": null,
   "metadata": {},
   "outputs": [],
   "source": []
  },
  {
   "cell_type": "markdown",
   "metadata": {},
   "source": [
    "#### Evaluate the models\n",
    "Perform a comparison between the predictive models. <br>\n",
    "Report the accuracy, recall, precision and F1-score measures as well as the confusion matrix if it is a classification problem. <br>\n",
    "Report the R2 score, mean squared error and mean absolute error if it is a regression problem.\n",
    "______________________________________________________________________________________\n",
    "Description:"
   ]
  },
  {
   "cell_type": "code",
   "execution_count": null,
   "metadata": {},
   "outputs": [],
   "source": []
  }
 ],
 "metadata": {
  "kernelspec": {
   "display_name": "Python 3 (ipykernel)",
   "language": "python",
   "name": "python3"
  },
  "language_info": {
   "codemirror_mode": {
    "name": "ipython",
    "version": 3
   },
   "file_extension": ".py",
   "mimetype": "text/x-python",
   "name": "python",
   "nbconvert_exporter": "python",
   "pygments_lexer": "ipython3",
   "version": "3.10.9"
  }
 },
 "nbformat": 4,
 "nbformat_minor": 4
}
