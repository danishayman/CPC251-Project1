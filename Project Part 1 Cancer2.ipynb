{
 "cells": [
  {
   "cell_type": "markdown",
   "metadata": {},
   "source": [
    "#### Instruction (Read this)\n",
    "- Use this template to develop your project. Do not change the steps. \n",
    "- For each step, you may add additional cells if needed.\n",
    "- But remove <b>unnecessary</b> cells to ensure the notebook is readable.\n",
    "- Marks will be <b>deducted</b> if the notebook is cluttered or difficult to follow due to excess or irrelevant content.\n",
    "- <b>Briefly</b> describe the steps in the \"Description:\" field.\n",
    "- <b>Do not</b> submit the dataset. \n",
    "- The submitted jupyter notebook will be executed using the uploaded dataset in eLearn."
   ]
  },
  {
   "cell_type": "markdown",
   "metadata": {},
   "source": [
    "#### Group Information\n",
    "\n",
    "Group No: Cancer2\n",
    "\n",
    "- Member 1:\n",
    "- Member 2:\n",
    "- Member 3:\n",
    "- Member 4:MAHDIL ASHRONIE BIN MUHAMAD MURTADZA\n"
   ]
  },
  {
   "cell_type": "markdown",
   "metadata": {},
   "source": [
    "#### Import libraries"
   ]
  },
  {
   "cell_type": "code",
   "execution_count": 199,
   "metadata": {},
   "outputs": [],
   "source": [
    "%config Completer.use_jedi=False # comment if not needed\n",
    "import pandas as pd\n",
    "import numpy as np\n",
    "import warnings\n",
    "from sklearn.model_selection import train_test_split\n",
    "from sklearn.preprocessing import MinMaxScaler, StandardScaler\n",
    "warnings.filterwarnings('ignore')"
   ]
  },
  {
   "cell_type": "markdown",
   "metadata": {},
   "source": [
    "#### Load the dataset"
   ]
  },
  {
   "cell_type": "code",
   "execution_count": 200,
   "metadata": {},
   "outputs": [],
   "source": [
    "df = pd.read_csv('risk_factors.csv', na_values='?')"
   ]
  },
  {
   "cell_type": "code",
   "execution_count": 201,
   "metadata": {},
   "outputs": [
    {
     "data": {
      "text/html": [
       "<div>\n",
       "<style scoped>\n",
       "    .dataframe tbody tr th:only-of-type {\n",
       "        vertical-align: middle;\n",
       "    }\n",
       "\n",
       "    .dataframe tbody tr th {\n",
       "        vertical-align: top;\n",
       "    }\n",
       "\n",
       "    .dataframe thead th {\n",
       "        text-align: right;\n",
       "    }\n",
       "</style>\n",
       "<table border=\"1\" class=\"dataframe\">\n",
       "  <thead>\n",
       "    <tr style=\"text-align: right;\">\n",
       "      <th></th>\n",
       "      <th>Age</th>\n",
       "      <th>Number of sexual partners</th>\n",
       "      <th>First sexual intercourse</th>\n",
       "      <th>Num of pregnancies</th>\n",
       "      <th>Smokes</th>\n",
       "      <th>Smokes (years)</th>\n",
       "      <th>Smokes (packs/year)</th>\n",
       "      <th>Hormonal Contraceptives</th>\n",
       "      <th>Hormonal Contraceptives (years)</th>\n",
       "      <th>IUD</th>\n",
       "      <th>...</th>\n",
       "      <th>STDs: Time since first diagnosis</th>\n",
       "      <th>STDs: Time since last diagnosis</th>\n",
       "      <th>Dx:Cancer</th>\n",
       "      <th>Dx:CIN</th>\n",
       "      <th>Dx:HPV</th>\n",
       "      <th>Dx</th>\n",
       "      <th>Hinselmann</th>\n",
       "      <th>Schiller</th>\n",
       "      <th>Citology</th>\n",
       "      <th>Biopsy</th>\n",
       "    </tr>\n",
       "  </thead>\n",
       "  <tbody>\n",
       "    <tr>\n",
       "      <th>56</th>\n",
       "      <td>35</td>\n",
       "      <td>5.0</td>\n",
       "      <td>15.0</td>\n",
       "      <td>4.0</td>\n",
       "      <td>0.0</td>\n",
       "      <td>0.0</td>\n",
       "      <td>0.0</td>\n",
       "      <td>0.0</td>\n",
       "      <td>0.00</td>\n",
       "      <td>0.0</td>\n",
       "      <td>...</td>\n",
       "      <td>NaN</td>\n",
       "      <td>NaN</td>\n",
       "      <td>0</td>\n",
       "      <td>0</td>\n",
       "      <td>0</td>\n",
       "      <td>0</td>\n",
       "      <td>0</td>\n",
       "      <td>0</td>\n",
       "      <td>0</td>\n",
       "      <td>0</td>\n",
       "    </tr>\n",
       "    <tr>\n",
       "      <th>16</th>\n",
       "      <td>41</td>\n",
       "      <td>4.0</td>\n",
       "      <td>21.0</td>\n",
       "      <td>3.0</td>\n",
       "      <td>0.0</td>\n",
       "      <td>0.0</td>\n",
       "      <td>0.0</td>\n",
       "      <td>1.0</td>\n",
       "      <td>0.25</td>\n",
       "      <td>0.0</td>\n",
       "      <td>...</td>\n",
       "      <td>NaN</td>\n",
       "      <td>NaN</td>\n",
       "      <td>0</td>\n",
       "      <td>0</td>\n",
       "      <td>0</td>\n",
       "      <td>0</td>\n",
       "      <td>0</td>\n",
       "      <td>0</td>\n",
       "      <td>0</td>\n",
       "      <td>0</td>\n",
       "    </tr>\n",
       "    <tr>\n",
       "      <th>333</th>\n",
       "      <td>22</td>\n",
       "      <td>3.0</td>\n",
       "      <td>17.0</td>\n",
       "      <td>4.0</td>\n",
       "      <td>0.0</td>\n",
       "      <td>0.0</td>\n",
       "      <td>0.0</td>\n",
       "      <td>1.0</td>\n",
       "      <td>5.00</td>\n",
       "      <td>0.0</td>\n",
       "      <td>...</td>\n",
       "      <td>NaN</td>\n",
       "      <td>NaN</td>\n",
       "      <td>0</td>\n",
       "      <td>0</td>\n",
       "      <td>0</td>\n",
       "      <td>0</td>\n",
       "      <td>0</td>\n",
       "      <td>0</td>\n",
       "      <td>0</td>\n",
       "      <td>0</td>\n",
       "    </tr>\n",
       "    <tr>\n",
       "      <th>392</th>\n",
       "      <td>19</td>\n",
       "      <td>1.0</td>\n",
       "      <td>16.0</td>\n",
       "      <td>1.0</td>\n",
       "      <td>0.0</td>\n",
       "      <td>0.0</td>\n",
       "      <td>0.0</td>\n",
       "      <td>0.0</td>\n",
       "      <td>0.00</td>\n",
       "      <td>0.0</td>\n",
       "      <td>...</td>\n",
       "      <td>NaN</td>\n",
       "      <td>NaN</td>\n",
       "      <td>0</td>\n",
       "      <td>0</td>\n",
       "      <td>0</td>\n",
       "      <td>0</td>\n",
       "      <td>0</td>\n",
       "      <td>0</td>\n",
       "      <td>0</td>\n",
       "      <td>0</td>\n",
       "    </tr>\n",
       "    <tr>\n",
       "      <th>260</th>\n",
       "      <td>28</td>\n",
       "      <td>2.0</td>\n",
       "      <td>15.0</td>\n",
       "      <td>4.0</td>\n",
       "      <td>0.0</td>\n",
       "      <td>0.0</td>\n",
       "      <td>0.0</td>\n",
       "      <td>1.0</td>\n",
       "      <td>5.00</td>\n",
       "      <td>0.0</td>\n",
       "      <td>...</td>\n",
       "      <td>NaN</td>\n",
       "      <td>NaN</td>\n",
       "      <td>0</td>\n",
       "      <td>0</td>\n",
       "      <td>0</td>\n",
       "      <td>0</td>\n",
       "      <td>0</td>\n",
       "      <td>0</td>\n",
       "      <td>0</td>\n",
       "      <td>0</td>\n",
       "    </tr>\n",
       "    <tr>\n",
       "      <th>491</th>\n",
       "      <td>19</td>\n",
       "      <td>1.0</td>\n",
       "      <td>17.0</td>\n",
       "      <td>1.0</td>\n",
       "      <td>0.0</td>\n",
       "      <td>0.0</td>\n",
       "      <td>0.0</td>\n",
       "      <td>1.0</td>\n",
       "      <td>1.00</td>\n",
       "      <td>0.0</td>\n",
       "      <td>...</td>\n",
       "      <td>NaN</td>\n",
       "      <td>NaN</td>\n",
       "      <td>0</td>\n",
       "      <td>0</td>\n",
       "      <td>0</td>\n",
       "      <td>0</td>\n",
       "      <td>0</td>\n",
       "      <td>0</td>\n",
       "      <td>0</td>\n",
       "      <td>0</td>\n",
       "    </tr>\n",
       "    <tr>\n",
       "      <th>81</th>\n",
       "      <td>31</td>\n",
       "      <td>3.0</td>\n",
       "      <td>15.0</td>\n",
       "      <td>3.0</td>\n",
       "      <td>1.0</td>\n",
       "      <td>16.0</td>\n",
       "      <td>0.8</td>\n",
       "      <td>0.0</td>\n",
       "      <td>0.00</td>\n",
       "      <td>1.0</td>\n",
       "      <td>...</td>\n",
       "      <td>NaN</td>\n",
       "      <td>NaN</td>\n",
       "      <td>0</td>\n",
       "      <td>0</td>\n",
       "      <td>0</td>\n",
       "      <td>0</td>\n",
       "      <td>0</td>\n",
       "      <td>0</td>\n",
       "      <td>0</td>\n",
       "      <td>0</td>\n",
       "    </tr>\n",
       "    <tr>\n",
       "      <th>728</th>\n",
       "      <td>32</td>\n",
       "      <td>3.0</td>\n",
       "      <td>21.0</td>\n",
       "      <td>2.0</td>\n",
       "      <td>0.0</td>\n",
       "      <td>0.0</td>\n",
       "      <td>0.0</td>\n",
       "      <td>1.0</td>\n",
       "      <td>8.00</td>\n",
       "      <td>0.0</td>\n",
       "      <td>...</td>\n",
       "      <td>NaN</td>\n",
       "      <td>NaN</td>\n",
       "      <td>0</td>\n",
       "      <td>0</td>\n",
       "      <td>0</td>\n",
       "      <td>0</td>\n",
       "      <td>0</td>\n",
       "      <td>0</td>\n",
       "      <td>0</td>\n",
       "      <td>0</td>\n",
       "    </tr>\n",
       "    <tr>\n",
       "      <th>129</th>\n",
       "      <td>30</td>\n",
       "      <td>2.0</td>\n",
       "      <td>14.0</td>\n",
       "      <td>6.0</td>\n",
       "      <td>0.0</td>\n",
       "      <td>0.0</td>\n",
       "      <td>0.0</td>\n",
       "      <td>1.0</td>\n",
       "      <td>5.00</td>\n",
       "      <td>0.0</td>\n",
       "      <td>...</td>\n",
       "      <td>NaN</td>\n",
       "      <td>NaN</td>\n",
       "      <td>0</td>\n",
       "      <td>0</td>\n",
       "      <td>0</td>\n",
       "      <td>0</td>\n",
       "      <td>0</td>\n",
       "      <td>0</td>\n",
       "      <td>0</td>\n",
       "      <td>0</td>\n",
       "    </tr>\n",
       "    <tr>\n",
       "      <th>96</th>\n",
       "      <td>35</td>\n",
       "      <td>5.0</td>\n",
       "      <td>11.0</td>\n",
       "      <td>NaN</td>\n",
       "      <td>1.0</td>\n",
       "      <td>15.0</td>\n",
       "      <td>15.0</td>\n",
       "      <td>1.0</td>\n",
       "      <td>14.00</td>\n",
       "      <td>0.0</td>\n",
       "      <td>...</td>\n",
       "      <td>NaN</td>\n",
       "      <td>NaN</td>\n",
       "      <td>0</td>\n",
       "      <td>0</td>\n",
       "      <td>0</td>\n",
       "      <td>0</td>\n",
       "      <td>1</td>\n",
       "      <td>1</td>\n",
       "      <td>1</td>\n",
       "      <td>1</td>\n",
       "    </tr>\n",
       "  </tbody>\n",
       "</table>\n",
       "<p>10 rows × 36 columns</p>\n",
       "</div>"
      ],
      "text/plain": [
       "     Age  Number of sexual partners  First sexual intercourse  \\\n",
       "56    35                        5.0                      15.0   \n",
       "16    41                        4.0                      21.0   \n",
       "333   22                        3.0                      17.0   \n",
       "392   19                        1.0                      16.0   \n",
       "260   28                        2.0                      15.0   \n",
       "491   19                        1.0                      17.0   \n",
       "81    31                        3.0                      15.0   \n",
       "728   32                        3.0                      21.0   \n",
       "129   30                        2.0                      14.0   \n",
       "96    35                        5.0                      11.0   \n",
       "\n",
       "     Num of pregnancies  Smokes  Smokes (years)  Smokes (packs/year)  \\\n",
       "56                  4.0     0.0             0.0                  0.0   \n",
       "16                  3.0     0.0             0.0                  0.0   \n",
       "333                 4.0     0.0             0.0                  0.0   \n",
       "392                 1.0     0.0             0.0                  0.0   \n",
       "260                 4.0     0.0             0.0                  0.0   \n",
       "491                 1.0     0.0             0.0                  0.0   \n",
       "81                  3.0     1.0            16.0                  0.8   \n",
       "728                 2.0     0.0             0.0                  0.0   \n",
       "129                 6.0     0.0             0.0                  0.0   \n",
       "96                  NaN     1.0            15.0                 15.0   \n",
       "\n",
       "     Hormonal Contraceptives  Hormonal Contraceptives (years)  IUD  ...  \\\n",
       "56                       0.0                             0.00  0.0  ...   \n",
       "16                       1.0                             0.25  0.0  ...   \n",
       "333                      1.0                             5.00  0.0  ...   \n",
       "392                      0.0                             0.00  0.0  ...   \n",
       "260                      1.0                             5.00  0.0  ...   \n",
       "491                      1.0                             1.00  0.0  ...   \n",
       "81                       0.0                             0.00  1.0  ...   \n",
       "728                      1.0                             8.00  0.0  ...   \n",
       "129                      1.0                             5.00  0.0  ...   \n",
       "96                       1.0                            14.00  0.0  ...   \n",
       "\n",
       "     STDs: Time since first diagnosis  STDs: Time since last diagnosis  \\\n",
       "56                                NaN                              NaN   \n",
       "16                                NaN                              NaN   \n",
       "333                               NaN                              NaN   \n",
       "392                               NaN                              NaN   \n",
       "260                               NaN                              NaN   \n",
       "491                               NaN                              NaN   \n",
       "81                                NaN                              NaN   \n",
       "728                               NaN                              NaN   \n",
       "129                               NaN                              NaN   \n",
       "96                                NaN                              NaN   \n",
       "\n",
       "     Dx:Cancer  Dx:CIN  Dx:HPV  Dx  Hinselmann  Schiller  Citology  Biopsy  \n",
       "56           0       0       0   0           0         0         0       0  \n",
       "16           0       0       0   0           0         0         0       0  \n",
       "333          0       0       0   0           0         0         0       0  \n",
       "392          0       0       0   0           0         0         0       0  \n",
       "260          0       0       0   0           0         0         0       0  \n",
       "491          0       0       0   0           0         0         0       0  \n",
       "81           0       0       0   0           0         0         0       0  \n",
       "728          0       0       0   0           0         0         0       0  \n",
       "129          0       0       0   0           0         0         0       0  \n",
       "96           0       0       0   0           1         1         1       1  \n",
       "\n",
       "[10 rows x 36 columns]"
      ]
     },
     "execution_count": 201,
     "metadata": {},
     "output_type": "execute_result"
    }
   ],
   "source": [
    "df.shape\n",
    "df.sample(10)"
   ]
  },
  {
   "cell_type": "markdown",
   "metadata": {},
   "source": [
    "#### Split the dataset\n",
    "Split the dataset into training, validation and test sets."
   ]
  },
  {
   "cell_type": "code",
   "execution_count": 202,
   "metadata": {},
   "outputs": [],
   "source": [
    "y = df[['Hinselmann', 'Schiller', 'Citology', 'Biopsy']]\n",
    "X = df.drop(['Hinselmann', 'Schiller', 'Citology', 'Biopsy'], axis=1)\n",
    "scaler = StandardScaler()\n",
    "X_transform = scaler.fit_transform(X)\n"
   ]
  },
  {
   "cell_type": "code",
   "execution_count": 203,
   "metadata": {},
   "outputs": [
    {
     "name": "stdout",
     "output_type": "stream",
     "text": [
      "(480, 32)\n",
      "(120, 32)\n",
      "(258, 32)\n"
     ]
    }
   ],
   "source": [
    "seed_num = 10\n",
    "X_train, X_test, y_train, y_test = train_test_split(X_transform, y, test_size=0.3, random_state=seed_num) # random_state is set to a value for reproducible␣output.\n",
    "X_train, X_val, y_train, y_val = train_test_split(X_train, y_train, test_size=0.2, random_state=seed_num)\n",
    "print(X_train.shape)\n",
    "print(X_val.shape)\n",
    "print(X_test.shape)"
   ]
  },
  {
   "cell_type": "markdown",
   "metadata": {},
   "source": [
    "#### Data preprocessing\n",
    "Perform data preprocessing such as normalization, standardization, label encoding etc.\n",
    "______________________________________________________________________________________\n",
    "Description:"
   ]
  },
  {
   "cell_type": "markdown",
   "metadata": {},
   "source": [
    "##### Handling Boolean Values"
   ]
  },
  {
   "cell_type": "code",
   "execution_count": 204,
   "metadata": {},
   "outputs": [],
   "source": [
    "# Convert boolean-like columns to proper boolean data types\n",
    "boolean_cols = [\n",
    "    'Smokes', 'Smokes (years)', 'Smokes (packs/year)', 'Hormonal Contraceptives', 'IUD',\n",
    "    'STDs', 'STDs:condylomatosis', 'STDs:cervical condylomatosis', 'STDs:vaginal condylomatosis',\n",
    "    'STDs:vulvo-perineal condylomatosis', 'STDs:syphilis', 'STDs:pelvic inflammatory disease',\n",
    "    'STDs:genital herpes', 'STDs:molluscum contagiosum', 'STDs:AIDS', 'STDs:HIV', 'STDs:Hepatitis B',\n",
    "    'STDs:HPV', 'Dx:Cancer', 'Dx:CIN', 'Dx:HPV', 'Dx', 'Hinselmann', 'Schiller', 'Citology', 'Biopsy'\n",
    "]\n",
    "\n",
    "# Convert boolean-like columns to numeric\n",
    "df[boolean_cols] = df[boolean_cols].apply(pd.to_numeric, errors='coerce')\n",
    "\n",
    "# Replace values greater than 0 with 1, leave missing values untouched\n",
    "df[boolean_cols] = df[boolean_cols].applymap(lambda x: 1 if x > 0 else x)\n"
   ]
  },
  {
   "cell_type": "markdown",
   "metadata": {},
   "source": [
    "##### Check for the sum of missing values"
   ]
  },
  {
   "cell_type": "code",
   "execution_count": 205,
   "metadata": {},
   "outputs": [
    {
     "name": "stdout",
     "output_type": "stream",
     "text": [
      "Age                                     0\n",
      "Number of sexual partners              26\n",
      "First sexual intercourse                7\n",
      "Num of pregnancies                     56\n",
      "Smokes                                 13\n",
      "Smokes (years)                         13\n",
      "Smokes (packs/year)                    13\n",
      "Hormonal Contraceptives               108\n",
      "Hormonal Contraceptives (years)       108\n",
      "IUD                                   117\n",
      "IUD (years)                           117\n",
      "STDs                                  105\n",
      "STDs (number)                         105\n",
      "STDs:condylomatosis                   105\n",
      "STDs:cervical condylomatosis          105\n",
      "STDs:vaginal condylomatosis           105\n",
      "STDs:vulvo-perineal condylomatosis    105\n",
      "STDs:syphilis                         105\n",
      "STDs:pelvic inflammatory disease      105\n",
      "STDs:genital herpes                   105\n",
      "STDs:molluscum contagiosum            105\n",
      "STDs:AIDS                             105\n",
      "STDs:HIV                              105\n",
      "STDs:Hepatitis B                      105\n",
      "STDs:HPV                              105\n",
      "STDs: Number of diagnosis               0\n",
      "STDs: Time since first diagnosis      787\n",
      "STDs: Time since last diagnosis       787\n",
      "Dx:Cancer                               0\n",
      "Dx:CIN                                  0\n",
      "Dx:HPV                                  0\n",
      "Dx                                      0\n",
      "Hinselmann                              0\n",
      "Schiller                                0\n",
      "Citology                                0\n",
      "Biopsy                                  0\n",
      "dtype: int64\n"
     ]
    }
   ],
   "source": [
    "print(df.isnull().sum())"
   ]
  },
  {
   "cell_type": "markdown",
   "metadata": {},
   "source": [
    "##### Dropping Columns with too high missing values"
   ]
  },
  {
   "cell_type": "code",
   "execution_count": 206,
   "metadata": {},
   "outputs": [
    {
     "name": "stdout",
     "output_type": "stream",
     "text": [
      "Age                                     0\n",
      "Number of sexual partners              26\n",
      "First sexual intercourse                7\n",
      "Num of pregnancies                     56\n",
      "Smokes                                 13\n",
      "Smokes (years)                         13\n",
      "Smokes (packs/year)                    13\n",
      "Hormonal Contraceptives               108\n",
      "Hormonal Contraceptives (years)       108\n",
      "IUD                                   117\n",
      "IUD (years)                           117\n",
      "STDs                                  105\n",
      "STDs (number)                         105\n",
      "STDs:condylomatosis                   105\n",
      "STDs:cervical condylomatosis          105\n",
      "STDs:vaginal condylomatosis           105\n",
      "STDs:vulvo-perineal condylomatosis    105\n",
      "STDs:syphilis                         105\n",
      "STDs:pelvic inflammatory disease      105\n",
      "STDs:genital herpes                   105\n",
      "STDs:molluscum contagiosum            105\n",
      "STDs:AIDS                             105\n",
      "STDs:HIV                              105\n",
      "STDs:Hepatitis B                      105\n",
      "STDs:HPV                              105\n",
      "STDs: Number of diagnosis               0\n",
      "Dx:Cancer                               0\n",
      "Dx:CIN                                  0\n",
      "Dx:HPV                                  0\n",
      "Dx                                      0\n",
      "Hinselmann                              0\n",
      "Schiller                                0\n",
      "Citology                                0\n",
      "Biopsy                                  0\n",
      "dtype: int64\n"
     ]
    },
    {
     "data": {
      "text/plain": [
       "(858, 34)"
      ]
     },
     "execution_count": 206,
     "metadata": {},
     "output_type": "execute_result"
    }
   ],
   "source": [
    "# Set the threshold for dropping columns\n",
    "threshold = 0.5  #keep columns with at least 50% non-null values\n",
    "\n",
    "# Calculate the minimum number of non-null values required for each column to be retained\n",
    "min_non_null_values = len(df) * threshold\n",
    "\n",
    "# Drop columns with too many missing values\n",
    "df = df.dropna(axis=1, thresh=min_non_null_values)\n",
    "\n",
    "# Print the remaining missing values count after dropping columns\n",
    "print(df.isnull().sum())\n",
    "\n",
    "df.shape\n"
   ]
  },
  {
   "cell_type": "markdown",
   "metadata": {},
   "source": [
    "##### Dropping Rows with missing values"
   ]
  },
  {
   "cell_type": "code",
   "execution_count": 207,
   "metadata": {},
   "outputs": [
    {
     "name": "stdout",
     "output_type": "stream",
     "text": [
      "Age                                   0\n",
      "Number of sexual partners             0\n",
      "First sexual intercourse              0\n",
      "Num of pregnancies                    0\n",
      "Smokes                                0\n",
      "Smokes (years)                        0\n",
      "Smokes (packs/year)                   0\n",
      "Hormonal Contraceptives               0\n",
      "Hormonal Contraceptives (years)       0\n",
      "IUD                                   0\n",
      "IUD (years)                           0\n",
      "STDs                                  0\n",
      "STDs (number)                         0\n",
      "STDs:condylomatosis                   0\n",
      "STDs:cervical condylomatosis          0\n",
      "STDs:vaginal condylomatosis           0\n",
      "STDs:vulvo-perineal condylomatosis    0\n",
      "STDs:syphilis                         0\n",
      "STDs:pelvic inflammatory disease      0\n",
      "STDs:genital herpes                   0\n",
      "STDs:molluscum contagiosum            0\n",
      "STDs:AIDS                             0\n",
      "STDs:HIV                              0\n",
      "STDs:Hepatitis B                      0\n",
      "STDs:HPV                              0\n",
      "STDs: Number of diagnosis             0\n",
      "Dx:Cancer                             0\n",
      "Dx:CIN                                0\n",
      "Dx:HPV                                0\n",
      "Dx                                    0\n",
      "Hinselmann                            0\n",
      "Schiller                              0\n",
      "Citology                              0\n",
      "Biopsy                                0\n",
      "dtype: int64\n"
     ]
    }
   ],
   "source": [
    "# Drop rows with missing values\n",
    "df = df.dropna()\n",
    "\n",
    "# Print the remaining missing values count after dropping rows\n",
    "print(df.isnull().sum())\n",
    "\n",
    "# Print the shape of the cleaned dataset\n",
    "df.shape\n",
    "\n",
    "#export cleaned data\n",
    "df.to_csv('risk_factors_clean.csv', index=False)"
   ]
  },
  {
   "cell_type": "markdown",
   "metadata": {},
   "source": [
    "#### Feature Selection\n",
    "Perform feature selection to select the relevant features.\n",
    "______________________________________________________________________________________\n",
    "Feature Selection Using Random Forest\n",
    "\n",
    "Step 1: Loading dataset\n",
    "\n",
    "Step 2: Train Test Split\n",
    "\n",
    "Step 3: Import Random Forest Classifier module.\n",
    "\n",
    "Step 4: Training of Model"
   ]
  },
  {
   "cell_type": "code",
   "execution_count": 208,
   "metadata": {},
   "outputs": [],
   "source": [
    "df = pd.read_csv('risk_factors_clean.csv', na_values='?')"
   ]
  },
  {
   "cell_type": "code",
   "execution_count": 209,
   "metadata": {},
   "outputs": [],
   "source": [
    "y = df[['Hinselmann', 'Schiller', 'Citology', 'Biopsy']]\n",
    "X = df.drop(['Hinselmann', 'Schiller', 'Citology', 'Biopsy'], axis=1)\n",
    "scaler = StandardScaler()\n",
    "X_transform = scaler.fit_transform(X)"
   ]
  },
  {
   "cell_type": "code",
   "execution_count": 210,
   "metadata": {},
   "outputs": [],
   "source": [
    "seed_num = 10\n",
    "X_train, X_test, y_train, y_test = train_test_split(X_transform, y, test_size=0.3, random_state=seed_num) # random_state is set to a value for reproducible␣output."
   ]
  },
  {
   "cell_type": "code",
   "execution_count": 211,
   "metadata": {},
   "outputs": [],
   "source": [
    "from sklearn.ensemble import RandomForestClassifier"
   ]
  },
  {
   "cell_type": "code",
   "execution_count": 212,
   "metadata": {},
   "outputs": [
    {
     "name": "stdout",
     "output_type": "stream",
     "text": [
      "\n",
      "ACCURACY OF THE MODEL: 0.8557213930348259\n"
     ]
    }
   ],
   "source": [
    "# creating a RF classifier\n",
    "clf = RandomForestClassifier(n_estimators = 100)  \n",
    " \n",
    "# Training the model on the training dataset\n",
    "# fit function is used to train the model using the training sets as parameters\n",
    "clf.fit(X_train, y_train)\n",
    " \n",
    "# performing predictions on the test dataset\n",
    "y_pred = clf.predict(X_test)\n",
    " \n",
    "# metrics are used to find accuracy or error\n",
    "from sklearn import metrics  \n",
    "print()\n",
    " \n",
    "# using metrics module for accuracy calculation\n",
    "print(\"ACCURACY OF THE MODEL:\", metrics.accuracy_score(y_test, y_pred))"
   ]
  },
  {
   "cell_type": "code",
   "execution_count": 213,
   "metadata": {},
   "outputs": [
    {
     "data": {
      "text/plain": [
       "Age                                   0.209201\n",
       "Hormonal Contraceptives (years)       0.161375\n",
       "First sexual intercourse              0.157461\n",
       "Number of sexual partners             0.112091\n",
       "Num of pregnancies                    0.106691\n",
       "IUD (years)                           0.038003\n",
       "Hormonal Contraceptives               0.028212\n",
       "Dx:HPV                                0.022131\n",
       "STDs (number)                         0.020098\n",
       "IUD                                   0.018015\n",
       "Dx:Cancer                             0.017988\n",
       "STDs:HIV                              0.016870\n",
       "Smokes                                0.015408\n",
       "Dx                                    0.013123\n",
       "Smokes (years)                        0.013039\n",
       "Smokes (packs/year)                   0.012752\n",
       "STDs: Number of diagnosis             0.011544\n",
       "STDs:condylomatosis                   0.005987\n",
       "STDs                                  0.005765\n",
       "Dx:CIN                                0.004757\n",
       "STDs:vulvo-perineal condylomatosis    0.003851\n",
       "STDs:syphilis                         0.003190\n",
       "STDs:vaginal condylomatosis           0.001939\n",
       "STDs:Hepatitis B                      0.000278\n",
       "STDs:molluscum contagiosum            0.000148\n",
       "STDs:HPV                              0.000067\n",
       "STDs:pelvic inflammatory disease      0.000014\n",
       "STDs:cervical condylomatosis          0.000000\n",
       "STDs:genital herpes                   0.000000\n",
       "STDs:AIDS                             0.000000\n",
       "dtype: float64"
      ]
     },
     "execution_count": 213,
     "metadata": {},
     "output_type": "execute_result"
    }
   ],
   "source": [
    "feature_imp = pd.Series(clf.feature_importances_, index = X.columns).sort_values(ascending = False)\n",
    "feature_imp ##print the features significant in ascending order"
   ]
  },
  {
   "cell_type": "code",
   "execution_count": 214,
   "metadata": {},
   "outputs": [],
   "source": [
    "##Take 5 most important features\n",
    "X = df[['Age','First sexual intercourse', 'Hormonal Contraceptives (years)', 'Number of sexual partners', 'Num of pregnancies']]"
   ]
  },
  {
   "cell_type": "code",
   "execution_count": 215,
   "metadata": {},
   "outputs": [],
   "source": [
    "seed_num = 10\n",
    "X_train, X_test, y_train, y_test = train_test_split(X_transform, y, test_size=0.3, random_state=seed_num) # random_state is set to a value for reproducible␣output."
   ]
  },
  {
   "cell_type": "code",
   "execution_count": 216,
   "metadata": {},
   "outputs": [
    {
     "name": "stdout",
     "output_type": "stream",
     "text": [
      "\n",
      "ACCURACY OF THE MODEL: 0.8656716417910447\n"
     ]
    }
   ],
   "source": [
    "# creating a RF classifier\n",
    "clf = RandomForestClassifier(n_estimators = 100)  \n",
    " \n",
    "# Training the model on the training dataset\n",
    "# fit function is used to train the model using the training sets as parameters\n",
    "clf.fit(X_train, y_train)\n",
    " \n",
    "# performing predictions on the test dataset\n",
    "y_pred = clf.predict(X_test)\n",
    " \n",
    "# metrics are used to find accuracy or error\n",
    "from sklearn import metrics  \n",
    "print()\n",
    " \n",
    "# using metrics module for accuracy calculation\n",
    "print(\"ACCURACY OF THE MODEL:\", metrics.accuracy_score(y_test, y_pred))"
   ]
  },
  {
   "cell_type": "markdown",
   "metadata": {},
   "source": [
    "_**As the result, the accuracy of the model when we take the 5 most significant features is exactly\n",
    "the same as the accuracy of the model using all 30 features, indicating that the selected features effectively \n",
    "capture the essential information for making predictions.**_"
   ]
  },
  {
   "cell_type": "markdown",
   "metadata": {},
   "source": [
    "#### Data modeling\n",
    "Build the machine learning models. You must build atleast two (2) predictive models. One of the predictive models must be either Decision Tree or Support Vector Machine.\n",
    "______________________________________________________________________________________\n",
    "Description:"
   ]
  },
  {
   "cell_type": "markdown",
   "metadata": {},
   "source": [
    "## Decision Tree"
   ]
  },
  {
   "cell_type": "code",
   "execution_count": null,
   "metadata": {},
   "outputs": [],
   "source": []
  },
  {
   "cell_type": "markdown",
   "metadata": {},
   "source": [
    "## Support Vector Machine"
   ]
  },
  {
   "cell_type": "code",
   "execution_count": 225,
   "metadata": {},
   "outputs": [
    {
     "data": {
      "text/plain": [
       "{'mean_fit_time': array([0.01059834, 0.0102129 , 0.01136589, 0.01086052, 0.01018858,\n",
       "        0.01153493, 0.0116748 , 0.01204038, 0.01253303, 0.01119765,\n",
       "        0.01052586, 0.00965063, 0.01141707, 0.01039561, 0.01128443,\n",
       "        0.01044703, 0.01192602, 0.01038774, 0.01905878, 0.01117333,\n",
       "        0.02170038, 0.01460934, 0.0239025 , 0.01103179]),\n",
       " 'std_fit_time': array([1.06802086e-03, 4.67004975e-04, 6.26880507e-04, 4.70490713e-04,\n",
       "        4.70528232e-04, 1.43020040e-03, 1.28529031e-03, 1.47093657e-03,\n",
       "        2.15847339e-03, 1.24384893e-03, 1.41423396e-03, 9.90039828e-05,\n",
       "        6.01268159e-04, 6.28594682e-04, 5.36501222e-04, 1.37126401e-03,\n",
       "        1.24133065e-03, 2.24760136e-03, 2.34242038e-03, 4.80603063e-04,\n",
       "        5.21319968e-03, 5.68697260e-03, 7.65941610e-03, 4.75884612e-04]),\n",
       " 'mean_score_time': array([0.01055702, 0.00720636, 0.00668073, 0.00768232, 0.00885415,\n",
       "        0.00884628, 0.00753077, 0.00842086, 0.00753633, 0.00752211,\n",
       "        0.00786757, 0.00753236, 0.00693353, 0.00705886, 0.0084765 ,\n",
       "        0.00695237, 0.00916719, 0.00744685, 0.00891701, 0.00747363,\n",
       "        0.01529169, 0.01468897, 0.01053206, 0.00815344]),\n",
       " 'std_score_time': array([4.07670874e-04, 5.69482938e-04, 6.28937939e-04, 6.29808930e-04,\n",
       "        3.31543969e-03, 9.42076093e-04, 1.63211198e-03, 1.49692292e-03,\n",
       "        1.44976446e-05, 8.12845293e-04, 4.73394043e-04, 7.34542866e-04,\n",
       "        6.67195734e-04, 4.50411042e-04, 9.57747167e-04, 4.26213665e-04,\n",
       "        2.69100359e-03, 8.90939113e-04, 6.96268042e-04, 4.71407387e-05,\n",
       "        7.54111624e-03, 3.33419355e-03, 2.70383766e-03, 3.70419768e-04]),\n",
       " 'param_estimator__C': masked_array(data=[0.1, 0.1, 0.1, 0.1, 0.1, 0.1, 0.5, 0.5, 0.5, 0.5, 0.5,\n",
       "                    0.5, 1, 1, 1, 1, 1, 1, 5, 5, 5, 5, 5, 5],\n",
       "              mask=[False, False, False, False, False, False, False, False,\n",
       "                    False, False, False, False, False, False, False, False,\n",
       "                    False, False, False, False, False, False, False, False],\n",
       "        fill_value='?',\n",
       "             dtype=object),\n",
       " 'param_estimator__coef0': masked_array(data=[0, 0, 2, 2, 5, 5, 0, 0, 2, 2, 5, 5, 0, 0, 2, 2, 5, 5,\n",
       "                    0, 0, 2, 2, 5, 5],\n",
       "              mask=[False, False, False, False, False, False, False, False,\n",
       "                    False, False, False, False, False, False, False, False,\n",
       "                    False, False, False, False, False, False, False, False],\n",
       "        fill_value='?',\n",
       "             dtype=object),\n",
       " 'param_estimator__kernel': masked_array(data=['linear', 'sigmoid', 'linear', 'sigmoid', 'linear',\n",
       "                    'sigmoid', 'linear', 'sigmoid', 'linear', 'sigmoid',\n",
       "                    'linear', 'sigmoid', 'linear', 'sigmoid', 'linear',\n",
       "                    'sigmoid', 'linear', 'sigmoid', 'linear', 'sigmoid',\n",
       "                    'linear', 'sigmoid', 'linear', 'sigmoid'],\n",
       "              mask=[False, False, False, False, False, False, False, False,\n",
       "                    False, False, False, False, False, False, False, False,\n",
       "                    False, False, False, False, False, False, False, False],\n",
       "        fill_value='?',\n",
       "             dtype=object),\n",
       " 'params': [{'estimator__C': 0.1,\n",
       "   'estimator__coef0': 0,\n",
       "   'estimator__kernel': 'linear'},\n",
       "  {'estimator__C': 0.1, 'estimator__coef0': 0, 'estimator__kernel': 'sigmoid'},\n",
       "  {'estimator__C': 0.1, 'estimator__coef0': 2, 'estimator__kernel': 'linear'},\n",
       "  {'estimator__C': 0.1, 'estimator__coef0': 2, 'estimator__kernel': 'sigmoid'},\n",
       "  {'estimator__C': 0.1, 'estimator__coef0': 5, 'estimator__kernel': 'linear'},\n",
       "  {'estimator__C': 0.1, 'estimator__coef0': 5, 'estimator__kernel': 'sigmoid'},\n",
       "  {'estimator__C': 0.5, 'estimator__coef0': 0, 'estimator__kernel': 'linear'},\n",
       "  {'estimator__C': 0.5, 'estimator__coef0': 0, 'estimator__kernel': 'sigmoid'},\n",
       "  {'estimator__C': 0.5, 'estimator__coef0': 2, 'estimator__kernel': 'linear'},\n",
       "  {'estimator__C': 0.5, 'estimator__coef0': 2, 'estimator__kernel': 'sigmoid'},\n",
       "  {'estimator__C': 0.5, 'estimator__coef0': 5, 'estimator__kernel': 'linear'},\n",
       "  {'estimator__C': 0.5, 'estimator__coef0': 5, 'estimator__kernel': 'sigmoid'},\n",
       "  {'estimator__C': 1, 'estimator__coef0': 0, 'estimator__kernel': 'linear'},\n",
       "  {'estimator__C': 1, 'estimator__coef0': 0, 'estimator__kernel': 'sigmoid'},\n",
       "  {'estimator__C': 1, 'estimator__coef0': 2, 'estimator__kernel': 'linear'},\n",
       "  {'estimator__C': 1, 'estimator__coef0': 2, 'estimator__kernel': 'sigmoid'},\n",
       "  {'estimator__C': 1, 'estimator__coef0': 5, 'estimator__kernel': 'linear'},\n",
       "  {'estimator__C': 1, 'estimator__coef0': 5, 'estimator__kernel': 'sigmoid'},\n",
       "  {'estimator__C': 5, 'estimator__coef0': 0, 'estimator__kernel': 'linear'},\n",
       "  {'estimator__C': 5, 'estimator__coef0': 0, 'estimator__kernel': 'sigmoid'},\n",
       "  {'estimator__C': 5, 'estimator__coef0': 2, 'estimator__kernel': 'linear'},\n",
       "  {'estimator__C': 5, 'estimator__coef0': 2, 'estimator__kernel': 'sigmoid'},\n",
       "  {'estimator__C': 5, 'estimator__coef0': 5, 'estimator__kernel': 'linear'},\n",
       "  {'estimator__C': 5, 'estimator__coef0': 5, 'estimator__kernel': 'sigmoid'}],\n",
       " 'split0_test_accuracy': array([0.84615385, 0.8525641 , 0.84615385, 0.8525641 , 0.84615385,\n",
       "        0.8525641 , 0.82692308, 0.8525641 , 0.82692308, 0.8525641 ,\n",
       "        0.82692308, 0.8525641 , 0.82692308, 0.83333333, 0.82692308,\n",
       "        0.8525641 , 0.82692308, 0.8525641 , 0.82692308, 0.80769231,\n",
       "        0.82692308, 0.8525641 , 0.82692308, 0.8525641 ]),\n",
       " 'split1_test_accuracy': array([0.84615385, 0.86538462, 0.84615385, 0.86538462, 0.84615385,\n",
       "        0.86538462, 0.82692308, 0.86538462, 0.82692308, 0.86538462,\n",
       "        0.82692308, 0.86538462, 0.82692308, 0.85897436, 0.82692308,\n",
       "        0.86538462, 0.82692308, 0.86538462, 0.82692308, 0.82692308,\n",
       "        0.82692308, 0.86538462, 0.82692308, 0.86538462]),\n",
       " 'split2_test_accuracy': array([0.88387097, 0.89677419, 0.88387097, 0.89677419, 0.88387097,\n",
       "        0.89677419, 0.88387097, 0.89677419, 0.88387097, 0.89677419,\n",
       "        0.88387097, 0.89677419, 0.88387097, 0.89677419, 0.88387097,\n",
       "        0.89677419, 0.88387097, 0.89677419, 0.88387097, 0.88387097,\n",
       "        0.88387097, 0.89677419, 0.88387097, 0.89677419]),\n",
       " 'mean_test_accuracy': array([0.85872622, 0.8715743 , 0.85872622, 0.8715743 , 0.85872622,\n",
       "        0.8715743 , 0.84590571, 0.8715743 , 0.84590571, 0.8715743 ,\n",
       "        0.84590571, 0.8715743 , 0.84590571, 0.8630273 , 0.84590571,\n",
       "        0.8715743 , 0.84590571, 0.8715743 , 0.84590571, 0.83949545,\n",
       "        0.84590571, 0.8715743 , 0.84590571, 0.8715743 ]),\n",
       " 'std_test_accuracy': array([0.01778002, 0.01857179, 0.01778002, 0.01857179, 0.01778002,\n",
       "        0.01857179, 0.02684549, 0.01857179, 0.02684549, 0.01857179,\n",
       "        0.02684549, 0.01857179, 0.02684549, 0.0260577 , 0.02684549,\n",
       "        0.01857179, 0.02684549, 0.01857179, 0.02684549, 0.03234548,\n",
       "        0.02684549, 0.01857179, 0.02684549, 0.01857179]),\n",
       " 'rank_test_accuracy': array([12,  1, 12,  1, 12,  1, 15,  1, 15,  1, 15,  1, 15, 11, 15,  1, 15,\n",
       "         1, 15, 24, 15,  1, 15,  1]),\n",
       " 'split0_test_precision': array([nan, nan, nan, nan, nan, nan, nan, nan, nan, nan, nan, nan, nan,\n",
       "        nan, nan, nan, nan, nan, nan, nan, nan, nan, nan, nan]),\n",
       " 'split1_test_precision': array([nan, nan, nan, nan, nan, nan, nan, nan, nan, nan, nan, nan, nan,\n",
       "        nan, nan, nan, nan, nan, nan, nan, nan, nan, nan, nan]),\n",
       " 'split2_test_precision': array([nan, nan, nan, nan, nan, nan, nan, nan, nan, nan, nan, nan, nan,\n",
       "        nan, nan, nan, nan, nan, nan, nan, nan, nan, nan, nan]),\n",
       " 'mean_test_precision': array([nan, nan, nan, nan, nan, nan, nan, nan, nan, nan, nan, nan, nan,\n",
       "        nan, nan, nan, nan, nan, nan, nan, nan, nan, nan, nan]),\n",
       " 'std_test_precision': array([nan, nan, nan, nan, nan, nan, nan, nan, nan, nan, nan, nan, nan,\n",
       "        nan, nan, nan, nan, nan, nan, nan, nan, nan, nan, nan]),\n",
       " 'rank_test_precision': array([1, 1, 1, 1, 1, 1, 1, 1, 1, 1, 1, 1, 1, 1, 1, 1, 1, 1, 1, 1, 1, 1,\n",
       "        1, 1]),\n",
       " 'split0_test_recall': array([nan, nan, nan, nan, nan, nan, nan, nan, nan, nan, nan, nan, nan,\n",
       "        nan, nan, nan, nan, nan, nan, nan, nan, nan, nan, nan]),\n",
       " 'split1_test_recall': array([nan, nan, nan, nan, nan, nan, nan, nan, nan, nan, nan, nan, nan,\n",
       "        nan, nan, nan, nan, nan, nan, nan, nan, nan, nan, nan]),\n",
       " 'split2_test_recall': array([nan, nan, nan, nan, nan, nan, nan, nan, nan, nan, nan, nan, nan,\n",
       "        nan, nan, nan, nan, nan, nan, nan, nan, nan, nan, nan]),\n",
       " 'mean_test_recall': array([nan, nan, nan, nan, nan, nan, nan, nan, nan, nan, nan, nan, nan,\n",
       "        nan, nan, nan, nan, nan, nan, nan, nan, nan, nan, nan]),\n",
       " 'std_test_recall': array([nan, nan, nan, nan, nan, nan, nan, nan, nan, nan, nan, nan, nan,\n",
       "        nan, nan, nan, nan, nan, nan, nan, nan, nan, nan, nan]),\n",
       " 'rank_test_recall': array([1, 1, 1, 1, 1, 1, 1, 1, 1, 1, 1, 1, 1, 1, 1, 1, 1, 1, 1, 1, 1, 1,\n",
       "        1, 1]),\n",
       " 'split0_test_f1': array([nan, nan, nan, nan, nan, nan, nan, nan, nan, nan, nan, nan, nan,\n",
       "        nan, nan, nan, nan, nan, nan, nan, nan, nan, nan, nan]),\n",
       " 'split1_test_f1': array([nan, nan, nan, nan, nan, nan, nan, nan, nan, nan, nan, nan, nan,\n",
       "        nan, nan, nan, nan, nan, nan, nan, nan, nan, nan, nan]),\n",
       " 'split2_test_f1': array([nan, nan, nan, nan, nan, nan, nan, nan, nan, nan, nan, nan, nan,\n",
       "        nan, nan, nan, nan, nan, nan, nan, nan, nan, nan, nan]),\n",
       " 'mean_test_f1': array([nan, nan, nan, nan, nan, nan, nan, nan, nan, nan, nan, nan, nan,\n",
       "        nan, nan, nan, nan, nan, nan, nan, nan, nan, nan, nan]),\n",
       " 'std_test_f1': array([nan, nan, nan, nan, nan, nan, nan, nan, nan, nan, nan, nan, nan,\n",
       "        nan, nan, nan, nan, nan, nan, nan, nan, nan, nan, nan]),\n",
       " 'rank_test_f1': array([1, 1, 1, 1, 1, 1, 1, 1, 1, 1, 1, 1, 1, 1, 1, 1, 1, 1, 1, 1, 1, 1,\n",
       "        1, 1])}"
      ]
     },
     "execution_count": 225,
     "metadata": {},
     "output_type": "execute_result"
    }
   ],
   "source": [
    "from sklearn.multioutput import MultiOutputClassifier\n",
    "from sklearn.model_selection import GridSearchCV \n",
    "from sklearn.svm import SVC\n",
    "\n",
    "parameters = {'estimator__kernel': ['linear', 'sigmoid'], 'estimator__C': [0.1, 0.5, 1, 5], 'estimator__coef0': [0, 2, 5]}\n",
    "clf = MultiOutputClassifier(SVC())\n",
    "gsc = GridSearchCV(clf, parameters, cv=3, scoring=['accuracy', 'precision', 'recall', 'f1'], n_jobs=3, refit='f1')\n",
    "gsc.fit(X_train, y_train)\n",
    "gsc.cv_results_\n"
   ]
  },
  {
   "cell_type": "code",
   "execution_count": 223,
   "metadata": {},
   "outputs": [
    {
     "name": "stdout",
     "output_type": "stream",
     "text": [
      "{'estimator__C': 0.1, 'estimator__coef0': 0, 'estimator__kernel': 'linear'}\n",
      "0\n"
     ]
    }
   ],
   "source": [
    "print(gsc.best_params_)\n",
    "print(gsc.best_index_)"
   ]
  },
  {
   "cell_type": "markdown",
   "metadata": {},
   "source": [
    "**Build SVM model with the best parameters**"
   ]
  },
  {
   "cell_type": "code",
   "execution_count": 172,
   "metadata": {},
   "outputs": [],
   "source": [
    "from sklearn.svm import SVC\n",
    "C = 0.1\n",
    "model_svc = SVC(kernel='linear', C=C)"
   ]
  },
  {
   "cell_type": "code",
   "execution_count": 224,
   "metadata": {},
   "outputs": [
    {
     "name": "stdout",
     "output_type": "stream",
     "text": [
      "0.8557213930348259\n",
      "[[[193   0]\n",
      "  [  8   0]]\n",
      "\n",
      " [[176   4]\n",
      "  [ 20   1]]\n",
      "\n",
      " [[192   0]\n",
      "  [  9   0]]\n",
      "\n",
      " [[182   4]\n",
      "  [ 14   1]]]\n",
      "              precision    recall  f1-score   support\n",
      "\n",
      "           0       0.00      0.00      0.00         8\n",
      "           1       0.20      0.05      0.08        21\n",
      "           2       0.00      0.00      0.00         9\n",
      "           3       0.20      0.07      0.10        15\n",
      "\n",
      "   micro avg       0.20      0.04      0.06        53\n",
      "   macro avg       0.10      0.03      0.04        53\n",
      "weighted avg       0.14      0.04      0.06        53\n",
      " samples avg       0.00      0.00      0.00        53\n",
      "\n"
     ]
    }
   ],
   "source": [
    "multi_target_svm = MultiOutputClassifier(model_svc)  \n",
    "\n",
    "# Fit the classifier to the data\n",
    "multi_target_svm.fit(X_train, y_train)\n",
    "\n",
    "# Predictions\n",
    "y_pred = multi_target_svm.predict(X_test)\n",
    "from sklearn.metrics import accuracy_score, multilabel_confusion_matrix,classification_report\n",
    "print(accuracy_score(y_test, y_pred))\n",
    "print(multilabel_confusion_matrix(y_test, y_pred))\n",
    "print(classification_report(y_test, y_pred))"
   ]
  },
  {
   "cell_type": "code",
   "execution_count": 184,
   "metadata": {},
   "outputs": [
    {
     "name": "stdout",
     "output_type": "stream",
     "text": [
      "0.8557213930348259\n",
      "[[[193   0]\n",
      "  [  8   0]]\n",
      "\n",
      " [[176   4]\n",
      "  [ 20   1]]\n",
      "\n",
      " [[192   0]\n",
      "  [  9   0]]\n",
      "\n",
      " [[182   4]\n",
      "  [ 14   1]]]\n",
      "              precision    recall  f1-score   support\n",
      "\n",
      "           0       0.00      0.00      0.00         8\n",
      "           1       0.20      0.05      0.08        21\n",
      "           2       0.00      0.00      0.00         9\n",
      "           3       0.20      0.07      0.10        15\n",
      "\n",
      "   micro avg       0.20      0.04      0.06        53\n",
      "   macro avg       0.10      0.03      0.04        53\n",
      "weighted avg       0.14      0.04      0.06        53\n",
      " samples avg       0.00      0.00      0.00        53\n",
      "\n"
     ]
    }
   ],
   "source": []
  },
  {
   "cell_type": "markdown",
   "metadata": {},
   "source": [
    "#### Evaluate the models\n",
    "Perform a comparison between the predictive models. <br>\n",
    "Report the accuracy, recall, precision and F1-score measures as well as the confusion matrix if it is a classification problem. <br>\n",
    "Report the R2 score, mean squared error and mean absolute error if it is a regression problem.\n",
    "______________________________________________________________________________________\n",
    "Description:"
   ]
  },
  {
   "cell_type": "code",
   "execution_count": null,
   "metadata": {},
   "outputs": [],
   "source": []
  }
 ],
 "metadata": {
  "kernelspec": {
   "display_name": "Python 3 (ipykernel)",
   "language": "python",
   "name": "python3"
  },
  "language_info": {
   "codemirror_mode": {
    "name": "ipython",
    "version": 3
   },
   "file_extension": ".py",
   "mimetype": "text/x-python",
   "name": "python",
   "nbconvert_exporter": "python",
   "pygments_lexer": "ipython3",
   "version": "3.10.9"
  }
 },
 "nbformat": 4,
 "nbformat_minor": 4
}
